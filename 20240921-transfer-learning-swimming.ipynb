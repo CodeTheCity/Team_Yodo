{
    "cells": [
        {
            "cell_type": "code",
            "execution_count": null,
            "metadata": {
                "execution": {
                    "iopub.execute_input": "2024-09-21T12:21:53.582467Z",
                    "iopub.status.busy": "2024-09-21T12:21:53.582167Z",
                    "iopub.status.idle": "2024-09-21T12:22:09.561572Z",
                    "shell.execute_reply": "2024-09-21T12:22:09.560590Z",
                    "shell.execute_reply.started": "2024-09-21T12:21:53.582434Z"
                },
                "trusted": true
            },
            "outputs": [],
            "source": [
                "# !pip install ultralytics --verbose"
            ]
        },
        {
            "cell_type": "code",
            "execution_count": null,
            "metadata": {
                "execution": {
                    "iopub.execute_input": "2024-09-21T12:22:14.392760Z",
                    "iopub.status.busy": "2024-09-21T12:22:14.392349Z",
                    "iopub.status.idle": "2024-09-21T12:22:15.722810Z",
                    "shell.execute_reply": "2024-09-21T12:22:15.721572Z",
                    "shell.execute_reply.started": "2024-09-21T12:22:14.392721Z"
                },
                "trusted": true
            },
            "outputs": [],
            "source": [
                "# !wget https://github.com/ultralytics/assets/releases/download/v8.2.0/yolov8n.pt"
            ]
        },
        {
            "cell_type": "code",
            "execution_count": 1,
            "metadata": {
                "execution": {
                    "iopub.execute_input": "2024-09-21T12:51:39.108549Z",
                    "iopub.status.busy": "2024-09-21T12:51:39.108116Z",
                    "iopub.status.idle": "2024-09-21T12:51:39.113014Z",
                    "shell.execute_reply": "2024-09-21T12:51:39.112048Z",
                    "shell.execute_reply.started": "2024-09-21T12:51:39.108498Z"
                },
                "trusted": true
            },
            "outputs": [],
            "source": [
                "from ultralytics import YOLO\n"
            ]
        },
        {
            "cell_type": "code",
            "execution_count": 2,
            "metadata": {
                "execution": {
                    "iopub.execute_input": "2024-09-21T12:51:41.668767Z",
                    "iopub.status.busy": "2024-09-21T12:51:41.668118Z",
                    "iopub.status.idle": "2024-09-21T12:51:41.729070Z",
                    "shell.execute_reply": "2024-09-21T12:51:41.728081Z",
                    "shell.execute_reply.started": "2024-09-21T12:51:41.668725Z"
                },
                "trusted": true
            },
            "outputs": [
                {
                    "data": {
                        "text/plain": [
                            "'NVIDIA GeForce RTX 4060 Laptop GPU'"
                        ]
                    },
                    "execution_count": 2,
                    "metadata": {},
                    "output_type": "execute_result"
                }
            ],
            "source": [
                "from torch import cuda\n",
                "import torch\n",
                "\n",
                "model = YOLO(\"yolov10n.pt\")\n",
                "torch.cuda.get_device_name(0)"
            ]
        },
        {
            "cell_type": "code",
            "execution_count": 6,
            "metadata": {
                "execution": {
                    "iopub.execute_input": "2024-09-21T12:51:52.772733Z",
                    "iopub.status.busy": "2024-09-21T12:51:52.772319Z",
                    "iopub.status.idle": "2024-09-21T12:51:52.777099Z",
                    "shell.execute_reply": "2024-09-21T12:51:52.776114Z",
                    "shell.execute_reply.started": "2024-09-21T12:51:52.772695Z"
                },
                "trusted": true
            },
            "outputs": [],
            "source": [
                "dataset_path = r\"C:\\Users\\arman\\Downloads\\TEAM_YODO\\datasets\\data\\data.yaml\"\n"
            ]
        },
        {
            "cell_type": "code",
            "execution_count": 7,
            "metadata": {
                "execution": {
                    "iopub.execute_input": "2024-09-21T12:51:55.431697Z",
                    "iopub.status.busy": "2024-09-21T12:51:55.431246Z",
                    "iopub.status.idle": "2024-09-21T12:51:55.436236Z",
                    "shell.execute_reply": "2024-09-21T12:51:55.435261Z",
                    "shell.execute_reply.started": "2024-09-21T12:51:55.431656Z"
                },
                "trusted": true
            },
            "outputs": [],
            "source": [
                "import os\n",
                "os.environ[\"WANDB_DISABLED\"] = \"true\""
            ]
        },
        {
            "cell_type": "code",
            "execution_count": 9,
            "metadata": {
                "execution": {
                    "iopub.execute_input": "2024-09-21T12:52:04.285425Z",
                    "iopub.status.busy": "2024-09-21T12:52:04.284995Z"
                },
                "trusted": true
            },
            "outputs": [
                {
                    "name": "stdout",
                    "output_type": "stream",
                    "text": [
                        "Ultralytics YOLOv8.2.98  Python-3.11.9 torch-2.4.1+cu124 CUDA:0 (NVIDIA GeForce RTX 4060 Laptop GPU, 8188MiB)\n",
                        "\u001b[34m\u001b[1mengine\\trainer: \u001b[0mtask=detect, mode=train, model=yolov10n.pt, data=C:\\Users\\arman\\Downloads\\TEAM_YODO\\datasets\\data\\data.yaml, epochs=100, time=None, patience=100, batch=32, imgsz=640, save=True, save_period=-1, cache=False, device=cuda:0, workers=8, project=None, name=swimming_recognition_model5, exist_ok=False, pretrained=True, optimizer=auto, verbose=True, seed=0, deterministic=True, single_cls=False, rect=False, cos_lr=False, close_mosaic=10, resume=False, amp=True, fraction=1.0, profile=False, freeze=None, multi_scale=False, overlap_mask=True, mask_ratio=4, dropout=0.0, val=True, split=val, save_json=False, save_hybrid=False, conf=None, iou=0.7, max_det=300, half=False, dnn=False, plots=True, source=None, vid_stride=1, stream_buffer=False, visualize=False, augment=False, agnostic_nms=False, classes=None, retina_masks=False, embed=None, show=False, save_frames=False, save_txt=False, save_conf=False, save_crop=False, show_labels=True, show_conf=True, show_boxes=True, line_width=None, format=torchscript, keras=False, optimize=False, int8=False, dynamic=False, simplify=False, opset=None, workspace=4, nms=False, lr0=0.01, lrf=0.01, momentum=0.937, weight_decay=0.0005, warmup_epochs=3.0, warmup_momentum=0.8, warmup_bias_lr=0.1, box=7.5, cls=0.5, dfl=1.5, pose=12.0, kobj=1.0, label_smoothing=0.0, nbs=64, hsv_h=0.015, hsv_s=0.7, hsv_v=0.4, degrees=0.0, translate=0.1, scale=0.5, shear=0.0, perspective=0.0, flipud=0.0, fliplr=0.5, bgr=0.0, mosaic=1.0, mixup=0.0, copy_paste=0.0, auto_augment=randaugment, erasing=0.4, crop_fraction=1.0, cfg=None, tracker=botsort.yaml, save_dir=runs\\detect\\swimming_recognition_model5\n",
                        "\n",
                        "                   from  n    params  module                                       arguments                     \n",
                        "  0                  -1  1       464  ultralytics.nn.modules.conv.Conv             [3, 16, 3, 2]                 \n",
                        "  1                  -1  1      4672  ultralytics.nn.modules.conv.Conv             [16, 32, 3, 2]                \n",
                        "  2                  -1  1      7360  ultralytics.nn.modules.block.C2f             [32, 32, 1, True]             \n",
                        "  3                  -1  1     18560  ultralytics.nn.modules.conv.Conv             [32, 64, 3, 2]                \n",
                        "  4                  -1  2     49664  ultralytics.nn.modules.block.C2f             [64, 64, 2, True]             \n",
                        "  5                  -1  1      9856  ultralytics.nn.modules.block.SCDown          [64, 128, 3, 2]               \n",
                        "  6                  -1  2    197632  ultralytics.nn.modules.block.C2f             [128, 128, 2, True]           \n",
                        "  7                  -1  1     36096  ultralytics.nn.modules.block.SCDown          [128, 256, 3, 2]              \n",
                        "  8                  -1  1    460288  ultralytics.nn.modules.block.C2f             [256, 256, 1, True]           \n",
                        "  9                  -1  1    164608  ultralytics.nn.modules.block.SPPF            [256, 256, 5]                 \n",
                        " 10                  -1  1    249728  ultralytics.nn.modules.block.PSA             [256, 256]                    \n",
                        " 11                  -1  1         0  torch.nn.modules.upsampling.Upsample         [None, 2, 'nearest']          \n",
                        " 12             [-1, 6]  1         0  ultralytics.nn.modules.conv.Concat           [1]                           \n",
                        " 13                  -1  1    148224  ultralytics.nn.modules.block.C2f             [384, 128, 1]                 \n",
                        " 14                  -1  1         0  torch.nn.modules.upsampling.Upsample         [None, 2, 'nearest']          \n",
                        " 15             [-1, 4]  1         0  ultralytics.nn.modules.conv.Concat           [1]                           \n",
                        " 16                  -1  1     37248  ultralytics.nn.modules.block.C2f             [192, 64, 1]                  \n",
                        " 17                  -1  1     36992  ultralytics.nn.modules.conv.Conv             [64, 64, 3, 2]                \n",
                        " 18            [-1, 13]  1         0  ultralytics.nn.modules.conv.Concat           [1]                           \n",
                        " 19                  -1  1    123648  ultralytics.nn.modules.block.C2f             [192, 128, 1]                 \n",
                        " 20                  -1  1     18048  ultralytics.nn.modules.block.SCDown          [128, 128, 3, 2]              \n",
                        " 21            [-1, 10]  1         0  ultralytics.nn.modules.conv.Concat           [1]                           \n",
                        " 22                  -1  1    282624  ultralytics.nn.modules.block.C2fCIB          [384, 256, 1, True, True]     \n",
                        " 23        [16, 19, 22]  1    861718  ultralytics.nn.modules.head.v10Detect        [1, [64, 128, 256]]           \n",
                        "YOLOv10n summary: 385 layers, 2,707,430 parameters, 2,707,414 gradients, 8.4 GFLOPs\n",
                        "\n",
                        "Transferred 595/595 items from pretrained weights\n",
                        "Freezing layer 'model.23.dfl.conv.weight'\n",
                        "\u001b[34m\u001b[1mAMP: \u001b[0mrunning Automatic Mixed Precision (AMP) checks with YOLOv8n...\n",
                        "\u001b[34m\u001b[1mAMP: \u001b[0mchecks passed \n"
                    ]
                },
                {
                    "name": "stderr",
                    "output_type": "stream",
                    "text": [
                        "\u001b[34m\u001b[1mtrain: \u001b[0mScanning C:\\Users\\arman\\Downloads\\Team_Yodo\\datasets\\data\\train\\labels.cache... 2290 images, 750 backgrounds, 0 corrupt: 100%|██████████| 2290/2290 [00:00<?, ?it/s]"
                    ]
                },
                {
                    "name": "stdout",
                    "output_type": "stream",
                    "text": [
                        "\u001b[34m\u001b[1mtrain: \u001b[0mWARNING  C:\\Users\\arman\\Downloads\\Team_Yodo\\datasets\\data\\train\\images\\4272_jpg.rf.ca30b2589f6fffdeb62a37627b96b082.jpg: 1 duplicate labels removed\n"
                    ]
                },
                {
                    "name": "stderr",
                    "output_type": "stream",
                    "text": [
                        "\n",
                        "\u001b[34m\u001b[1mval: \u001b[0mScanning C:\\Users\\arman\\Downloads\\Team_Yodo\\datasets\\data\\valid\\labels.cache... 229 images, 38 backgrounds, 0 corrupt: 100%|██████████| 229/229 [00:00<?, ?it/s]\n"
                    ]
                },
                {
                    "name": "stdout",
                    "output_type": "stream",
                    "text": [
                        "Plotting labels to runs\\detect\\swimming_recognition_model5\\labels.jpg... \n",
                        "\u001b[34m\u001b[1moptimizer:\u001b[0m 'optimizer=auto' found, ignoring 'lr0=0.01' and 'momentum=0.937' and determining best 'optimizer', 'lr0' and 'momentum' automatically... \n",
                        "\u001b[34m\u001b[1moptimizer:\u001b[0m AdamW(lr=0.002, momentum=0.9) with parameter groups 95 weight(decay=0.0), 108 weight(decay=0.0005), 107 bias(decay=0.0)\n",
                        "Image sizes 640 train, 640 val\n",
                        "Using 8 dataloader workers\n",
                        "Logging results to \u001b[1mruns\\detect\\swimming_recognition_model5\u001b[0m\n",
                        "Starting training for 100 epochs...\n",
                        "\n",
                        "      Epoch    GPU_mem   box_loss   cls_loss   dfl_loss  Instances       Size\n"
                    ]
                },
                {
                    "name": "stderr",
                    "output_type": "stream",
                    "text": [
                        "      1/100      6.02G      3.914      6.137      2.605         28        640: 100%|██████████| 72/72 [00:28<00:00,  2.57it/s]\n",
                        "                 Class     Images  Instances      Box(P          R      mAP50  mAP50-95): 100%|██████████| 4/4 [00:01<00:00,  3.12it/s]"
                    ]
                },
                {
                    "name": "stdout",
                    "output_type": "stream",
                    "text": [
                        "                   all        229       1015      0.362      0.273      0.228     0.0794\n"
                    ]
                },
                {
                    "name": "stderr",
                    "output_type": "stream",
                    "text": [
                        "\n"
                    ]
                },
                {
                    "name": "stdout",
                    "output_type": "stream",
                    "text": [
                        "\n",
                        "      Epoch    GPU_mem   box_loss   cls_loss   dfl_loss  Instances       Size\n"
                    ]
                },
                {
                    "name": "stderr",
                    "output_type": "stream",
                    "text": [
                        "      2/100      5.94G      4.163      5.062      2.789         51        640: 100%|██████████| 72/72 [00:29<00:00,  2.45it/s]\n",
                        "                 Class     Images  Instances      Box(P          R      mAP50  mAP50-95): 100%|██████████| 4/4 [00:01<00:00,  3.68it/s]"
                    ]
                },
                {
                    "name": "stdout",
                    "output_type": "stream",
                    "text": [
                        "                   all        229       1015      0.318      0.382      0.274     0.0861\n"
                    ]
                },
                {
                    "name": "stderr",
                    "output_type": "stream",
                    "text": [
                        "\n"
                    ]
                },
                {
                    "name": "stdout",
                    "output_type": "stream",
                    "text": [
                        "\n",
                        "      Epoch    GPU_mem   box_loss   cls_loss   dfl_loss  Instances       Size\n"
                    ]
                },
                {
                    "name": "stderr",
                    "output_type": "stream",
                    "text": [
                        "      3/100      5.99G      4.227      3.976      2.789         47        640: 100%|██████████| 72/72 [00:31<00:00,  2.28it/s]\n",
                        "                 Class     Images  Instances      Box(P          R      mAP50  mAP50-95): 100%|██████████| 4/4 [00:01<00:00,  2.87it/s]"
                    ]
                },
                {
                    "name": "stdout",
                    "output_type": "stream",
                    "text": [
                        "                   all        229       1015     0.0444     0.0365     0.0127    0.00274\n"
                    ]
                },
                {
                    "name": "stderr",
                    "output_type": "stream",
                    "text": [
                        "\n"
                    ]
                },
                {
                    "name": "stdout",
                    "output_type": "stream",
                    "text": [
                        "\n",
                        "      Epoch    GPU_mem   box_loss   cls_loss   dfl_loss  Instances       Size\n"
                    ]
                },
                {
                    "name": "stderr",
                    "output_type": "stream",
                    "text": [
                        "      4/100      5.86G      4.226      3.643      2.838        125        640: 100%|██████████| 72/72 [00:32<00:00,  2.20it/s]\n",
                        "                 Class     Images  Instances      Box(P          R      mAP50  mAP50-95): 100%|██████████| 4/4 [00:01<00:00,  2.78it/s]"
                    ]
                },
                {
                    "name": "stdout",
                    "output_type": "stream",
                    "text": [
                        "                   all        229       1015      0.405      0.338      0.301     0.0962\n"
                    ]
                },
                {
                    "name": "stderr",
                    "output_type": "stream",
                    "text": [
                        "\n"
                    ]
                },
                {
                    "name": "stdout",
                    "output_type": "stream",
                    "text": [
                        "\n",
                        "      Epoch    GPU_mem   box_loss   cls_loss   dfl_loss  Instances       Size\n"
                    ]
                },
                {
                    "name": "stderr",
                    "output_type": "stream",
                    "text": [
                        "      5/100      5.99G        4.2      3.353      2.791         48        640: 100%|██████████| 72/72 [00:31<00:00,  2.28it/s]\n",
                        "                 Class     Images  Instances      Box(P          R      mAP50  mAP50-95): 100%|██████████| 4/4 [00:01<00:00,  3.09it/s]"
                    ]
                },
                {
                    "name": "stdout",
                    "output_type": "stream",
                    "text": [
                        "                   all        229       1015      0.504      0.378      0.357      0.122\n"
                    ]
                },
                {
                    "name": "stderr",
                    "output_type": "stream",
                    "text": [
                        "\n"
                    ]
                },
                {
                    "name": "stdout",
                    "output_type": "stream",
                    "text": [
                        "\n",
                        "      Epoch    GPU_mem   box_loss   cls_loss   dfl_loss  Instances       Size\n"
                    ]
                },
                {
                    "name": "stderr",
                    "output_type": "stream",
                    "text": [
                        "      6/100      5.93G      4.085      3.112      2.738         48        640: 100%|██████████| 72/72 [00:47<00:00,  1.53it/s]\n",
                        "                 Class     Images  Instances      Box(P          R      mAP50  mAP50-95): 100%|██████████| 4/4 [00:03<00:00,  1.23it/s]"
                    ]
                },
                {
                    "name": "stdout",
                    "output_type": "stream",
                    "text": [
                        "                   all        229       1015      0.502      0.459      0.459      0.151\n"
                    ]
                },
                {
                    "name": "stderr",
                    "output_type": "stream",
                    "text": [
                        "\n"
                    ]
                },
                {
                    "name": "stdout",
                    "output_type": "stream",
                    "text": [
                        "\n",
                        "      Epoch    GPU_mem   box_loss   cls_loss   dfl_loss  Instances       Size\n"
                    ]
                },
                {
                    "name": "stderr",
                    "output_type": "stream",
                    "text": [
                        "      7/100      6.17G      4.117      3.054      2.741         88        640: 100%|██████████| 72/72 [00:42<00:00,  1.71it/s]\n",
                        "                 Class     Images  Instances      Box(P          R      mAP50  mAP50-95): 100%|██████████| 4/4 [00:01<00:00,  2.58it/s]"
                    ]
                },
                {
                    "name": "stdout",
                    "output_type": "stream",
                    "text": [
                        "                   all        229       1015      0.516      0.575      0.539      0.169\n"
                    ]
                },
                {
                    "name": "stderr",
                    "output_type": "stream",
                    "text": [
                        "\n"
                    ]
                },
                {
                    "name": "stdout",
                    "output_type": "stream",
                    "text": [
                        "\n",
                        "      Epoch    GPU_mem   box_loss   cls_loss   dfl_loss  Instances       Size\n"
                    ]
                },
                {
                    "name": "stderr",
                    "output_type": "stream",
                    "text": [
                        "      8/100      5.93G      4.064      2.953      2.703         86        640: 100%|██████████| 72/72 [00:39<00:00,  1.83it/s]\n",
                        "                 Class     Images  Instances      Box(P          R      mAP50  mAP50-95): 100%|██████████| 4/4 [00:03<00:00,  1.33it/s]"
                    ]
                },
                {
                    "name": "stdout",
                    "output_type": "stream",
                    "text": [
                        "                   all        229       1015      0.527       0.51      0.482      0.173\n"
                    ]
                },
                {
                    "name": "stderr",
                    "output_type": "stream",
                    "text": [
                        "\n"
                    ]
                },
                {
                    "name": "stdout",
                    "output_type": "stream",
                    "text": [
                        "\n",
                        "      Epoch    GPU_mem   box_loss   cls_loss   dfl_loss  Instances       Size\n"
                    ]
                },
                {
                    "name": "stderr",
                    "output_type": "stream",
                    "text": [
                        "      9/100      6.17G      4.008      2.867      2.695         80        640: 100%|██████████| 72/72 [00:43<00:00,  1.64it/s]\n",
                        "                 Class     Images  Instances      Box(P          R      mAP50  mAP50-95): 100%|██████████| 4/4 [00:01<00:00,  2.21it/s]"
                    ]
                },
                {
                    "name": "stdout",
                    "output_type": "stream",
                    "text": [
                        "                   all        229       1015      0.579      0.538      0.527      0.191\n"
                    ]
                },
                {
                    "name": "stderr",
                    "output_type": "stream",
                    "text": [
                        "\n"
                    ]
                },
                {
                    "name": "stdout",
                    "output_type": "stream",
                    "text": [
                        "\n",
                        "      Epoch    GPU_mem   box_loss   cls_loss   dfl_loss  Instances       Size\n"
                    ]
                },
                {
                    "name": "stderr",
                    "output_type": "stream",
                    "text": [
                        "     10/100         6G      3.975      2.732      2.644         84        640: 100%|██████████| 72/72 [00:40<00:00,  1.77it/s]\n",
                        "                 Class     Images  Instances      Box(P          R      mAP50  mAP50-95): 100%|██████████| 4/4 [00:01<00:00,  2.85it/s]"
                    ]
                },
                {
                    "name": "stdout",
                    "output_type": "stream",
                    "text": [
                        "                   all        229       1015      0.524      0.596      0.542      0.199\n"
                    ]
                },
                {
                    "name": "stderr",
                    "output_type": "stream",
                    "text": [
                        "\n"
                    ]
                },
                {
                    "name": "stdout",
                    "output_type": "stream",
                    "text": [
                        "\n",
                        "      Epoch    GPU_mem   box_loss   cls_loss   dfl_loss  Instances       Size\n"
                    ]
                },
                {
                    "name": "stderr",
                    "output_type": "stream",
                    "text": [
                        "     11/100       6.1G      3.985      2.664      2.658         62        640: 100%|██████████| 72/72 [00:31<00:00,  2.26it/s]\n",
                        "                 Class     Images  Instances      Box(P          R      mAP50  mAP50-95): 100%|██████████| 4/4 [00:01<00:00,  2.95it/s]"
                    ]
                },
                {
                    "name": "stdout",
                    "output_type": "stream",
                    "text": [
                        "                   all        229       1015      0.633      0.631      0.624      0.223\n"
                    ]
                },
                {
                    "name": "stderr",
                    "output_type": "stream",
                    "text": [
                        "\n"
                    ]
                },
                {
                    "name": "stdout",
                    "output_type": "stream",
                    "text": [
                        "\n",
                        "      Epoch    GPU_mem   box_loss   cls_loss   dfl_loss  Instances       Size\n"
                    ]
                },
                {
                    "name": "stderr",
                    "output_type": "stream",
                    "text": [
                        "     12/100      6.09G      3.948      2.581      2.617         93        640: 100%|██████████| 72/72 [00:31<00:00,  2.25it/s]\n",
                        "                 Class     Images  Instances      Box(P          R      mAP50  mAP50-95): 100%|██████████| 4/4 [00:01<00:00,  2.32it/s]"
                    ]
                },
                {
                    "name": "stdout",
                    "output_type": "stream",
                    "text": [
                        "                   all        229       1015      0.571      0.592      0.576       0.21\n"
                    ]
                },
                {
                    "name": "stderr",
                    "output_type": "stream",
                    "text": [
                        "\n"
                    ]
                },
                {
                    "name": "stdout",
                    "output_type": "stream",
                    "text": [
                        "\n",
                        "      Epoch    GPU_mem   box_loss   cls_loss   dfl_loss  Instances       Size\n"
                    ]
                },
                {
                    "name": "stderr",
                    "output_type": "stream",
                    "text": [
                        "     13/100      6.18G      3.883      2.554      2.597         59        640: 100%|██████████| 72/72 [00:31<00:00,  2.27it/s]\n",
                        "                 Class     Images  Instances      Box(P          R      mAP50  mAP50-95): 100%|██████████| 4/4 [00:01<00:00,  2.89it/s]"
                    ]
                },
                {
                    "name": "stdout",
                    "output_type": "stream",
                    "text": [
                        "                   all        229       1015      0.592      0.598      0.589      0.211\n"
                    ]
                },
                {
                    "name": "stderr",
                    "output_type": "stream",
                    "text": [
                        "\n"
                    ]
                },
                {
                    "name": "stdout",
                    "output_type": "stream",
                    "text": [
                        "\n",
                        "      Epoch    GPU_mem   box_loss   cls_loss   dfl_loss  Instances       Size\n"
                    ]
                },
                {
                    "name": "stderr",
                    "output_type": "stream",
                    "text": [
                        "     14/100       6.1G      3.949      2.561      2.617         43        640: 100%|██████████| 72/72 [00:31<00:00,  2.28it/s]\n",
                        "                 Class     Images  Instances      Box(P          R      mAP50  mAP50-95): 100%|██████████| 4/4 [00:01<00:00,  2.93it/s]"
                    ]
                },
                {
                    "name": "stdout",
                    "output_type": "stream",
                    "text": [
                        "                   all        229       1015      0.593      0.588      0.596      0.221\n"
                    ]
                },
                {
                    "name": "stderr",
                    "output_type": "stream",
                    "text": [
                        "\n"
                    ]
                },
                {
                    "name": "stdout",
                    "output_type": "stream",
                    "text": [
                        "\n",
                        "      Epoch    GPU_mem   box_loss   cls_loss   dfl_loss  Instances       Size\n"
                    ]
                },
                {
                    "name": "stderr",
                    "output_type": "stream",
                    "text": [
                        "     15/100      5.92G      3.885      2.466      2.582         75        640: 100%|██████████| 72/72 [00:31<00:00,  2.30it/s]\n",
                        "                 Class     Images  Instances      Box(P          R      mAP50  mAP50-95): 100%|██████████| 4/4 [00:01<00:00,  2.98it/s]"
                    ]
                },
                {
                    "name": "stdout",
                    "output_type": "stream",
                    "text": [
                        "                   all        229       1015      0.621      0.579      0.614      0.232\n"
                    ]
                },
                {
                    "name": "stderr",
                    "output_type": "stream",
                    "text": [
                        "\n"
                    ]
                },
                {
                    "name": "stdout",
                    "output_type": "stream",
                    "text": [
                        "\n",
                        "      Epoch    GPU_mem   box_loss   cls_loss   dfl_loss  Instances       Size\n"
                    ]
                },
                {
                    "name": "stderr",
                    "output_type": "stream",
                    "text": [
                        "     16/100      6.03G      3.814      2.441      2.572         84        640: 100%|██████████| 72/72 [00:30<00:00,  2.33it/s]\n",
                        "                 Class     Images  Instances      Box(P          R      mAP50  mAP50-95): 100%|██████████| 4/4 [00:01<00:00,  2.72it/s]"
                    ]
                },
                {
                    "name": "stdout",
                    "output_type": "stream",
                    "text": [
                        "                   all        229       1015      0.627      0.619      0.634      0.228\n"
                    ]
                },
                {
                    "name": "stderr",
                    "output_type": "stream",
                    "text": [
                        "\n"
                    ]
                },
                {
                    "name": "stdout",
                    "output_type": "stream",
                    "text": [
                        "\n",
                        "      Epoch    GPU_mem   box_loss   cls_loss   dfl_loss  Instances       Size\n"
                    ]
                },
                {
                    "name": "stderr",
                    "output_type": "stream",
                    "text": [
                        "     17/100      5.92G      3.793      2.372      2.553         64        640: 100%|██████████| 72/72 [00:32<00:00,  2.25it/s]\n",
                        "                 Class     Images  Instances      Box(P          R      mAP50  mAP50-95): 100%|██████████| 4/4 [00:01<00:00,  2.91it/s]"
                    ]
                },
                {
                    "name": "stdout",
                    "output_type": "stream",
                    "text": [
                        "                   all        229       1015      0.588        0.6      0.586      0.217\n"
                    ]
                },
                {
                    "name": "stderr",
                    "output_type": "stream",
                    "text": [
                        "\n"
                    ]
                },
                {
                    "name": "stdout",
                    "output_type": "stream",
                    "text": [
                        "\n",
                        "      Epoch    GPU_mem   box_loss   cls_loss   dfl_loss  Instances       Size\n"
                    ]
                },
                {
                    "name": "stderr",
                    "output_type": "stream",
                    "text": [
                        "     18/100      6.14G      3.825      2.368      2.541         64        640: 100%|██████████| 72/72 [00:31<00:00,  2.30it/s]\n",
                        "                 Class     Images  Instances      Box(P          R      mAP50  mAP50-95): 100%|██████████| 4/4 [00:01<00:00,  3.06it/s]"
                    ]
                },
                {
                    "name": "stdout",
                    "output_type": "stream",
                    "text": [
                        "                   all        229       1015       0.65      0.648      0.655      0.244\n"
                    ]
                },
                {
                    "name": "stderr",
                    "output_type": "stream",
                    "text": [
                        "\n"
                    ]
                },
                {
                    "name": "stdout",
                    "output_type": "stream",
                    "text": [
                        "\n",
                        "      Epoch    GPU_mem   box_loss   cls_loss   dfl_loss  Instances       Size\n"
                    ]
                },
                {
                    "name": "stderr",
                    "output_type": "stream",
                    "text": [
                        "     19/100      5.93G      3.743      2.343      2.528         46        640: 100%|██████████| 72/72 [00:32<00:00,  2.19it/s]\n",
                        "                 Class     Images  Instances      Box(P          R      mAP50  mAP50-95): 100%|██████████| 4/4 [00:03<00:00,  1.30it/s]"
                    ]
                },
                {
                    "name": "stdout",
                    "output_type": "stream",
                    "text": [
                        "                   all        229       1015      0.682      0.603      0.652      0.258\n"
                    ]
                },
                {
                    "name": "stderr",
                    "output_type": "stream",
                    "text": [
                        "\n"
                    ]
                },
                {
                    "name": "stdout",
                    "output_type": "stream",
                    "text": [
                        "\n",
                        "      Epoch    GPU_mem   box_loss   cls_loss   dfl_loss  Instances       Size\n"
                    ]
                },
                {
                    "name": "stderr",
                    "output_type": "stream",
                    "text": [
                        "     20/100      6.19G      3.774      2.322      2.527         86        640: 100%|██████████| 72/72 [00:51<00:00,  1.39it/s]\n",
                        "                 Class     Images  Instances      Box(P          R      mAP50  mAP50-95): 100%|██████████| 4/4 [00:02<00:00,  1.41it/s]"
                    ]
                },
                {
                    "name": "stdout",
                    "output_type": "stream",
                    "text": [
                        "                   all        229       1015      0.618       0.59      0.617      0.227\n"
                    ]
                },
                {
                    "name": "stderr",
                    "output_type": "stream",
                    "text": [
                        "\n"
                    ]
                },
                {
                    "name": "stdout",
                    "output_type": "stream",
                    "text": [
                        "\n",
                        "      Epoch    GPU_mem   box_loss   cls_loss   dfl_loss  Instances       Size\n"
                    ]
                },
                {
                    "name": "stderr",
                    "output_type": "stream",
                    "text": [
                        "     21/100       6.4G       3.75      2.304      2.532         96        640: 100%|██████████| 72/72 [00:39<00:00,  1.84it/s]\n",
                        "                 Class     Images  Instances      Box(P          R      mAP50  mAP50-95): 100%|██████████| 4/4 [00:03<00:00,  1.05it/s]"
                    ]
                },
                {
                    "name": "stdout",
                    "output_type": "stream",
                    "text": [
                        "                   all        229       1015      0.648      0.674      0.679      0.265\n"
                    ]
                },
                {
                    "name": "stderr",
                    "output_type": "stream",
                    "text": [
                        "\n"
                    ]
                },
                {
                    "name": "stdout",
                    "output_type": "stream",
                    "text": [
                        "\n",
                        "      Epoch    GPU_mem   box_loss   cls_loss   dfl_loss  Instances       Size\n"
                    ]
                },
                {
                    "name": "stderr",
                    "output_type": "stream",
                    "text": [
                        "     22/100      5.97G      3.708       2.18      2.496         84        640: 100%|██████████| 72/72 [00:43<00:00,  1.66it/s]\n",
                        "                 Class     Images  Instances      Box(P          R      mAP50  mAP50-95): 100%|██████████| 4/4 [00:01<00:00,  2.57it/s]"
                    ]
                },
                {
                    "name": "stdout",
                    "output_type": "stream",
                    "text": [
                        "                   all        229       1015      0.653      0.634      0.663      0.259\n"
                    ]
                },
                {
                    "name": "stderr",
                    "output_type": "stream",
                    "text": [
                        "\n"
                    ]
                },
                {
                    "name": "stdout",
                    "output_type": "stream",
                    "text": [
                        "\n",
                        "      Epoch    GPU_mem   box_loss   cls_loss   dfl_loss  Instances       Size\n"
                    ]
                },
                {
                    "name": "stderr",
                    "output_type": "stream",
                    "text": [
                        "     23/100      6.09G      3.691      2.155      2.476         75        640: 100%|██████████| 72/72 [00:32<00:00,  2.23it/s]\n",
                        "                 Class     Images  Instances      Box(P          R      mAP50  mAP50-95): 100%|██████████| 4/4 [00:01<00:00,  2.55it/s]"
                    ]
                },
                {
                    "name": "stdout",
                    "output_type": "stream",
                    "text": [
                        "                   all        229       1015      0.657      0.669      0.692      0.269\n"
                    ]
                },
                {
                    "name": "stderr",
                    "output_type": "stream",
                    "text": [
                        "\n"
                    ]
                },
                {
                    "name": "stdout",
                    "output_type": "stream",
                    "text": [
                        "\n",
                        "      Epoch    GPU_mem   box_loss   cls_loss   dfl_loss  Instances       Size\n"
                    ]
                },
                {
                    "name": "stderr",
                    "output_type": "stream",
                    "text": [
                        "     24/100      5.91G      3.687      2.194       2.48         81        640: 100%|██████████| 72/72 [00:32<00:00,  2.24it/s]\n",
                        "                 Class     Images  Instances      Box(P          R      mAP50  mAP50-95): 100%|██████████| 4/4 [00:01<00:00,  2.71it/s]"
                    ]
                },
                {
                    "name": "stdout",
                    "output_type": "stream",
                    "text": [
                        "                   all        229       1015      0.637      0.642      0.665      0.255\n"
                    ]
                },
                {
                    "name": "stderr",
                    "output_type": "stream",
                    "text": [
                        "\n"
                    ]
                },
                {
                    "name": "stdout",
                    "output_type": "stream",
                    "text": [
                        "\n",
                        "      Epoch    GPU_mem   box_loss   cls_loss   dfl_loss  Instances       Size\n"
                    ]
                },
                {
                    "name": "stderr",
                    "output_type": "stream",
                    "text": [
                        "     25/100      6.07G       3.67      2.174      2.481         73        640: 100%|██████████| 72/72 [00:33<00:00,  2.16it/s]\n",
                        "                 Class     Images  Instances      Box(P          R      mAP50  mAP50-95): 100%|██████████| 4/4 [00:01<00:00,  2.67it/s]"
                    ]
                },
                {
                    "name": "stdout",
                    "output_type": "stream",
                    "text": [
                        "                   all        229       1015      0.635      0.679       0.67       0.26\n"
                    ]
                },
                {
                    "name": "stderr",
                    "output_type": "stream",
                    "text": [
                        "\n"
                    ]
                },
                {
                    "name": "stdout",
                    "output_type": "stream",
                    "text": [
                        "\n",
                        "      Epoch    GPU_mem   box_loss   cls_loss   dfl_loss  Instances       Size\n"
                    ]
                },
                {
                    "name": "stderr",
                    "output_type": "stream",
                    "text": [
                        "     26/100      5.97G      3.606      2.131      2.455         78        640: 100%|██████████| 72/72 [00:31<00:00,  2.26it/s]\n",
                        "                 Class     Images  Instances      Box(P          R      mAP50  mAP50-95): 100%|██████████| 4/4 [00:01<00:00,  3.01it/s]"
                    ]
                },
                {
                    "name": "stdout",
                    "output_type": "stream",
                    "text": [
                        "                   all        229       1015      0.649      0.643      0.677      0.266\n"
                    ]
                },
                {
                    "name": "stderr",
                    "output_type": "stream",
                    "text": [
                        "\n"
                    ]
                },
                {
                    "name": "stdout",
                    "output_type": "stream",
                    "text": [
                        "\n",
                        "      Epoch    GPU_mem   box_loss   cls_loss   dfl_loss  Instances       Size\n"
                    ]
                },
                {
                    "name": "stderr",
                    "output_type": "stream",
                    "text": [
                        "     27/100       6.3G      3.618      2.124       2.45         57        640: 100%|██████████| 72/72 [00:30<00:00,  2.33it/s]\n",
                        "                 Class     Images  Instances      Box(P          R      mAP50  mAP50-95): 100%|██████████| 4/4 [00:01<00:00,  3.07it/s]"
                    ]
                },
                {
                    "name": "stdout",
                    "output_type": "stream",
                    "text": [
                        "                   all        229       1015      0.697      0.661      0.702       0.28\n"
                    ]
                },
                {
                    "name": "stderr",
                    "output_type": "stream",
                    "text": [
                        "\n"
                    ]
                },
                {
                    "name": "stdout",
                    "output_type": "stream",
                    "text": [
                        "\n",
                        "      Epoch    GPU_mem   box_loss   cls_loss   dfl_loss  Instances       Size\n"
                    ]
                },
                {
                    "name": "stderr",
                    "output_type": "stream",
                    "text": [
                        "     28/100      6.05G      3.564      2.115      2.429         91        640: 100%|██████████| 72/72 [00:30<00:00,  2.35it/s]\n",
                        "                 Class     Images  Instances      Box(P          R      mAP50  mAP50-95): 100%|██████████| 4/4 [00:01<00:00,  2.93it/s]"
                    ]
                },
                {
                    "name": "stdout",
                    "output_type": "stream",
                    "text": [
                        "                   all        229       1015      0.708       0.66      0.707      0.279\n"
                    ]
                },
                {
                    "name": "stderr",
                    "output_type": "stream",
                    "text": [
                        "\n"
                    ]
                },
                {
                    "name": "stdout",
                    "output_type": "stream",
                    "text": [
                        "\n",
                        "      Epoch    GPU_mem   box_loss   cls_loss   dfl_loss  Instances       Size\n"
                    ]
                },
                {
                    "name": "stderr",
                    "output_type": "stream",
                    "text": [
                        "     29/100      5.94G      3.602      2.076      2.444         59        640: 100%|██████████| 72/72 [00:32<00:00,  2.23it/s]\n",
                        "                 Class     Images  Instances      Box(P          R      mAP50  mAP50-95): 100%|██████████| 4/4 [00:01<00:00,  3.08it/s]"
                    ]
                },
                {
                    "name": "stdout",
                    "output_type": "stream",
                    "text": [
                        "                   all        229       1015      0.655      0.658      0.676      0.262\n"
                    ]
                },
                {
                    "name": "stderr",
                    "output_type": "stream",
                    "text": [
                        "\n"
                    ]
                },
                {
                    "name": "stdout",
                    "output_type": "stream",
                    "text": [
                        "\n",
                        "      Epoch    GPU_mem   box_loss   cls_loss   dfl_loss  Instances       Size\n"
                    ]
                },
                {
                    "name": "stderr",
                    "output_type": "stream",
                    "text": [
                        "     30/100      5.91G      3.614      2.087      2.456         42        640: 100%|██████████| 72/72 [00:30<00:00,  2.34it/s]\n",
                        "                 Class     Images  Instances      Box(P          R      mAP50  mAP50-95): 100%|██████████| 4/4 [00:01<00:00,  2.92it/s]"
                    ]
                },
                {
                    "name": "stdout",
                    "output_type": "stream",
                    "text": [
                        "                   all        229       1015      0.653      0.659      0.678      0.256\n"
                    ]
                },
                {
                    "name": "stderr",
                    "output_type": "stream",
                    "text": [
                        "\n"
                    ]
                },
                {
                    "name": "stdout",
                    "output_type": "stream",
                    "text": [
                        "\n",
                        "      Epoch    GPU_mem   box_loss   cls_loss   dfl_loss  Instances       Size\n"
                    ]
                },
                {
                    "name": "stderr",
                    "output_type": "stream",
                    "text": [
                        "     31/100      5.91G      3.569      2.035      2.418        129        640: 100%|██████████| 72/72 [00:30<00:00,  2.34it/s]\n",
                        "                 Class     Images  Instances      Box(P          R      mAP50  mAP50-95): 100%|██████████| 4/4 [00:01<00:00,  3.03it/s]"
                    ]
                },
                {
                    "name": "stdout",
                    "output_type": "stream",
                    "text": [
                        "                   all        229       1015      0.665      0.653      0.676      0.259\n"
                    ]
                },
                {
                    "name": "stderr",
                    "output_type": "stream",
                    "text": [
                        "\n"
                    ]
                },
                {
                    "name": "stdout",
                    "output_type": "stream",
                    "text": [
                        "\n",
                        "      Epoch    GPU_mem   box_loss   cls_loss   dfl_loss  Instances       Size\n"
                    ]
                },
                {
                    "name": "stderr",
                    "output_type": "stream",
                    "text": [
                        "     32/100      6.17G      3.559      2.007      2.433         90        640: 100%|██████████| 72/72 [00:30<00:00,  2.35it/s]\n",
                        "                 Class     Images  Instances      Box(P          R      mAP50  mAP50-95): 100%|██████████| 4/4 [00:01<00:00,  2.84it/s]"
                    ]
                },
                {
                    "name": "stdout",
                    "output_type": "stream",
                    "text": [
                        "                   all        229       1015      0.655      0.662      0.675      0.278\n"
                    ]
                },
                {
                    "name": "stderr",
                    "output_type": "stream",
                    "text": [
                        "\n"
                    ]
                },
                {
                    "name": "stdout",
                    "output_type": "stream",
                    "text": [
                        "\n",
                        "      Epoch    GPU_mem   box_loss   cls_loss   dfl_loss  Instances       Size\n"
                    ]
                },
                {
                    "name": "stderr",
                    "output_type": "stream",
                    "text": [
                        "     33/100      6.15G      3.544      2.001      2.415         77        640: 100%|██████████| 72/72 [00:30<00:00,  2.35it/s]\n",
                        "                 Class     Images  Instances      Box(P          R      mAP50  mAP50-95): 100%|██████████| 4/4 [00:01<00:00,  3.10it/s]"
                    ]
                },
                {
                    "name": "stdout",
                    "output_type": "stream",
                    "text": [
                        "                   all        229       1015      0.694      0.685      0.729      0.284\n"
                    ]
                },
                {
                    "name": "stderr",
                    "output_type": "stream",
                    "text": [
                        "\n"
                    ]
                },
                {
                    "name": "stdout",
                    "output_type": "stream",
                    "text": [
                        "\n",
                        "      Epoch    GPU_mem   box_loss   cls_loss   dfl_loss  Instances       Size\n"
                    ]
                },
                {
                    "name": "stderr",
                    "output_type": "stream",
                    "text": [
                        "     34/100      6.11G      3.501      1.972      2.407         58        640: 100%|██████████| 72/72 [00:31<00:00,  2.29it/s]\n",
                        "                 Class     Images  Instances      Box(P          R      mAP50  mAP50-95): 100%|██████████| 4/4 [00:01<00:00,  2.90it/s]"
                    ]
                },
                {
                    "name": "stdout",
                    "output_type": "stream",
                    "text": [
                        "                   all        229       1015      0.658      0.671      0.705      0.285\n"
                    ]
                },
                {
                    "name": "stderr",
                    "output_type": "stream",
                    "text": [
                        "\n"
                    ]
                },
                {
                    "name": "stdout",
                    "output_type": "stream",
                    "text": [
                        "\n",
                        "      Epoch    GPU_mem   box_loss   cls_loss   dfl_loss  Instances       Size\n"
                    ]
                },
                {
                    "name": "stderr",
                    "output_type": "stream",
                    "text": [
                        "     35/100      6.12G      3.488      1.943      2.393         73        640: 100%|██████████| 72/72 [00:31<00:00,  2.29it/s]\n",
                        "                 Class     Images  Instances      Box(P          R      mAP50  mAP50-95): 100%|██████████| 4/4 [00:01<00:00,  3.04it/s]"
                    ]
                },
                {
                    "name": "stdout",
                    "output_type": "stream",
                    "text": [
                        "                   all        229       1015       0.67      0.696      0.706      0.259\n"
                    ]
                },
                {
                    "name": "stderr",
                    "output_type": "stream",
                    "text": [
                        "\n"
                    ]
                },
                {
                    "name": "stdout",
                    "output_type": "stream",
                    "text": [
                        "\n",
                        "      Epoch    GPU_mem   box_loss   cls_loss   dfl_loss  Instances       Size\n"
                    ]
                },
                {
                    "name": "stderr",
                    "output_type": "stream",
                    "text": [
                        "     36/100      5.95G      3.513      1.953      2.397         43        640: 100%|██████████| 72/72 [00:31<00:00,  2.30it/s]\n",
                        "                 Class     Images  Instances      Box(P          R      mAP50  mAP50-95): 100%|██████████| 4/4 [00:01<00:00,  2.98it/s]"
                    ]
                },
                {
                    "name": "stdout",
                    "output_type": "stream",
                    "text": [
                        "                   all        229       1015      0.668      0.697      0.701      0.285\n"
                    ]
                },
                {
                    "name": "stderr",
                    "output_type": "stream",
                    "text": [
                        "\n"
                    ]
                },
                {
                    "name": "stdout",
                    "output_type": "stream",
                    "text": [
                        "\n",
                        "      Epoch    GPU_mem   box_loss   cls_loss   dfl_loss  Instances       Size\n"
                    ]
                },
                {
                    "name": "stderr",
                    "output_type": "stream",
                    "text": [
                        "     37/100      6.51G      3.492      1.966      2.403         69        640: 100%|██████████| 72/72 [00:31<00:00,  2.29it/s]\n",
                        "                 Class     Images  Instances      Box(P          R      mAP50  mAP50-95): 100%|██████████| 4/4 [00:01<00:00,  2.95it/s]"
                    ]
                },
                {
                    "name": "stdout",
                    "output_type": "stream",
                    "text": [
                        "                   all        229       1015      0.669      0.708      0.734      0.287\n"
                    ]
                },
                {
                    "name": "stderr",
                    "output_type": "stream",
                    "text": [
                        "\n"
                    ]
                },
                {
                    "name": "stdout",
                    "output_type": "stream",
                    "text": [
                        "\n",
                        "      Epoch    GPU_mem   box_loss   cls_loss   dfl_loss  Instances       Size\n"
                    ]
                },
                {
                    "name": "stderr",
                    "output_type": "stream",
                    "text": [
                        "     38/100      5.92G      3.501       1.92      2.381         82        640: 100%|██████████| 72/72 [00:31<00:00,  2.30it/s]\n",
                        "                 Class     Images  Instances      Box(P          R      mAP50  mAP50-95): 100%|██████████| 4/4 [00:01<00:00,  2.94it/s]"
                    ]
                },
                {
                    "name": "stdout",
                    "output_type": "stream",
                    "text": [
                        "                   all        229       1015      0.699      0.658       0.71      0.296\n"
                    ]
                },
                {
                    "name": "stderr",
                    "output_type": "stream",
                    "text": [
                        "\n"
                    ]
                },
                {
                    "name": "stdout",
                    "output_type": "stream",
                    "text": [
                        "\n",
                        "      Epoch    GPU_mem   box_loss   cls_loss   dfl_loss  Instances       Size\n"
                    ]
                },
                {
                    "name": "stderr",
                    "output_type": "stream",
                    "text": [
                        "     39/100       5.9G      3.484      1.912      2.392         60        640: 100%|██████████| 72/72 [00:30<00:00,  2.37it/s]\n",
                        "                 Class     Images  Instances      Box(P          R      mAP50  mAP50-95): 100%|██████████| 4/4 [00:01<00:00,  3.26it/s]"
                    ]
                },
                {
                    "name": "stdout",
                    "output_type": "stream",
                    "text": [
                        "                   all        229       1015      0.702       0.71      0.731      0.287\n"
                    ]
                },
                {
                    "name": "stderr",
                    "output_type": "stream",
                    "text": [
                        "\n"
                    ]
                },
                {
                    "name": "stdout",
                    "output_type": "stream",
                    "text": [
                        "\n",
                        "      Epoch    GPU_mem   box_loss   cls_loss   dfl_loss  Instances       Size\n"
                    ]
                },
                {
                    "name": "stderr",
                    "output_type": "stream",
                    "text": [
                        "     40/100      5.98G      3.433      1.919      2.377        101        640: 100%|██████████| 72/72 [00:30<00:00,  2.36it/s]\n",
                        "                 Class     Images  Instances      Box(P          R      mAP50  mAP50-95): 100%|██████████| 4/4 [00:01<00:00,  3.12it/s]"
                    ]
                },
                {
                    "name": "stdout",
                    "output_type": "stream",
                    "text": [
                        "                   all        229       1015      0.723      0.691      0.736      0.292\n"
                    ]
                },
                {
                    "name": "stderr",
                    "output_type": "stream",
                    "text": [
                        "\n"
                    ]
                },
                {
                    "name": "stdout",
                    "output_type": "stream",
                    "text": [
                        "\n",
                        "      Epoch    GPU_mem   box_loss   cls_loss   dfl_loss  Instances       Size\n"
                    ]
                },
                {
                    "name": "stderr",
                    "output_type": "stream",
                    "text": [
                        "     41/100         6G      3.509      1.923      2.384         73        640: 100%|██████████| 72/72 [00:30<00:00,  2.36it/s]\n",
                        "                 Class     Images  Instances      Box(P          R      mAP50  mAP50-95): 100%|██████████| 4/4 [00:01<00:00,  3.02it/s]"
                    ]
                },
                {
                    "name": "stdout",
                    "output_type": "stream",
                    "text": [
                        "                   all        229       1015      0.701      0.708      0.745      0.303\n"
                    ]
                },
                {
                    "name": "stderr",
                    "output_type": "stream",
                    "text": [
                        "\n"
                    ]
                },
                {
                    "name": "stdout",
                    "output_type": "stream",
                    "text": [
                        "\n",
                        "      Epoch    GPU_mem   box_loss   cls_loss   dfl_loss  Instances       Size\n"
                    ]
                },
                {
                    "name": "stderr",
                    "output_type": "stream",
                    "text": [
                        "     42/100      6.17G      3.434      1.858      2.369         60        640: 100%|██████████| 72/72 [00:31<00:00,  2.28it/s]\n",
                        "                 Class     Images  Instances      Box(P          R      mAP50  mAP50-95): 100%|██████████| 4/4 [00:01<00:00,  2.97it/s]"
                    ]
                },
                {
                    "name": "stdout",
                    "output_type": "stream",
                    "text": [
                        "                   all        229       1015      0.703      0.713      0.726      0.293\n"
                    ]
                },
                {
                    "name": "stderr",
                    "output_type": "stream",
                    "text": [
                        "\n"
                    ]
                },
                {
                    "name": "stdout",
                    "output_type": "stream",
                    "text": [
                        "\n",
                        "      Epoch    GPU_mem   box_loss   cls_loss   dfl_loss  Instances       Size\n"
                    ]
                },
                {
                    "name": "stderr",
                    "output_type": "stream",
                    "text": [
                        "     43/100      6.17G      3.476      1.897      2.361         54        640: 100%|██████████| 72/72 [00:31<00:00,  2.28it/s]\n",
                        "                 Class     Images  Instances      Box(P          R      mAP50  mAP50-95): 100%|██████████| 4/4 [00:01<00:00,  2.86it/s]"
                    ]
                },
                {
                    "name": "stdout",
                    "output_type": "stream",
                    "text": [
                        "                   all        229       1015      0.737      0.706      0.768      0.308\n"
                    ]
                },
                {
                    "name": "stderr",
                    "output_type": "stream",
                    "text": [
                        "\n"
                    ]
                },
                {
                    "name": "stdout",
                    "output_type": "stream",
                    "text": [
                        "\n",
                        "      Epoch    GPU_mem   box_loss   cls_loss   dfl_loss  Instances       Size\n"
                    ]
                },
                {
                    "name": "stderr",
                    "output_type": "stream",
                    "text": [
                        "     44/100         6G      3.392      1.846      2.347         79        640: 100%|██████████| 72/72 [00:31<00:00,  2.31it/s]\n",
                        "                 Class     Images  Instances      Box(P          R      mAP50  mAP50-95): 100%|██████████| 4/4 [00:01<00:00,  3.10it/s]"
                    ]
                },
                {
                    "name": "stdout",
                    "output_type": "stream",
                    "text": [
                        "                   all        229       1015      0.704      0.716      0.754      0.306\n"
                    ]
                },
                {
                    "name": "stderr",
                    "output_type": "stream",
                    "text": [
                        "\n"
                    ]
                },
                {
                    "name": "stdout",
                    "output_type": "stream",
                    "text": [
                        "\n",
                        "      Epoch    GPU_mem   box_loss   cls_loss   dfl_loss  Instances       Size\n"
                    ]
                },
                {
                    "name": "stderr",
                    "output_type": "stream",
                    "text": [
                        "     45/100      5.96G      3.423      1.845      2.352         65        640: 100%|██████████| 72/72 [00:30<00:00,  2.33it/s]\n",
                        "                 Class     Images  Instances      Box(P          R      mAP50  mAP50-95): 100%|██████████| 4/4 [00:01<00:00,  3.13it/s]"
                    ]
                },
                {
                    "name": "stdout",
                    "output_type": "stream",
                    "text": [
                        "                   all        229       1015       0.75      0.685      0.765      0.308\n"
                    ]
                },
                {
                    "name": "stderr",
                    "output_type": "stream",
                    "text": [
                        "\n"
                    ]
                },
                {
                    "name": "stdout",
                    "output_type": "stream",
                    "text": [
                        "\n",
                        "      Epoch    GPU_mem   box_loss   cls_loss   dfl_loss  Instances       Size\n"
                    ]
                },
                {
                    "name": "stderr",
                    "output_type": "stream",
                    "text": [
                        "     46/100      6.13G      3.389      1.823      2.351         71        640: 100%|██████████| 72/72 [00:31<00:00,  2.31it/s]\n",
                        "                 Class     Images  Instances      Box(P          R      mAP50  mAP50-95): 100%|██████████| 4/4 [00:01<00:00,  2.66it/s]"
                    ]
                },
                {
                    "name": "stdout",
                    "output_type": "stream",
                    "text": [
                        "                   all        229       1015      0.715      0.687       0.73      0.301\n"
                    ]
                },
                {
                    "name": "stderr",
                    "output_type": "stream",
                    "text": [
                        "\n"
                    ]
                },
                {
                    "name": "stdout",
                    "output_type": "stream",
                    "text": [
                        "\n",
                        "      Epoch    GPU_mem   box_loss   cls_loss   dfl_loss  Instances       Size\n"
                    ]
                },
                {
                    "name": "stderr",
                    "output_type": "stream",
                    "text": [
                        "     47/100      6.12G      3.377      1.794      2.341         62        640: 100%|██████████| 72/72 [00:31<00:00,  2.27it/s]\n",
                        "                 Class     Images  Instances      Box(P          R      mAP50  mAP50-95): 100%|██████████| 4/4 [00:01<00:00,  2.95it/s]"
                    ]
                },
                {
                    "name": "stdout",
                    "output_type": "stream",
                    "text": [
                        "                   all        229       1015      0.714      0.724      0.749        0.3\n"
                    ]
                },
                {
                    "name": "stderr",
                    "output_type": "stream",
                    "text": [
                        "\n"
                    ]
                },
                {
                    "name": "stdout",
                    "output_type": "stream",
                    "text": [
                        "\n",
                        "      Epoch    GPU_mem   box_loss   cls_loss   dfl_loss  Instances       Size\n"
                    ]
                },
                {
                    "name": "stderr",
                    "output_type": "stream",
                    "text": [
                        "     48/100      5.95G       3.39      1.781      2.332         77        640: 100%|██████████| 72/72 [00:31<00:00,  2.28it/s]\n",
                        "                 Class     Images  Instances      Box(P          R      mAP50  mAP50-95): 100%|██████████| 4/4 [00:01<00:00,  2.83it/s]"
                    ]
                },
                {
                    "name": "stdout",
                    "output_type": "stream",
                    "text": [
                        "                   all        229       1015      0.689      0.734      0.763      0.303\n"
                    ]
                },
                {
                    "name": "stderr",
                    "output_type": "stream",
                    "text": [
                        "\n"
                    ]
                },
                {
                    "name": "stdout",
                    "output_type": "stream",
                    "text": [
                        "\n",
                        "      Epoch    GPU_mem   box_loss   cls_loss   dfl_loss  Instances       Size\n"
                    ]
                },
                {
                    "name": "stderr",
                    "output_type": "stream",
                    "text": [
                        "     49/100      6.17G      3.319      1.739      2.301         78        640: 100%|██████████| 72/72 [00:30<00:00,  2.34it/s]\n",
                        "                 Class     Images  Instances      Box(P          R      mAP50  mAP50-95): 100%|██████████| 4/4 [00:01<00:00,  3.09it/s]"
                    ]
                },
                {
                    "name": "stdout",
                    "output_type": "stream",
                    "text": [
                        "                   all        229       1015      0.731      0.701      0.756      0.308\n"
                    ]
                },
                {
                    "name": "stderr",
                    "output_type": "stream",
                    "text": [
                        "\n"
                    ]
                },
                {
                    "name": "stdout",
                    "output_type": "stream",
                    "text": [
                        "\n",
                        "      Epoch    GPU_mem   box_loss   cls_loss   dfl_loss  Instances       Size\n"
                    ]
                },
                {
                    "name": "stderr",
                    "output_type": "stream",
                    "text": [
                        "     50/100      6.24G      3.394       1.81      2.304        112        640: 100%|██████████| 72/72 [00:31<00:00,  2.29it/s]\n",
                        "                 Class     Images  Instances      Box(P          R      mAP50  mAP50-95): 100%|██████████| 4/4 [00:01<00:00,  2.81it/s]"
                    ]
                },
                {
                    "name": "stdout",
                    "output_type": "stream",
                    "text": [
                        "                   all        229       1015      0.699       0.71       0.74      0.306\n"
                    ]
                },
                {
                    "name": "stderr",
                    "output_type": "stream",
                    "text": [
                        "\n"
                    ]
                },
                {
                    "name": "stdout",
                    "output_type": "stream",
                    "text": [
                        "\n",
                        "      Epoch    GPU_mem   box_loss   cls_loss   dfl_loss  Instances       Size\n"
                    ]
                },
                {
                    "name": "stderr",
                    "output_type": "stream",
                    "text": [
                        "     51/100      5.92G      3.308      1.761      2.297         64        640: 100%|██████████| 72/72 [00:31<00:00,  2.31it/s]\n",
                        "                 Class     Images  Instances      Box(P          R      mAP50  mAP50-95): 100%|██████████| 4/4 [00:01<00:00,  2.86it/s]"
                    ]
                },
                {
                    "name": "stdout",
                    "output_type": "stream",
                    "text": [
                        "                   all        229       1015      0.719      0.714      0.744      0.303\n"
                    ]
                },
                {
                    "name": "stderr",
                    "output_type": "stream",
                    "text": [
                        "\n"
                    ]
                },
                {
                    "name": "stdout",
                    "output_type": "stream",
                    "text": [
                        "\n",
                        "      Epoch    GPU_mem   box_loss   cls_loss   dfl_loss  Instances       Size\n"
                    ]
                },
                {
                    "name": "stderr",
                    "output_type": "stream",
                    "text": [
                        "     52/100      6.28G      3.346      1.749       2.32         78        640: 100%|██████████| 72/72 [00:31<00:00,  2.30it/s]\n",
                        "                 Class     Images  Instances      Box(P          R      mAP50  mAP50-95): 100%|██████████| 4/4 [00:01<00:00,  3.09it/s]"
                    ]
                },
                {
                    "name": "stdout",
                    "output_type": "stream",
                    "text": [
                        "                   all        229       1015      0.728       0.72      0.762      0.312\n"
                    ]
                },
                {
                    "name": "stderr",
                    "output_type": "stream",
                    "text": [
                        "\n"
                    ]
                },
                {
                    "name": "stdout",
                    "output_type": "stream",
                    "text": [
                        "\n",
                        "      Epoch    GPU_mem   box_loss   cls_loss   dfl_loss  Instances       Size\n"
                    ]
                },
                {
                    "name": "stderr",
                    "output_type": "stream",
                    "text": [
                        "     53/100      5.92G      3.302      1.752      2.306         78        640: 100%|██████████| 72/72 [00:31<00:00,  2.29it/s]\n",
                        "                 Class     Images  Instances      Box(P          R      mAP50  mAP50-95): 100%|██████████| 4/4 [00:01<00:00,  3.06it/s]"
                    ]
                },
                {
                    "name": "stdout",
                    "output_type": "stream",
                    "text": [
                        "                   all        229       1015      0.706      0.721      0.751      0.308\n"
                    ]
                },
                {
                    "name": "stderr",
                    "output_type": "stream",
                    "text": [
                        "\n"
                    ]
                },
                {
                    "name": "stdout",
                    "output_type": "stream",
                    "text": [
                        "\n",
                        "      Epoch    GPU_mem   box_loss   cls_loss   dfl_loss  Instances       Size\n"
                    ]
                },
                {
                    "name": "stderr",
                    "output_type": "stream",
                    "text": [
                        "     54/100       6.1G      3.303      1.707      2.296         90        640: 100%|██████████| 72/72 [00:31<00:00,  2.32it/s]\n",
                        "                 Class     Images  Instances      Box(P          R      mAP50  mAP50-95): 100%|██████████| 4/4 [00:01<00:00,  3.11it/s]"
                    ]
                },
                {
                    "name": "stdout",
                    "output_type": "stream",
                    "text": [
                        "                   all        229       1015      0.717      0.715      0.762      0.319\n"
                    ]
                },
                {
                    "name": "stderr",
                    "output_type": "stream",
                    "text": [
                        "\n"
                    ]
                },
                {
                    "name": "stdout",
                    "output_type": "stream",
                    "text": [
                        "\n",
                        "      Epoch    GPU_mem   box_loss   cls_loss   dfl_loss  Instances       Size\n"
                    ]
                },
                {
                    "name": "stderr",
                    "output_type": "stream",
                    "text": [
                        "     55/100      6.03G      3.277      1.724      2.299         56        640: 100%|██████████| 72/72 [00:38<00:00,  1.86it/s]\n",
                        "                 Class     Images  Instances      Box(P          R      mAP50  mAP50-95): 100%|██████████| 4/4 [00:02<00:00,  1.49it/s]"
                    ]
                },
                {
                    "name": "stdout",
                    "output_type": "stream",
                    "text": [
                        "                   all        229       1015      0.724      0.698      0.749      0.313\n"
                    ]
                },
                {
                    "name": "stderr",
                    "output_type": "stream",
                    "text": [
                        "\n"
                    ]
                },
                {
                    "name": "stdout",
                    "output_type": "stream",
                    "text": [
                        "\n",
                        "      Epoch    GPU_mem   box_loss   cls_loss   dfl_loss  Instances       Size\n"
                    ]
                },
                {
                    "name": "stderr",
                    "output_type": "stream",
                    "text": [
                        "     56/100      6.18G      3.295      1.705      2.281         78        640: 100%|██████████| 72/72 [00:57<00:00,  1.24it/s]\n",
                        "                 Class     Images  Instances      Box(P          R      mAP50  mAP50-95): 100%|██████████| 4/4 [00:05<00:00,  1.40s/it]"
                    ]
                },
                {
                    "name": "stdout",
                    "output_type": "stream",
                    "text": [
                        "                   all        229       1015      0.722      0.684      0.754      0.308\n"
                    ]
                },
                {
                    "name": "stderr",
                    "output_type": "stream",
                    "text": [
                        "\n"
                    ]
                },
                {
                    "name": "stdout",
                    "output_type": "stream",
                    "text": [
                        "\n",
                        "      Epoch    GPU_mem   box_loss   cls_loss   dfl_loss  Instances       Size\n"
                    ]
                },
                {
                    "name": "stderr",
                    "output_type": "stream",
                    "text": [
                        "     57/100      6.13G      3.192      1.674      2.263         86        640: 100%|██████████| 72/72 [01:01<00:00,  1.16it/s]\n",
                        "                 Class     Images  Instances      Box(P          R      mAP50  mAP50-95): 100%|██████████| 4/4 [00:04<00:00,  1.22s/it]"
                    ]
                },
                {
                    "name": "stdout",
                    "output_type": "stream",
                    "text": [
                        "                   all        229       1015      0.714      0.713       0.75      0.311\n"
                    ]
                },
                {
                    "name": "stderr",
                    "output_type": "stream",
                    "text": [
                        "\n"
                    ]
                },
                {
                    "name": "stdout",
                    "output_type": "stream",
                    "text": [
                        "\n",
                        "      Epoch    GPU_mem   box_loss   cls_loss   dfl_loss  Instances       Size\n"
                    ]
                },
                {
                    "name": "stderr",
                    "output_type": "stream",
                    "text": [
                        "     58/100      6.07G      3.257      1.697       2.29         55        640: 100%|██████████| 72/72 [00:47<00:00,  1.51it/s]\n",
                        "                 Class     Images  Instances      Box(P          R      mAP50  mAP50-95): 100%|██████████| 4/4 [00:02<00:00,  1.41it/s]"
                    ]
                },
                {
                    "name": "stdout",
                    "output_type": "stream",
                    "text": [
                        "                   all        229       1015      0.726      0.726      0.766      0.312\n"
                    ]
                },
                {
                    "name": "stderr",
                    "output_type": "stream",
                    "text": [
                        "\n"
                    ]
                },
                {
                    "name": "stdout",
                    "output_type": "stream",
                    "text": [
                        "\n",
                        "      Epoch    GPU_mem   box_loss   cls_loss   dfl_loss  Instances       Size\n"
                    ]
                },
                {
                    "name": "stderr",
                    "output_type": "stream",
                    "text": [
                        "     59/100       5.9G      3.245      1.728      2.294         70        640: 100%|██████████| 72/72 [01:02<00:00,  1.15it/s]\n",
                        "                 Class     Images  Instances      Box(P          R      mAP50  mAP50-95): 100%|██████████| 4/4 [00:04<00:00,  1.15s/it]"
                    ]
                },
                {
                    "name": "stdout",
                    "output_type": "stream",
                    "text": [
                        "                   all        229       1015      0.734      0.693      0.748      0.318\n"
                    ]
                },
                {
                    "name": "stderr",
                    "output_type": "stream",
                    "text": [
                        "\n"
                    ]
                },
                {
                    "name": "stdout",
                    "output_type": "stream",
                    "text": [
                        "\n",
                        "      Epoch    GPU_mem   box_loss   cls_loss   dfl_loss  Instances       Size\n"
                    ]
                },
                {
                    "name": "stderr",
                    "output_type": "stream",
                    "text": [
                        "     60/100      5.91G      3.204      1.677      2.258         72        640: 100%|██████████| 72/72 [00:45<00:00,  1.60it/s]\n",
                        "                 Class     Images  Instances      Box(P          R      mAP50  mAP50-95): 100%|██████████| 4/4 [00:03<00:00,  1.28it/s]"
                    ]
                },
                {
                    "name": "stdout",
                    "output_type": "stream",
                    "text": [
                        "                   all        229       1015       0.72      0.691      0.744      0.314\n"
                    ]
                },
                {
                    "name": "stderr",
                    "output_type": "stream",
                    "text": [
                        "\n"
                    ]
                },
                {
                    "name": "stdout",
                    "output_type": "stream",
                    "text": [
                        "\n",
                        "      Epoch    GPU_mem   box_loss   cls_loss   dfl_loss  Instances       Size\n"
                    ]
                },
                {
                    "name": "stderr",
                    "output_type": "stream",
                    "text": [
                        "     61/100      6.19G      3.255      1.666      2.286         81        640: 100%|██████████| 72/72 [00:52<00:00,  1.38it/s]\n",
                        "                 Class     Images  Instances      Box(P          R      mAP50  mAP50-95): 100%|██████████| 4/4 [00:03<00:00,  1.19it/s]"
                    ]
                },
                {
                    "name": "stdout",
                    "output_type": "stream",
                    "text": [
                        "                   all        229       1015      0.706      0.715      0.759      0.314\n"
                    ]
                },
                {
                    "name": "stderr",
                    "output_type": "stream",
                    "text": [
                        "\n"
                    ]
                },
                {
                    "name": "stdout",
                    "output_type": "stream",
                    "text": [
                        "\n",
                        "      Epoch    GPU_mem   box_loss   cls_loss   dfl_loss  Instances       Size\n"
                    ]
                },
                {
                    "name": "stderr",
                    "output_type": "stream",
                    "text": [
                        "     62/100      5.97G      3.131      1.597      2.263         76        640: 100%|██████████| 72/72 [00:36<00:00,  1.97it/s]\n",
                        "                 Class     Images  Instances      Box(P          R      mAP50  mAP50-95): 100%|██████████| 4/4 [00:01<00:00,  2.90it/s]"
                    ]
                },
                {
                    "name": "stdout",
                    "output_type": "stream",
                    "text": [
                        "                   all        229       1015      0.726      0.715      0.756      0.316\n"
                    ]
                },
                {
                    "name": "stderr",
                    "output_type": "stream",
                    "text": [
                        "\n"
                    ]
                },
                {
                    "name": "stdout",
                    "output_type": "stream",
                    "text": [
                        "\n",
                        "      Epoch    GPU_mem   box_loss   cls_loss   dfl_loss  Instances       Size\n"
                    ]
                },
                {
                    "name": "stderr",
                    "output_type": "stream",
                    "text": [
                        "     63/100      5.98G       3.17      1.651       2.24        108        640: 100%|██████████| 72/72 [00:31<00:00,  2.32it/s]\n",
                        "                 Class     Images  Instances      Box(P          R      mAP50  mAP50-95): 100%|██████████| 4/4 [00:01<00:00,  2.76it/s]"
                    ]
                },
                {
                    "name": "stdout",
                    "output_type": "stream",
                    "text": [
                        "                   all        229       1015      0.731      0.727      0.767      0.321\n"
                    ]
                },
                {
                    "name": "stderr",
                    "output_type": "stream",
                    "text": [
                        "\n"
                    ]
                },
                {
                    "name": "stdout",
                    "output_type": "stream",
                    "text": [
                        "\n",
                        "      Epoch    GPU_mem   box_loss   cls_loss   dfl_loss  Instances       Size\n"
                    ]
                },
                {
                    "name": "stderr",
                    "output_type": "stream",
                    "text": [
                        "     64/100      5.92G      3.123      1.613      2.251         72        640: 100%|██████████| 72/72 [00:43<00:00,  1.67it/s]\n",
                        "                 Class     Images  Instances      Box(P          R      mAP50  mAP50-95): 100%|██████████| 4/4 [00:03<00:00,  1.16it/s]"
                    ]
                },
                {
                    "name": "stdout",
                    "output_type": "stream",
                    "text": [
                        "                   all        229       1015      0.721      0.694      0.765      0.321\n"
                    ]
                },
                {
                    "name": "stderr",
                    "output_type": "stream",
                    "text": [
                        "\n"
                    ]
                },
                {
                    "name": "stdout",
                    "output_type": "stream",
                    "text": [
                        "\n",
                        "      Epoch    GPU_mem   box_loss   cls_loss   dfl_loss  Instances       Size\n"
                    ]
                },
                {
                    "name": "stderr",
                    "output_type": "stream",
                    "text": [
                        "     65/100      5.95G      3.171      1.634      2.268         81        640: 100%|██████████| 72/72 [00:44<00:00,  1.62it/s]\n",
                        "                 Class     Images  Instances      Box(P          R      mAP50  mAP50-95): 100%|██████████| 4/4 [00:03<00:00,  1.23it/s]"
                    ]
                },
                {
                    "name": "stdout",
                    "output_type": "stream",
                    "text": [
                        "                   all        229       1015      0.701      0.743      0.768      0.318\n"
                    ]
                },
                {
                    "name": "stderr",
                    "output_type": "stream",
                    "text": [
                        "\n"
                    ]
                },
                {
                    "name": "stdout",
                    "output_type": "stream",
                    "text": [
                        "\n",
                        "      Epoch    GPU_mem   box_loss   cls_loss   dfl_loss  Instances       Size\n"
                    ]
                },
                {
                    "name": "stderr",
                    "output_type": "stream",
                    "text": [
                        "     66/100      6.09G      3.095      1.574      2.247         41        640: 100%|██████████| 72/72 [00:47<00:00,  1.52it/s]\n",
                        "                 Class     Images  Instances      Box(P          R      mAP50  mAP50-95): 100%|██████████| 4/4 [00:04<00:00,  1.17s/it]"
                    ]
                },
                {
                    "name": "stdout",
                    "output_type": "stream",
                    "text": [
                        "                   all        229       1015      0.721      0.711      0.764      0.326\n"
                    ]
                },
                {
                    "name": "stderr",
                    "output_type": "stream",
                    "text": [
                        "\n"
                    ]
                },
                {
                    "name": "stdout",
                    "output_type": "stream",
                    "text": [
                        "\n",
                        "      Epoch    GPU_mem   box_loss   cls_loss   dfl_loss  Instances       Size\n"
                    ]
                },
                {
                    "name": "stderr",
                    "output_type": "stream",
                    "text": [
                        "     67/100      5.99G      3.126      1.631      2.236         65        640: 100%|██████████| 72/72 [00:45<00:00,  1.57it/s]\n",
                        "                 Class     Images  Instances      Box(P          R      mAP50  mAP50-95): 100%|██████████| 4/4 [00:03<00:00,  1.25it/s]"
                    ]
                },
                {
                    "name": "stdout",
                    "output_type": "stream",
                    "text": [
                        "                   all        229       1015      0.749      0.699      0.771      0.324\n"
                    ]
                },
                {
                    "name": "stderr",
                    "output_type": "stream",
                    "text": [
                        "\n"
                    ]
                },
                {
                    "name": "stdout",
                    "output_type": "stream",
                    "text": [
                        "\n",
                        "      Epoch    GPU_mem   box_loss   cls_loss   dfl_loss  Instances       Size\n"
                    ]
                },
                {
                    "name": "stderr",
                    "output_type": "stream",
                    "text": [
                        "     68/100      5.92G       3.12      1.564      2.221         55        640: 100%|██████████| 72/72 [00:42<00:00,  1.70it/s]\n",
                        "                 Class     Images  Instances      Box(P          R      mAP50  mAP50-95): 100%|██████████| 4/4 [00:02<00:00,  1.38it/s]"
                    ]
                },
                {
                    "name": "stdout",
                    "output_type": "stream",
                    "text": [
                        "                   all        229       1015      0.737      0.696      0.772      0.322\n"
                    ]
                },
                {
                    "name": "stderr",
                    "output_type": "stream",
                    "text": [
                        "\n"
                    ]
                },
                {
                    "name": "stdout",
                    "output_type": "stream",
                    "text": [
                        "\n",
                        "      Epoch    GPU_mem   box_loss   cls_loss   dfl_loss  Instances       Size\n"
                    ]
                },
                {
                    "name": "stderr",
                    "output_type": "stream",
                    "text": [
                        "     69/100      5.92G      3.069      1.569      2.225         75        640: 100%|██████████| 72/72 [00:50<00:00,  1.44it/s]\n",
                        "                 Class     Images  Instances      Box(P          R      mAP50  mAP50-95): 100%|██████████| 4/4 [00:03<00:00,  1.31it/s]"
                    ]
                },
                {
                    "name": "stdout",
                    "output_type": "stream",
                    "text": [
                        "                   all        229       1015      0.755      0.697       0.77      0.322\n"
                    ]
                },
                {
                    "name": "stderr",
                    "output_type": "stream",
                    "text": [
                        "\n"
                    ]
                },
                {
                    "name": "stdout",
                    "output_type": "stream",
                    "text": [
                        "\n",
                        "      Epoch    GPU_mem   box_loss   cls_loss   dfl_loss  Instances       Size\n"
                    ]
                },
                {
                    "name": "stderr",
                    "output_type": "stream",
                    "text": [
                        "     70/100      5.93G      3.048      1.563      2.221         41        640: 100%|██████████| 72/72 [00:46<00:00,  1.56it/s]\n",
                        "                 Class     Images  Instances      Box(P          R      mAP50  mAP50-95): 100%|██████████| 4/4 [00:02<00:00,  1.35it/s]"
                    ]
                },
                {
                    "name": "stdout",
                    "output_type": "stream",
                    "text": [
                        "                   all        229       1015      0.744       0.71      0.773      0.323\n"
                    ]
                },
                {
                    "name": "stderr",
                    "output_type": "stream",
                    "text": [
                        "\n"
                    ]
                },
                {
                    "name": "stdout",
                    "output_type": "stream",
                    "text": [
                        "\n",
                        "      Epoch    GPU_mem   box_loss   cls_loss   dfl_loss  Instances       Size\n"
                    ]
                },
                {
                    "name": "stderr",
                    "output_type": "stream",
                    "text": [
                        "     71/100      6.12G      3.095      1.584      2.236         78        640: 100%|██████████| 72/72 [00:57<00:00,  1.25it/s]\n",
                        "                 Class     Images  Instances      Box(P          R      mAP50  mAP50-95): 100%|██████████| 4/4 [00:01<00:00,  2.61it/s]"
                    ]
                },
                {
                    "name": "stdout",
                    "output_type": "stream",
                    "text": [
                        "                   all        229       1015      0.736      0.723      0.769      0.321\n"
                    ]
                },
                {
                    "name": "stderr",
                    "output_type": "stream",
                    "text": [
                        "\n"
                    ]
                },
                {
                    "name": "stdout",
                    "output_type": "stream",
                    "text": [
                        "\n",
                        "      Epoch    GPU_mem   box_loss   cls_loss   dfl_loss  Instances       Size\n"
                    ]
                },
                {
                    "name": "stderr",
                    "output_type": "stream",
                    "text": [
                        "     72/100      6.02G      3.183      1.611      2.225        100        640: 100%|██████████| 72/72 [00:52<00:00,  1.38it/s]\n",
                        "                 Class     Images  Instances      Box(P          R      mAP50  mAP50-95): 100%|██████████| 4/4 [00:05<00:00,  1.46s/it]"
                    ]
                },
                {
                    "name": "stdout",
                    "output_type": "stream",
                    "text": [
                        "                   all        229       1015      0.756      0.719      0.774      0.322\n"
                    ]
                },
                {
                    "name": "stderr",
                    "output_type": "stream",
                    "text": [
                        "\n"
                    ]
                },
                {
                    "name": "stdout",
                    "output_type": "stream",
                    "text": [
                        "\n",
                        "      Epoch    GPU_mem   box_loss   cls_loss   dfl_loss  Instances       Size\n"
                    ]
                },
                {
                    "name": "stderr",
                    "output_type": "stream",
                    "text": [
                        "     73/100      5.93G      3.058       1.54      2.203        105        640: 100%|██████████| 72/72 [00:52<00:00,  1.37it/s]\n",
                        "                 Class     Images  Instances      Box(P          R      mAP50  mAP50-95): 100%|██████████| 4/4 [00:03<00:00,  1.32it/s]"
                    ]
                },
                {
                    "name": "stdout",
                    "output_type": "stream",
                    "text": [
                        "                   all        229       1015      0.747      0.709      0.768      0.317\n"
                    ]
                },
                {
                    "name": "stderr",
                    "output_type": "stream",
                    "text": [
                        "\n"
                    ]
                },
                {
                    "name": "stdout",
                    "output_type": "stream",
                    "text": [
                        "\n",
                        "      Epoch    GPU_mem   box_loss   cls_loss   dfl_loss  Instances       Size\n"
                    ]
                },
                {
                    "name": "stderr",
                    "output_type": "stream",
                    "text": [
                        "     74/100      5.93G      3.073      1.548      2.206         98        640: 100%|██████████| 72/72 [00:46<00:00,  1.56it/s]\n",
                        "                 Class     Images  Instances      Box(P          R      mAP50  mAP50-95): 100%|██████████| 4/4 [00:03<00:00,  1.25it/s]"
                    ]
                },
                {
                    "name": "stdout",
                    "output_type": "stream",
                    "text": [
                        "                   all        229       1015      0.727      0.735      0.771      0.323\n"
                    ]
                },
                {
                    "name": "stderr",
                    "output_type": "stream",
                    "text": [
                        "\n"
                    ]
                },
                {
                    "name": "stdout",
                    "output_type": "stream",
                    "text": [
                        "\n",
                        "      Epoch    GPU_mem   box_loss   cls_loss   dfl_loss  Instances       Size\n"
                    ]
                },
                {
                    "name": "stderr",
                    "output_type": "stream",
                    "text": [
                        "     75/100      6.06G      2.996      1.528      2.179         70        640: 100%|██████████| 72/72 [00:56<00:00,  1.28it/s]\n",
                        "                 Class     Images  Instances      Box(P          R      mAP50  mAP50-95): 100%|██████████| 4/4 [00:01<00:00,  2.39it/s]"
                    ]
                },
                {
                    "name": "stdout",
                    "output_type": "stream",
                    "text": [
                        "                   all        229       1015      0.746      0.712      0.774      0.319\n"
                    ]
                },
                {
                    "name": "stderr",
                    "output_type": "stream",
                    "text": [
                        "\n"
                    ]
                },
                {
                    "name": "stdout",
                    "output_type": "stream",
                    "text": [
                        "\n",
                        "      Epoch    GPU_mem   box_loss   cls_loss   dfl_loss  Instances       Size\n"
                    ]
                },
                {
                    "name": "stderr",
                    "output_type": "stream",
                    "text": [
                        "     76/100      6.08G      3.047      1.553        2.2         56        640: 100%|██████████| 72/72 [00:31<00:00,  2.27it/s]\n",
                        "                 Class     Images  Instances      Box(P          R      mAP50  mAP50-95): 100%|██████████| 4/4 [00:01<00:00,  2.81it/s]"
                    ]
                },
                {
                    "name": "stdout",
                    "output_type": "stream",
                    "text": [
                        "                   all        229       1015      0.743      0.744      0.777      0.321\n"
                    ]
                },
                {
                    "name": "stderr",
                    "output_type": "stream",
                    "text": [
                        "\n"
                    ]
                },
                {
                    "name": "stdout",
                    "output_type": "stream",
                    "text": [
                        "\n",
                        "      Epoch    GPU_mem   box_loss   cls_loss   dfl_loss  Instances       Size\n"
                    ]
                },
                {
                    "name": "stderr",
                    "output_type": "stream",
                    "text": [
                        "     77/100      6.03G      3.056      1.533      2.198         90        640: 100%|██████████| 72/72 [00:31<00:00,  2.28it/s]\n",
                        "                 Class     Images  Instances      Box(P          R      mAP50  mAP50-95): 100%|██████████| 4/4 [00:01<00:00,  2.80it/s]"
                    ]
                },
                {
                    "name": "stdout",
                    "output_type": "stream",
                    "text": [
                        "                   all        229       1015      0.742       0.72      0.772      0.321\n"
                    ]
                },
                {
                    "name": "stderr",
                    "output_type": "stream",
                    "text": [
                        "\n"
                    ]
                },
                {
                    "name": "stdout",
                    "output_type": "stream",
                    "text": [
                        "\n",
                        "      Epoch    GPU_mem   box_loss   cls_loss   dfl_loss  Instances       Size\n"
                    ]
                },
                {
                    "name": "stderr",
                    "output_type": "stream",
                    "text": [
                        "     78/100      6.08G      3.054      1.553      2.191         76        640: 100%|██████████| 72/72 [00:32<00:00,  2.25it/s]\n",
                        "                 Class     Images  Instances      Box(P          R      mAP50  mAP50-95): 100%|██████████| 4/4 [00:01<00:00,  3.00it/s]"
                    ]
                },
                {
                    "name": "stdout",
                    "output_type": "stream",
                    "text": [
                        "                   all        229       1015      0.747      0.732      0.786       0.33\n"
                    ]
                },
                {
                    "name": "stderr",
                    "output_type": "stream",
                    "text": [
                        "\n"
                    ]
                },
                {
                    "name": "stdout",
                    "output_type": "stream",
                    "text": [
                        "\n",
                        "      Epoch    GPU_mem   box_loss   cls_loss   dfl_loss  Instances       Size\n"
                    ]
                },
                {
                    "name": "stderr",
                    "output_type": "stream",
                    "text": [
                        "     79/100      6.07G       2.97      1.484      2.167         71        640: 100%|██████████| 72/72 [00:31<00:00,  2.28it/s]\n",
                        "                 Class     Images  Instances      Box(P          R      mAP50  mAP50-95): 100%|██████████| 4/4 [00:01<00:00,  2.82it/s]"
                    ]
                },
                {
                    "name": "stdout",
                    "output_type": "stream",
                    "text": [
                        "                   all        229       1015      0.737      0.732      0.778      0.324\n"
                    ]
                },
                {
                    "name": "stderr",
                    "output_type": "stream",
                    "text": [
                        "\n"
                    ]
                },
                {
                    "name": "stdout",
                    "output_type": "stream",
                    "text": [
                        "\n",
                        "      Epoch    GPU_mem   box_loss   cls_loss   dfl_loss  Instances       Size\n"
                    ]
                },
                {
                    "name": "stderr",
                    "output_type": "stream",
                    "text": [
                        "     80/100       5.9G      2.915      1.465      2.151         64        640: 100%|██████████| 72/72 [00:32<00:00,  2.25it/s]\n",
                        "                 Class     Images  Instances      Box(P          R      mAP50  mAP50-95): 100%|██████████| 4/4 [00:01<00:00,  2.62it/s]"
                    ]
                },
                {
                    "name": "stdout",
                    "output_type": "stream",
                    "text": [
                        "                   all        229       1015      0.756      0.722      0.778      0.327\n"
                    ]
                },
                {
                    "name": "stderr",
                    "output_type": "stream",
                    "text": [
                        "\n"
                    ]
                },
                {
                    "name": "stdout",
                    "output_type": "stream",
                    "text": [
                        "\n",
                        "      Epoch    GPU_mem   box_loss   cls_loss   dfl_loss  Instances       Size\n"
                    ]
                },
                {
                    "name": "stderr",
                    "output_type": "stream",
                    "text": [
                        "     81/100      5.92G      2.976      1.501      2.192         51        640: 100%|██████████| 72/72 [00:31<00:00,  2.30it/s]\n",
                        "                 Class     Images  Instances      Box(P          R      mAP50  mAP50-95): 100%|██████████| 4/4 [00:01<00:00,  3.14it/s]"
                    ]
                },
                {
                    "name": "stdout",
                    "output_type": "stream",
                    "text": [
                        "                   all        229       1015      0.734      0.741       0.78      0.327\n"
                    ]
                },
                {
                    "name": "stderr",
                    "output_type": "stream",
                    "text": [
                        "\n"
                    ]
                },
                {
                    "name": "stdout",
                    "output_type": "stream",
                    "text": [
                        "\n",
                        "      Epoch    GPU_mem   box_loss   cls_loss   dfl_loss  Instances       Size\n"
                    ]
                },
                {
                    "name": "stderr",
                    "output_type": "stream",
                    "text": [
                        "     82/100      5.91G      2.981      1.481      2.177         31        640: 100%|██████████| 72/72 [00:31<00:00,  2.29it/s]\n",
                        "                 Class     Images  Instances      Box(P          R      mAP50  mAP50-95): 100%|██████████| 4/4 [00:01<00:00,  3.00it/s]"
                    ]
                },
                {
                    "name": "stdout",
                    "output_type": "stream",
                    "text": [
                        "                   all        229       1015      0.736      0.737      0.782      0.331\n"
                    ]
                },
                {
                    "name": "stderr",
                    "output_type": "stream",
                    "text": [
                        "\n"
                    ]
                },
                {
                    "name": "stdout",
                    "output_type": "stream",
                    "text": [
                        "\n",
                        "      Epoch    GPU_mem   box_loss   cls_loss   dfl_loss  Instances       Size\n"
                    ]
                },
                {
                    "name": "stderr",
                    "output_type": "stream",
                    "text": [
                        "     83/100      5.95G      2.921      1.486      2.175         37        640: 100%|██████████| 72/72 [00:31<00:00,  2.29it/s]\n",
                        "                 Class     Images  Instances      Box(P          R      mAP50  mAP50-95): 100%|██████████| 4/4 [00:01<00:00,  2.87it/s]"
                    ]
                },
                {
                    "name": "stdout",
                    "output_type": "stream",
                    "text": [
                        "                   all        229       1015      0.731      0.753      0.789      0.332\n"
                    ]
                },
                {
                    "name": "stderr",
                    "output_type": "stream",
                    "text": [
                        "\n"
                    ]
                },
                {
                    "name": "stdout",
                    "output_type": "stream",
                    "text": [
                        "\n",
                        "      Epoch    GPU_mem   box_loss   cls_loss   dfl_loss  Instances       Size\n"
                    ]
                },
                {
                    "name": "stderr",
                    "output_type": "stream",
                    "text": [
                        "     84/100      5.97G      2.979      1.507      2.175         73        640: 100%|██████████| 72/72 [00:31<00:00,  2.26it/s]\n",
                        "                 Class     Images  Instances      Box(P          R      mAP50  mAP50-95): 100%|██████████| 4/4 [00:01<00:00,  2.82it/s]"
                    ]
                },
                {
                    "name": "stdout",
                    "output_type": "stream",
                    "text": [
                        "                   all        229       1015      0.739      0.734      0.788      0.332\n"
                    ]
                },
                {
                    "name": "stderr",
                    "output_type": "stream",
                    "text": [
                        "\n"
                    ]
                },
                {
                    "name": "stdout",
                    "output_type": "stream",
                    "text": [
                        "\n",
                        "      Epoch    GPU_mem   box_loss   cls_loss   dfl_loss  Instances       Size\n"
                    ]
                },
                {
                    "name": "stderr",
                    "output_type": "stream",
                    "text": [
                        "     85/100       5.9G      2.875      1.439      2.144         65        640: 100%|██████████| 72/72 [00:31<00:00,  2.28it/s]\n",
                        "                 Class     Images  Instances      Box(P          R      mAP50  mAP50-95): 100%|██████████| 4/4 [00:01<00:00,  2.72it/s]"
                    ]
                },
                {
                    "name": "stdout",
                    "output_type": "stream",
                    "text": [
                        "                   all        229       1015      0.733      0.744      0.779      0.328\n"
                    ]
                },
                {
                    "name": "stderr",
                    "output_type": "stream",
                    "text": [
                        "\n"
                    ]
                },
                {
                    "name": "stdout",
                    "output_type": "stream",
                    "text": [
                        "\n",
                        "      Epoch    GPU_mem   box_loss   cls_loss   dfl_loss  Instances       Size\n"
                    ]
                },
                {
                    "name": "stderr",
                    "output_type": "stream",
                    "text": [
                        "     86/100      5.99G      2.931       1.46      2.145         55        640: 100%|██████████| 72/72 [00:51<00:00,  1.38it/s]\n",
                        "                 Class     Images  Instances      Box(P          R      mAP50  mAP50-95): 100%|██████████| 4/4 [00:04<00:00,  1.22s/it]"
                    ]
                },
                {
                    "name": "stdout",
                    "output_type": "stream",
                    "text": [
                        "                   all        229       1015      0.768      0.717      0.784      0.335\n"
                    ]
                },
                {
                    "name": "stderr",
                    "output_type": "stream",
                    "text": [
                        "\n"
                    ]
                },
                {
                    "name": "stdout",
                    "output_type": "stream",
                    "text": [
                        "\n",
                        "      Epoch    GPU_mem   box_loss   cls_loss   dfl_loss  Instances       Size\n"
                    ]
                },
                {
                    "name": "stderr",
                    "output_type": "stream",
                    "text": [
                        "     87/100      5.91G      2.967      1.497      2.162         75        640: 100%|██████████| 72/72 [00:52<00:00,  1.37it/s]\n",
                        "                 Class     Images  Instances      Box(P          R      mAP50  mAP50-95): 100%|██████████| 4/4 [00:04<00:00,  1.16s/it]"
                    ]
                },
                {
                    "name": "stdout",
                    "output_type": "stream",
                    "text": [
                        "                   all        229       1015      0.724      0.746      0.782       0.33\n"
                    ]
                },
                {
                    "name": "stderr",
                    "output_type": "stream",
                    "text": [
                        "\n"
                    ]
                },
                {
                    "name": "stdout",
                    "output_type": "stream",
                    "text": [
                        "\n",
                        "      Epoch    GPU_mem   box_loss   cls_loss   dfl_loss  Instances       Size\n"
                    ]
                },
                {
                    "name": "stderr",
                    "output_type": "stream",
                    "text": [
                        "     88/100      6.13G      2.934      1.466      2.164         72        640: 100%|██████████| 72/72 [00:47<00:00,  1.51it/s]\n",
                        "                 Class     Images  Instances      Box(P          R      mAP50  mAP50-95): 100%|██████████| 4/4 [00:01<00:00,  3.05it/s]"
                    ]
                },
                {
                    "name": "stdout",
                    "output_type": "stream",
                    "text": [
                        "                   all        229       1015      0.741      0.733      0.777      0.332\n"
                    ]
                },
                {
                    "name": "stderr",
                    "output_type": "stream",
                    "text": [
                        "\n"
                    ]
                },
                {
                    "name": "stdout",
                    "output_type": "stream",
                    "text": [
                        "\n",
                        "      Epoch    GPU_mem   box_loss   cls_loss   dfl_loss  Instances       Size\n"
                    ]
                },
                {
                    "name": "stderr",
                    "output_type": "stream",
                    "text": [
                        "     89/100      6.09G      2.876      1.446      2.147        103        640: 100%|██████████| 72/72 [00:31<00:00,  2.32it/s]\n",
                        "                 Class     Images  Instances      Box(P          R      mAP50  mAP50-95): 100%|██████████| 4/4 [00:01<00:00,  2.80it/s]"
                    ]
                },
                {
                    "name": "stdout",
                    "output_type": "stream",
                    "text": [
                        "                   all        229       1015      0.757      0.729       0.78      0.333\n"
                    ]
                },
                {
                    "name": "stderr",
                    "output_type": "stream",
                    "text": [
                        "\n"
                    ]
                },
                {
                    "name": "stdout",
                    "output_type": "stream",
                    "text": [
                        "\n",
                        "      Epoch    GPU_mem   box_loss   cls_loss   dfl_loss  Instances       Size\n"
                    ]
                },
                {
                    "name": "stderr",
                    "output_type": "stream",
                    "text": [
                        "     90/100      5.91G      2.849      1.426      2.123         55        640: 100%|██████████| 72/72 [00:30<00:00,  2.33it/s]\n",
                        "                 Class     Images  Instances      Box(P          R      mAP50  mAP50-95): 100%|██████████| 4/4 [00:01<00:00,  2.93it/s]"
                    ]
                },
                {
                    "name": "stdout",
                    "output_type": "stream",
                    "text": [
                        "                   all        229       1015      0.744      0.739      0.782      0.332\n"
                    ]
                },
                {
                    "name": "stderr",
                    "output_type": "stream",
                    "text": [
                        "\n"
                    ]
                },
                {
                    "name": "stdout",
                    "output_type": "stream",
                    "text": [
                        "Closing dataloader mosaic\n",
                        "\n",
                        "      Epoch    GPU_mem   box_loss   cls_loss   dfl_loss  Instances       Size\n"
                    ]
                },
                {
                    "name": "stderr",
                    "output_type": "stream",
                    "text": [
                        "     91/100      5.97G      2.871       1.35       2.16         31        640: 100%|██████████| 72/72 [00:44<00:00,  1.62it/s]\n",
                        "                 Class     Images  Instances      Box(P          R      mAP50  mAP50-95): 100%|██████████| 4/4 [00:05<00:00,  1.38s/it]"
                    ]
                },
                {
                    "name": "stdout",
                    "output_type": "stream",
                    "text": [
                        "                   all        229       1015      0.748       0.72      0.774      0.324\n"
                    ]
                },
                {
                    "name": "stderr",
                    "output_type": "stream",
                    "text": [
                        "\n"
                    ]
                },
                {
                    "name": "stdout",
                    "output_type": "stream",
                    "text": [
                        "\n",
                        "      Epoch    GPU_mem   box_loss   cls_loss   dfl_loss  Instances       Size\n"
                    ]
                },
                {
                    "name": "stderr",
                    "output_type": "stream",
                    "text": [
                        "     92/100      5.92G      2.794      1.305      2.146         29        640: 100%|██████████| 72/72 [00:49<00:00,  1.45it/s]\n",
                        "                 Class     Images  Instances      Box(P          R      mAP50  mAP50-95): 100%|██████████| 4/4 [00:02<00:00,  1.43it/s]"
                    ]
                },
                {
                    "name": "stdout",
                    "output_type": "stream",
                    "text": [
                        "                   all        229       1015      0.739      0.707      0.767      0.324\n"
                    ]
                },
                {
                    "name": "stderr",
                    "output_type": "stream",
                    "text": [
                        "\n"
                    ]
                },
                {
                    "name": "stdout",
                    "output_type": "stream",
                    "text": [
                        "\n",
                        "      Epoch    GPU_mem   box_loss   cls_loss   dfl_loss  Instances       Size\n"
                    ]
                },
                {
                    "name": "stderr",
                    "output_type": "stream",
                    "text": [
                        "     93/100      5.92G      2.748      1.285      2.101         33        640: 100%|██████████| 72/72 [00:41<00:00,  1.72it/s]\n",
                        "                 Class     Images  Instances      Box(P          R      mAP50  mAP50-95): 100%|██████████| 4/4 [00:02<00:00,  1.40it/s]"
                    ]
                },
                {
                    "name": "stdout",
                    "output_type": "stream",
                    "text": [
                        "                   all        229       1015      0.735      0.728      0.775      0.328\n"
                    ]
                },
                {
                    "name": "stderr",
                    "output_type": "stream",
                    "text": [
                        "\n"
                    ]
                },
                {
                    "name": "stdout",
                    "output_type": "stream",
                    "text": [
                        "\n",
                        "      Epoch    GPU_mem   box_loss   cls_loss   dfl_loss  Instances       Size\n"
                    ]
                },
                {
                    "name": "stderr",
                    "output_type": "stream",
                    "text": [
                        "     94/100       5.9G      2.764      1.294      2.111         17        640: 100%|██████████| 72/72 [00:41<00:00,  1.75it/s]\n",
                        "                 Class     Images  Instances      Box(P          R      mAP50  mAP50-95): 100%|██████████| 4/4 [00:02<00:00,  1.35it/s]"
                    ]
                },
                {
                    "name": "stdout",
                    "output_type": "stream",
                    "text": [
                        "                   all        229       1015      0.734      0.735      0.772      0.329\n"
                    ]
                },
                {
                    "name": "stderr",
                    "output_type": "stream",
                    "text": [
                        "\n"
                    ]
                },
                {
                    "name": "stdout",
                    "output_type": "stream",
                    "text": [
                        "\n",
                        "      Epoch    GPU_mem   box_loss   cls_loss   dfl_loss  Instances       Size\n"
                    ]
                },
                {
                    "name": "stderr",
                    "output_type": "stream",
                    "text": [
                        "     95/100      5.99G      2.766      1.288      2.124         44        640: 100%|██████████| 72/72 [00:35<00:00,  2.04it/s]\n",
                        "                 Class     Images  Instances      Box(P          R      mAP50  mAP50-95): 100%|██████████| 4/4 [00:01<00:00,  2.66it/s]"
                    ]
                },
                {
                    "name": "stdout",
                    "output_type": "stream",
                    "text": [
                        "                   all        229       1015      0.748      0.727      0.779       0.33\n"
                    ]
                },
                {
                    "name": "stderr",
                    "output_type": "stream",
                    "text": [
                        "\n"
                    ]
                },
                {
                    "name": "stdout",
                    "output_type": "stream",
                    "text": [
                        "\n",
                        "      Epoch    GPU_mem   box_loss   cls_loss   dfl_loss  Instances       Size\n"
                    ]
                },
                {
                    "name": "stderr",
                    "output_type": "stream",
                    "text": [
                        "     96/100      6.02G      2.708      1.254      2.106         11        640: 100%|██████████| 72/72 [00:31<00:00,  2.32it/s]\n",
                        "                 Class     Images  Instances      Box(P          R      mAP50  mAP50-95): 100%|██████████| 4/4 [00:01<00:00,  3.08it/s]"
                    ]
                },
                {
                    "name": "stdout",
                    "output_type": "stream",
                    "text": [
                        "                   all        229       1015      0.752       0.73      0.782      0.331\n"
                    ]
                },
                {
                    "name": "stderr",
                    "output_type": "stream",
                    "text": [
                        "\n"
                    ]
                },
                {
                    "name": "stdout",
                    "output_type": "stream",
                    "text": [
                        "\n",
                        "      Epoch    GPU_mem   box_loss   cls_loss   dfl_loss  Instances       Size\n"
                    ]
                },
                {
                    "name": "stderr",
                    "output_type": "stream",
                    "text": [
                        "     97/100      5.97G      2.707      1.264      2.103         51        640: 100%|██████████| 72/72 [00:30<00:00,  2.36it/s]\n",
                        "                 Class     Images  Instances      Box(P          R      mAP50  mAP50-95): 100%|██████████| 4/4 [00:01<00:00,  2.94it/s]"
                    ]
                },
                {
                    "name": "stdout",
                    "output_type": "stream",
                    "text": [
                        "                   all        229       1015      0.737      0.754      0.783      0.331\n"
                    ]
                },
                {
                    "name": "stderr",
                    "output_type": "stream",
                    "text": [
                        "\n"
                    ]
                },
                {
                    "name": "stdout",
                    "output_type": "stream",
                    "text": [
                        "\n",
                        "      Epoch    GPU_mem   box_loss   cls_loss   dfl_loss  Instances       Size\n"
                    ]
                },
                {
                    "name": "stderr",
                    "output_type": "stream",
                    "text": [
                        "     98/100      5.95G      2.707      1.271      2.113         39        640: 100%|██████████| 72/72 [00:30<00:00,  2.34it/s]\n",
                        "                 Class     Images  Instances      Box(P          R      mAP50  mAP50-95): 100%|██████████| 4/4 [00:01<00:00,  2.93it/s]"
                    ]
                },
                {
                    "name": "stdout",
                    "output_type": "stream",
                    "text": [
                        "                   all        229       1015      0.756      0.726       0.78      0.332\n"
                    ]
                },
                {
                    "name": "stderr",
                    "output_type": "stream",
                    "text": [
                        "\n"
                    ]
                },
                {
                    "name": "stdout",
                    "output_type": "stream",
                    "text": [
                        "\n",
                        "      Epoch    GPU_mem   box_loss   cls_loss   dfl_loss  Instances       Size\n"
                    ]
                },
                {
                    "name": "stderr",
                    "output_type": "stream",
                    "text": [
                        "     99/100      5.92G       2.68      1.241      2.102         40        640: 100%|██████████| 72/72 [00:30<00:00,  2.36it/s]\n",
                        "                 Class     Images  Instances      Box(P          R      mAP50  mAP50-95): 100%|██████████| 4/4 [00:01<00:00,  2.98it/s]"
                    ]
                },
                {
                    "name": "stdout",
                    "output_type": "stream",
                    "text": [
                        "                   all        229       1015      0.739       0.73      0.783      0.332\n"
                    ]
                },
                {
                    "name": "stderr",
                    "output_type": "stream",
                    "text": [
                        "\n"
                    ]
                },
                {
                    "name": "stdout",
                    "output_type": "stream",
                    "text": [
                        "\n",
                        "      Epoch    GPU_mem   box_loss   cls_loss   dfl_loss  Instances       Size\n"
                    ]
                },
                {
                    "name": "stderr",
                    "output_type": "stream",
                    "text": [
                        "    100/100      5.83G      2.693      1.249      2.092         36        640: 100%|██████████| 72/72 [00:30<00:00,  2.35it/s]\n",
                        "                 Class     Images  Instances      Box(P          R      mAP50  mAP50-95): 100%|██████████| 4/4 [00:01<00:00,  3.01it/s]"
                    ]
                },
                {
                    "name": "stdout",
                    "output_type": "stream",
                    "text": [
                        "                   all        229       1015      0.739      0.741      0.781      0.333\n"
                    ]
                },
                {
                    "name": "stderr",
                    "output_type": "stream",
                    "text": [
                        "\n"
                    ]
                },
                {
                    "name": "stdout",
                    "output_type": "stream",
                    "text": [
                        "\n",
                        "100 epochs completed in 1.126 hours.\n",
                        "Optimizer stripped from runs\\detect\\swimming_recognition_model5\\weights\\last.pt, 5.7MB\n",
                        "Optimizer stripped from runs\\detect\\swimming_recognition_model5\\weights\\best.pt, 5.7MB\n",
                        "\n",
                        "Validating runs\\detect\\swimming_recognition_model5\\weights\\best.pt...\n",
                        "Ultralytics YOLOv8.2.98  Python-3.11.9 torch-2.4.1+cu124 CUDA:0 (NVIDIA GeForce RTX 4060 Laptop GPU, 8188MiB)\n",
                        "YOLOv10n summary (fused): 285 layers, 2,694,806 parameters, 0 gradients, 8.2 GFLOPs\n"
                    ]
                },
                {
                    "name": "stderr",
                    "output_type": "stream",
                    "text": [
                        "                 Class     Images  Instances      Box(P          R      mAP50  mAP50-95): 100%|██████████| 4/4 [00:02<00:00,  1.95it/s]\n"
                    ]
                },
                {
                    "name": "stdout",
                    "output_type": "stream",
                    "text": [
                        "                   all        229       1015      0.772      0.714      0.785      0.334\n",
                        "Speed: 0.2ms preprocess, 2.0ms inference, 0.0ms loss, 0.2ms postprocess per image\n",
                        "Results saved to \u001b[1mruns\\detect\\swimming_recognition_model5\u001b[0m\n"
                    ]
                },
                {
                    "data": {
                        "text/plain": [
                            "ultralytics.utils.metrics.DetMetrics object with attributes:\n",
                            "\n",
                            "ap_class_index: array([0])\n",
                            "box: ultralytics.utils.metrics.Metric object\n",
                            "confusion_matrix: <ultralytics.utils.metrics.ConfusionMatrix object at 0x00000204553CF0D0>\n",
                            "curves: ['Precision-Recall(B)', 'F1-Confidence(B)', 'Precision-Confidence(B)', 'Recall-Confidence(B)']\n",
                            "curves_results: [[array([          0,    0.001001,    0.002002,    0.003003,    0.004004,    0.005005,    0.006006,    0.007007,    0.008008,    0.009009,     0.01001,    0.011011,    0.012012,    0.013013,    0.014014,    0.015015,    0.016016,    0.017017,    0.018018,    0.019019,     0.02002,    0.021021,    0.022022,    0.023023,\n",
                            "          0.024024,    0.025025,    0.026026,    0.027027,    0.028028,    0.029029,     0.03003,    0.031031,    0.032032,    0.033033,    0.034034,    0.035035,    0.036036,    0.037037,    0.038038,    0.039039,     0.04004,    0.041041,    0.042042,    0.043043,    0.044044,    0.045045,    0.046046,    0.047047,\n",
                            "          0.048048,    0.049049,     0.05005,    0.051051,    0.052052,    0.053053,    0.054054,    0.055055,    0.056056,    0.057057,    0.058058,    0.059059,     0.06006,    0.061061,    0.062062,    0.063063,    0.064064,    0.065065,    0.066066,    0.067067,    0.068068,    0.069069,     0.07007,    0.071071,\n",
                            "          0.072072,    0.073073,    0.074074,    0.075075,    0.076076,    0.077077,    0.078078,    0.079079,     0.08008,    0.081081,    0.082082,    0.083083,    0.084084,    0.085085,    0.086086,    0.087087,    0.088088,    0.089089,     0.09009,    0.091091,    0.092092,    0.093093,    0.094094,    0.095095,\n",
                            "          0.096096,    0.097097,    0.098098,    0.099099,      0.1001,      0.1011,      0.1021,      0.1031,      0.1041,     0.10511,     0.10611,     0.10711,     0.10811,     0.10911,     0.11011,     0.11111,     0.11211,     0.11311,     0.11411,     0.11512,     0.11612,     0.11712,     0.11812,     0.11912,\n",
                            "           0.12012,     0.12112,     0.12212,     0.12312,     0.12412,     0.12513,     0.12613,     0.12713,     0.12813,     0.12913,     0.13013,     0.13113,     0.13213,     0.13313,     0.13413,     0.13514,     0.13614,     0.13714,     0.13814,     0.13914,     0.14014,     0.14114,     0.14214,     0.14314,\n",
                            "           0.14414,     0.14515,     0.14615,     0.14715,     0.14815,     0.14915,     0.15015,     0.15115,     0.15215,     0.15315,     0.15415,     0.15516,     0.15616,     0.15716,     0.15816,     0.15916,     0.16016,     0.16116,     0.16216,     0.16316,     0.16416,     0.16517,     0.16617,     0.16717,\n",
                            "           0.16817,     0.16917,     0.17017,     0.17117,     0.17217,     0.17317,     0.17417,     0.17518,     0.17618,     0.17718,     0.17818,     0.17918,     0.18018,     0.18118,     0.18218,     0.18318,     0.18418,     0.18519,     0.18619,     0.18719,     0.18819,     0.18919,     0.19019,     0.19119,\n",
                            "           0.19219,     0.19319,     0.19419,      0.1952,      0.1962,      0.1972,      0.1982,      0.1992,      0.2002,      0.2012,      0.2022,      0.2032,      0.2042,     0.20521,     0.20621,     0.20721,     0.20821,     0.20921,     0.21021,     0.21121,     0.21221,     0.21321,     0.21421,     0.21522,\n",
                            "           0.21622,     0.21722,     0.21822,     0.21922,     0.22022,     0.22122,     0.22222,     0.22322,     0.22422,     0.22523,     0.22623,     0.22723,     0.22823,     0.22923,     0.23023,     0.23123,     0.23223,     0.23323,     0.23423,     0.23524,     0.23624,     0.23724,     0.23824,     0.23924,\n",
                            "           0.24024,     0.24124,     0.24224,     0.24324,     0.24424,     0.24525,     0.24625,     0.24725,     0.24825,     0.24925,     0.25025,     0.25125,     0.25225,     0.25325,     0.25425,     0.25526,     0.25626,     0.25726,     0.25826,     0.25926,     0.26026,     0.26126,     0.26226,     0.26326,\n",
                            "           0.26426,     0.26527,     0.26627,     0.26727,     0.26827,     0.26927,     0.27027,     0.27127,     0.27227,     0.27327,     0.27427,     0.27528,     0.27628,     0.27728,     0.27828,     0.27928,     0.28028,     0.28128,     0.28228,     0.28328,     0.28428,     0.28529,     0.28629,     0.28729,\n",
                            "           0.28829,     0.28929,     0.29029,     0.29129,     0.29229,     0.29329,     0.29429,      0.2953,      0.2963,      0.2973,      0.2983,      0.2993,      0.3003,      0.3013,      0.3023,      0.3033,      0.3043,     0.30531,     0.30631,     0.30731,     0.30831,     0.30931,     0.31031,     0.31131,\n",
                            "           0.31231,     0.31331,     0.31431,     0.31532,     0.31632,     0.31732,     0.31832,     0.31932,     0.32032,     0.32132,     0.32232,     0.32332,     0.32432,     0.32533,     0.32633,     0.32733,     0.32833,     0.32933,     0.33033,     0.33133,     0.33233,     0.33333,     0.33433,     0.33534,\n",
                            "           0.33634,     0.33734,     0.33834,     0.33934,     0.34034,     0.34134,     0.34234,     0.34334,     0.34434,     0.34535,     0.34635,     0.34735,     0.34835,     0.34935,     0.35035,     0.35135,     0.35235,     0.35335,     0.35435,     0.35536,     0.35636,     0.35736,     0.35836,     0.35936,\n",
                            "           0.36036,     0.36136,     0.36236,     0.36336,     0.36436,     0.36537,     0.36637,     0.36737,     0.36837,     0.36937,     0.37037,     0.37137,     0.37237,     0.37337,     0.37437,     0.37538,     0.37638,     0.37738,     0.37838,     0.37938,     0.38038,     0.38138,     0.38238,     0.38338,\n",
                            "           0.38438,     0.38539,     0.38639,     0.38739,     0.38839,     0.38939,     0.39039,     0.39139,     0.39239,     0.39339,     0.39439,      0.3954,      0.3964,      0.3974,      0.3984,      0.3994,      0.4004,      0.4014,      0.4024,      0.4034,      0.4044,     0.40541,     0.40641,     0.40741,\n",
                            "           0.40841,     0.40941,     0.41041,     0.41141,     0.41241,     0.41341,     0.41441,     0.41542,     0.41642,     0.41742,     0.41842,     0.41942,     0.42042,     0.42142,     0.42242,     0.42342,     0.42442,     0.42543,     0.42643,     0.42743,     0.42843,     0.42943,     0.43043,     0.43143,\n",
                            "           0.43243,     0.43343,     0.43443,     0.43544,     0.43644,     0.43744,     0.43844,     0.43944,     0.44044,     0.44144,     0.44244,     0.44344,     0.44444,     0.44545,     0.44645,     0.44745,     0.44845,     0.44945,     0.45045,     0.45145,     0.45245,     0.45345,     0.45445,     0.45546,\n",
                            "           0.45646,     0.45746,     0.45846,     0.45946,     0.46046,     0.46146,     0.46246,     0.46346,     0.46446,     0.46547,     0.46647,     0.46747,     0.46847,     0.46947,     0.47047,     0.47147,     0.47247,     0.47347,     0.47447,     0.47548,     0.47648,     0.47748,     0.47848,     0.47948,\n",
                            "           0.48048,     0.48148,     0.48248,     0.48348,     0.48448,     0.48549,     0.48649,     0.48749,     0.48849,     0.48949,     0.49049,     0.49149,     0.49249,     0.49349,     0.49449,      0.4955,      0.4965,      0.4975,      0.4985,      0.4995,      0.5005,      0.5015,      0.5025,      0.5035,\n",
                            "            0.5045,     0.50551,     0.50651,     0.50751,     0.50851,     0.50951,     0.51051,     0.51151,     0.51251,     0.51351,     0.51451,     0.51552,     0.51652,     0.51752,     0.51852,     0.51952,     0.52052,     0.52152,     0.52252,     0.52352,     0.52452,     0.52553,     0.52653,     0.52753,\n",
                            "           0.52853,     0.52953,     0.53053,     0.53153,     0.53253,     0.53353,     0.53453,     0.53554,     0.53654,     0.53754,     0.53854,     0.53954,     0.54054,     0.54154,     0.54254,     0.54354,     0.54454,     0.54555,     0.54655,     0.54755,     0.54855,     0.54955,     0.55055,     0.55155,\n",
                            "           0.55255,     0.55355,     0.55455,     0.55556,     0.55656,     0.55756,     0.55856,     0.55956,     0.56056,     0.56156,     0.56256,     0.56356,     0.56456,     0.56557,     0.56657,     0.56757,     0.56857,     0.56957,     0.57057,     0.57157,     0.57257,     0.57357,     0.57457,     0.57558,\n",
                            "           0.57658,     0.57758,     0.57858,     0.57958,     0.58058,     0.58158,     0.58258,     0.58358,     0.58458,     0.58559,     0.58659,     0.58759,     0.58859,     0.58959,     0.59059,     0.59159,     0.59259,     0.59359,     0.59459,      0.5956,      0.5966,      0.5976,      0.5986,      0.5996,\n",
                            "            0.6006,      0.6016,      0.6026,      0.6036,      0.6046,     0.60561,     0.60661,     0.60761,     0.60861,     0.60961,     0.61061,     0.61161,     0.61261,     0.61361,     0.61461,     0.61562,     0.61662,     0.61762,     0.61862,     0.61962,     0.62062,     0.62162,     0.62262,     0.62362,\n",
                            "           0.62462,     0.62563,     0.62663,     0.62763,     0.62863,     0.62963,     0.63063,     0.63163,     0.63263,     0.63363,     0.63463,     0.63564,     0.63664,     0.63764,     0.63864,     0.63964,     0.64064,     0.64164,     0.64264,     0.64364,     0.64464,     0.64565,     0.64665,     0.64765,\n",
                            "           0.64865,     0.64965,     0.65065,     0.65165,     0.65265,     0.65365,     0.65465,     0.65566,     0.65666,     0.65766,     0.65866,     0.65966,     0.66066,     0.66166,     0.66266,     0.66366,     0.66466,     0.66567,     0.66667,     0.66767,     0.66867,     0.66967,     0.67067,     0.67167,\n",
                            "           0.67267,     0.67367,     0.67467,     0.67568,     0.67668,     0.67768,     0.67868,     0.67968,     0.68068,     0.68168,     0.68268,     0.68368,     0.68468,     0.68569,     0.68669,     0.68769,     0.68869,     0.68969,     0.69069,     0.69169,     0.69269,     0.69369,     0.69469,      0.6957,\n",
                            "            0.6967,      0.6977,      0.6987,      0.6997,      0.7007,      0.7017,      0.7027,      0.7037,      0.7047,     0.70571,     0.70671,     0.70771,     0.70871,     0.70971,     0.71071,     0.71171,     0.71271,     0.71371,     0.71471,     0.71572,     0.71672,     0.71772,     0.71872,     0.71972,\n",
                            "           0.72072,     0.72172,     0.72272,     0.72372,     0.72472,     0.72573,     0.72673,     0.72773,     0.72873,     0.72973,     0.73073,     0.73173,     0.73273,     0.73373,     0.73473,     0.73574,     0.73674,     0.73774,     0.73874,     0.73974,     0.74074,     0.74174,     0.74274,     0.74374,\n",
                            "           0.74474,     0.74575,     0.74675,     0.74775,     0.74875,     0.74975,     0.75075,     0.75175,     0.75275,     0.75375,     0.75475,     0.75576,     0.75676,     0.75776,     0.75876,     0.75976,     0.76076,     0.76176,     0.76276,     0.76376,     0.76476,     0.76577,     0.76677,     0.76777,\n",
                            "           0.76877,     0.76977,     0.77077,     0.77177,     0.77277,     0.77377,     0.77477,     0.77578,     0.77678,     0.77778,     0.77878,     0.77978,     0.78078,     0.78178,     0.78278,     0.78378,     0.78478,     0.78579,     0.78679,     0.78779,     0.78879,     0.78979,     0.79079,     0.79179,\n",
                            "           0.79279,     0.79379,     0.79479,      0.7958,      0.7968,      0.7978,      0.7988,      0.7998,      0.8008,      0.8018,      0.8028,      0.8038,      0.8048,     0.80581,     0.80681,     0.80781,     0.80881,     0.80981,     0.81081,     0.81181,     0.81281,     0.81381,     0.81481,     0.81582,\n",
                            "           0.81682,     0.81782,     0.81882,     0.81982,     0.82082,     0.82182,     0.82282,     0.82382,     0.82482,     0.82583,     0.82683,     0.82783,     0.82883,     0.82983,     0.83083,     0.83183,     0.83283,     0.83383,     0.83483,     0.83584,     0.83684,     0.83784,     0.83884,     0.83984,\n",
                            "           0.84084,     0.84184,     0.84284,     0.84384,     0.84484,     0.84585,     0.84685,     0.84785,     0.84885,     0.84985,     0.85085,     0.85185,     0.85285,     0.85385,     0.85485,     0.85586,     0.85686,     0.85786,     0.85886,     0.85986,     0.86086,     0.86186,     0.86286,     0.86386,\n",
                            "           0.86486,     0.86587,     0.86687,     0.86787,     0.86887,     0.86987,     0.87087,     0.87187,     0.87287,     0.87387,     0.87487,     0.87588,     0.87688,     0.87788,     0.87888,     0.87988,     0.88088,     0.88188,     0.88288,     0.88388,     0.88488,     0.88589,     0.88689,     0.88789,\n",
                            "           0.88889,     0.88989,     0.89089,     0.89189,     0.89289,     0.89389,     0.89489,      0.8959,      0.8969,      0.8979,      0.8989,      0.8999,      0.9009,      0.9019,      0.9029,      0.9039,      0.9049,     0.90591,     0.90691,     0.90791,     0.90891,     0.90991,     0.91091,     0.91191,\n",
                            "           0.91291,     0.91391,     0.91491,     0.91592,     0.91692,     0.91792,     0.91892,     0.91992,     0.92092,     0.92192,     0.92292,     0.92392,     0.92492,     0.92593,     0.92693,     0.92793,     0.92893,     0.92993,     0.93093,     0.93193,     0.93293,     0.93393,     0.93493,     0.93594,\n",
                            "           0.93694,     0.93794,     0.93894,     0.93994,     0.94094,     0.94194,     0.94294,     0.94394,     0.94494,     0.94595,     0.94695,     0.94795,     0.94895,     0.94995,     0.95095,     0.95195,     0.95295,     0.95395,     0.95495,     0.95596,     0.95696,     0.95796,     0.95896,     0.95996,\n",
                            "           0.96096,     0.96196,     0.96296,     0.96396,     0.96496,     0.96597,     0.96697,     0.96797,     0.96897,     0.96997,     0.97097,     0.97197,     0.97297,     0.97397,     0.97497,     0.97598,     0.97698,     0.97798,     0.97898,     0.97998,     0.98098,     0.98198,     0.98298,     0.98398,\n",
                            "           0.98498,     0.98599,     0.98699,     0.98799,     0.98899,     0.98999,     0.99099,     0.99199,     0.99299,     0.99399,     0.99499,       0.996,       0.997,       0.998,       0.999,           1]), array([[          1,           1,           1,           1,           1,           1,           1,           1,           1,           1,           1,           1,           1,           1,           1,           1,           1,           1,           1,           1,           1,           1,           1,\n",
                            "                  1,           1,           1,           1,           1,           1,           1,           1,           1,           1,           1,           1,           1,           1,           1,           1,           1,           1,           1,           1,           1,           1,           1,\n",
                            "                  1,           1,           1,           1,           1,           1,           1,           1,           1,           1,           1,           1,           1,           1,           1,           1,           1,           1,           1,           1,           1,           1,           1,\n",
                            "                  1,           1,           1,           1,           1,           1,           1,           1,           1,           1,           1,           1,           1,           1,           1,           1,           1,           1,           1,           1,           1,           1,           1,\n",
                            "                  1,           1,           1,           1,           1,           1,           1,           1,           1,           1,           1,           1,           1,           1,           1,           1,           1,           1,           1,           1,           1,           1,           1,\n",
                            "                  1,           1,     0.99087,     0.99087,     0.99087,     0.99087,     0.99087,     0.99087,     0.99087,     0.99087,     0.99087,     0.99087,     0.99087,     0.99087,     0.99087,     0.99087,     0.99087,     0.99087,     0.99087,     0.99087,     0.99087,     0.99087,     0.99087,\n",
                            "            0.99087,     0.99087,     0.99087,     0.99087,     0.99087,     0.99087,     0.99087,     0.99087,     0.99087,     0.99087,     0.99087,     0.99087,     0.99087,     0.99087,     0.99087,     0.99087,     0.99087,     0.99087,     0.99087,     0.99087,     0.99087,     0.99087,     0.99087,\n",
                            "            0.99087,     0.99087,     0.99087,     0.99087,     0.99087,     0.99087,     0.99087,     0.99087,     0.99087,     0.99087,     0.99087,     0.99087,     0.99087,     0.99087,     0.99087,     0.99087,     0.99087,     0.99087,     0.99087,     0.99087,     0.99087,     0.99087,     0.99087,\n",
                            "            0.99087,     0.99087,     0.99087,     0.99087,     0.99087,     0.99087,     0.99087,     0.99087,     0.99087,     0.99087,     0.99087,     0.99087,     0.99087,     0.99087,     0.99087,     0.99087,     0.99087,     0.99087,     0.99087,     0.99087,     0.99087,     0.99087,     0.99087,\n",
                            "            0.99087,     0.99087,     0.99087,     0.99087,     0.99087,     0.99087,     0.99087,     0.98655,     0.98655,     0.98655,     0.98238,     0.98238,     0.98238,     0.97872,     0.97872,     0.97872,     0.97872,     0.97872,     0.97872,     0.97872,     0.97479,     0.97479,     0.97417,\n",
                            "            0.97417,     0.97417,     0.97417,     0.97417,     0.97417,     0.97417,     0.97417,     0.97417,     0.97417,     0.97417,     0.97417,     0.97417,     0.97417,     0.97417,     0.97417,     0.97417,     0.97417,     0.97417,     0.97417,     0.97417,     0.97417,     0.97417,     0.97417,\n",
                            "            0.97417,     0.97417,     0.97417,     0.97417,     0.97417,     0.97417,     0.97417,     0.97133,     0.97133,     0.97133,     0.97133,     0.97133,     0.97133,     0.97133,     0.96886,     0.96886,     0.96886,     0.96886,     0.96886,     0.96886,     0.96886,     0.96886,     0.96886,\n",
                            "            0.96774,     0.96774,     0.96774,     0.96774,     0.96774,     0.96774,     0.96774,     0.96774,     0.96774,     0.96774,     0.96774,     0.96774,     0.96774,     0.96774,     0.96774,     0.96774,     0.96774,     0.96774,     0.96774,     0.96774,     0.96573,     0.96573,     0.96573,\n",
                            "            0.96573,     0.96573,     0.96573,     0.96573,     0.96573,     0.96573,     0.96573,     0.96024,     0.96024,     0.96024,     0.96024,     0.95846,     0.95846,     0.95846,     0.95846,     0.95846,     0.95846,     0.95846,     0.95846,     0.95335,     0.95335,     0.95335,     0.95335,\n",
                            "            0.95072,     0.94842,     0.94842,     0.94842,     0.94633,     0.94633,     0.94633,     0.94633,      0.9449,      0.9449,      0.9449,      0.9449,      0.9449,      0.9449,      0.9449,      0.9449,      0.9434,      0.9434,      0.9434,      0.9434,      0.9434,      0.9434,      0.9434,\n",
                            "             0.9385,     0.93421,     0.93421,     0.93421,     0.93421,     0.93041,     0.93041,     0.93041,     0.93041,     0.93041,     0.93041,     0.92821,     0.92804,     0.92804,     0.92804,     0.92804,     0.92804,     0.92804,     0.92804,     0.92804,     0.92804,     0.92804,     0.92804,\n",
                            "            0.92804,     0.92402,     0.92402,     0.92402,     0.92214,     0.92214,     0.91346,     0.91211,     0.91211,     0.91211,     0.91101,     0.91101,     0.91101,     0.91101,     0.91101,     0.90805,     0.90805,     0.90805,     0.90805,     0.90805,     0.90805,     0.90787,     0.90787,\n",
                            "            0.90787,     0.90787,     0.90787,     0.90787,     0.90787,     0.90787,     0.90787,     0.90393,     0.90393,     0.90393,     0.90393,     0.90393,     0.90393,     0.90393,     0.90393,     0.90393,     0.90393,     0.90239,     0.90239,     0.90065,     0.89892,     0.89744,     0.89744,\n",
                            "            0.89706,     0.89706,     0.89706,     0.89706,     0.89706,     0.89706,     0.89706,     0.89583,     0.89583,     0.89583,     0.89463,     0.89463,     0.89463,     0.89322,     0.89322,     0.89184,     0.89184,     0.88978,     0.88978,     0.88978,     0.88978,     0.88978,     0.88978,\n",
                            "            0.88978,     0.88803,     0.88803,     0.88803,     0.88803,     0.88803,     0.88803,     0.88803,     0.88803,     0.88803,     0.88803,     0.88803,     0.88803,     0.88803,     0.88803,     0.88803,     0.88484,     0.88235,     0.88235,     0.88235,     0.88235,     0.88082,     0.88082,\n",
                            "            0.88082,     0.88082,     0.88082,     0.88082,     0.88082,     0.88082,     0.87934,     0.87934,     0.87934,     0.87934,     0.87934,     0.87934,     0.87934,     0.87934,     0.87796,     0.87748,     0.87748,     0.87748,     0.87748,     0.87748,     0.87321,     0.87321,     0.87245,\n",
                            "            0.87245,     0.87245,     0.87245,     0.87245,     0.87245,     0.87245,     0.87245,     0.87245,     0.87245,     0.87245,     0.87245,     0.87245,     0.87245,     0.87245,     0.87245,     0.87245,     0.87245,     0.87245,     0.87245,     0.87245,     0.87245,     0.87245,     0.87015,\n",
                            "            0.87015,     0.87015,     0.86799,     0.86799,     0.86799,     0.86799,     0.86799,     0.86799,     0.86799,     0.86799,     0.86799,     0.86799,     0.86579,     0.86579,     0.86579,      0.8647,      0.8647,      0.8647,      0.8647,      0.8647,      0.8647,      0.8647,      0.8647,\n",
                            "             0.8647,      0.8647,      0.8647,      0.8647,      0.8647,      0.8647,      0.8647,      0.8647,      0.8647,      0.8647,      0.8647,      0.8647,      0.8647,      0.8647,      0.8647,      0.8647,      0.8647,      0.8647,      0.8647,     0.86371,     0.86371,     0.86371,     0.86371,\n",
                            "            0.86371,     0.86371,     0.86371,     0.86371,     0.86322,     0.86322,     0.86322,     0.86322,     0.86316,     0.86316,     0.86316,     0.86316,     0.86316,     0.86228,     0.86228,     0.86161,     0.86161,     0.86161,     0.85546,     0.85484,     0.85484,     0.85484,     0.85444,\n",
                            "            0.85444,     0.85444,     0.85444,     0.85341,      0.8526,      0.8526,     0.85201,     0.85201,     0.85201,     0.84979,     0.84823,     0.84823,     0.84823,     0.84823,     0.84507,     0.84507,     0.84488,     0.84488,     0.84488,     0.84488,     0.84488,     0.84488,     0.84488,\n",
                            "            0.84488,     0.84488,     0.84488,     0.84392,     0.84384,     0.84384,     0.84384,     0.84384,     0.84384,      0.8429,     0.84218,     0.84218,     0.84189,     0.84189,     0.84189,     0.84189,     0.84005,     0.84005,     0.83979,     0.83979,     0.83979,     0.83979,     0.83777,\n",
                            "            0.83576,     0.83487,     0.83443,     0.83443,     0.83377,     0.83377,     0.83312,     0.83312,     0.83225,     0.83182,     0.83182,     0.83182,     0.83162,     0.83162,     0.83162,     0.83162,     0.83099,     0.83099,     0.83057,     0.83057,     0.83057,     0.82868,     0.82264,\n",
                            "            0.82032,     0.82032,     0.82032,     0.82032,     0.82032,     0.82032,     0.82032,     0.82032,     0.81897,     0.81897,     0.81897,     0.81807,     0.81807,     0.81807,     0.81807,     0.81807,     0.81752,     0.81752,     0.81741,     0.81741,     0.81741,     0.81741,     0.81588,\n",
                            "            0.81588,     0.81535,     0.81535,     0.81071,     0.81065,     0.81065,     0.81065,     0.81065,     0.80992,     0.80257,         0.8,     0.79977,     0.79977,     0.79977,     0.79954,     0.79954,     0.79954,     0.79908,     0.79908,      0.7984,     0.79795,     0.79545,     0.79078,\n",
                            "            0.79078,     0.79078,     0.78859,     0.78859,      0.7828,      0.7828,      0.7828,      0.7828,      0.7828,     0.78218,     0.78156,     0.78142,     0.78142,     0.78142,     0.78081,     0.78007,     0.78007,     0.78007,     0.78007,      0.7761,     0.77551,     0.77492,     0.77268,\n",
                            "             0.7721,     0.77143,     0.77143,     0.77143,     0.77143,     0.76786,     0.76786,      0.7673,     0.76458,     0.76458,      0.7619,      0.7619,     0.76161,     0.76161,     0.76156,     0.76156,     0.76156,     0.75355,     0.75355,     0.75076,     0.75025,     0.74749,     0.74379,\n",
                            "            0.74379,     0.74379,     0.74209,     0.74209,     0.74162,     0.74114,     0.73922,       0.739,       0.739,     0.73353,     0.73218,     0.73218,     0.73218,     0.72919,     0.72598,     0.72417,     0.72401,     0.72401,     0.72019,     0.71642,     0.71138,     0.70902,     0.70411,\n",
                            "             0.7031,     0.70209,     0.69604,     0.69507,     0.69348,     0.69251,     0.68972,     0.68938,     0.68783,     0.68777,     0.68777,     0.68745,     0.68679,     0.68679,     0.68554,     0.68554,     0.68549,     0.68549,     0.68544,     0.68544,     0.68512,     0.68186,     0.68038,\n",
                            "            0.67602,     0.67572,     0.67565,     0.67565,     0.67565,     0.67565,     0.67565,     0.67565,     0.67422,     0.67224,     0.67083,     0.67055,     0.66971,     0.66804,     0.66804,     0.66777,     0.66639,     0.66503,     0.66313,     0.66099,     0.66099,     0.65437,     0.65308,\n",
                            "            0.64869,     0.64743,     0.64669,     0.64544,      0.6442,     0.64125,     0.64125,     0.63932,     0.63763,     0.63594,     0.63138,     0.62594,     0.62341,     0.62025,     0.62025,     0.61686,     0.61201,     0.61201,     0.60828,     0.60593,     0.60402,     0.60402,     0.60402,\n",
                            "            0.60402,       0.603,     0.59901,     0.59887,     0.59873,     0.59592,     0.59592,     0.59537,     0.59386,     0.59386,     0.58921,     0.58909,     0.58614,     0.58482,     0.58231,     0.57984,     0.57623,     0.57039,     0.56209,     0.55873,     0.55045,     0.54794,     0.54753,\n",
                            "            0.54368,      0.5319,      0.5319,     0.53089,     0.52444,     0.51971,     0.51722,     0.51537,     0.51293,     0.51261,     0.50374,     0.50374,     0.50057,     0.49886,      0.4983,     0.49633,     0.49606,     0.49523,     0.49357,     0.49193,     0.48467,     0.48048,     0.47357,\n",
                            "            0.46984,     0.45688,     0.45482,     0.44467,     0.43753,     0.43461,     0.43216,     0.42646,     0.41935,     0.41884,     0.41814,     0.41609,     0.40899,     0.40142,     0.38889,     0.38858,     0.38858,     0.37776,     0.37776,     0.37755,     0.35452,     0.33968,     0.33716,\n",
                            "            0.33505,     0.33104,     0.32048,     0.31705,     0.31348,     0.31053,      0.3061,     0.29954,     0.29412,     0.29331,     0.27206,     0.27195,     0.27176,     0.27047,     0.26033,     0.25509,     0.24602,      0.2379,     0.23706,     0.22852,     0.22059,     0.21855,     0.21686,\n",
                            "            0.21524,     0.21167,     0.19146,     0.18786,     0.18743,     0.18695,     0.17625,     0.17539,     0.17538,     0.17398,     0.16039,      0.1573,     0.14939,     0.14899,     0.14213,     0.14185,     0.13845,      0.1268,     0.12322,     0.11929,      0.1173,     0.11532,     0.11333,\n",
                            "            0.11134,     0.10935,     0.10736,     0.10538,     0.10339,      0.1014,    0.099411,    0.097423,    0.095434,    0.093446,    0.091458,     0.08947,    0.087482,    0.085493,    0.083505,    0.081517,    0.079529,     0.07754,    0.075552,    0.073564,    0.071576,    0.069588,    0.067599,\n",
                            "           0.065611,    0.063623,    0.061635,    0.059646,    0.057658,     0.05567,    0.053682,    0.051694,    0.049705,    0.047717,    0.045729,    0.043741,    0.041753,    0.039764,    0.037776,    0.035788,      0.0338,    0.031811,    0.029823,    0.027835,    0.025847,    0.023859,     0.02187,\n",
                            "           0.019882,    0.017894,    0.015906,    0.013918,    0.011929,   0.0099411,   0.0079529,   0.0059646,   0.0039764,   0.0019882,           0]]), 'Recall', 'Precision'], [array([          0,    0.001001,    0.002002,    0.003003,    0.004004,    0.005005,    0.006006,    0.007007,    0.008008,    0.009009,     0.01001,    0.011011,    0.012012,    0.013013,    0.014014,    0.015015,    0.016016,    0.017017,    0.018018,    0.019019,     0.02002,    0.021021,    0.022022,    0.023023,\n",
                            "          0.024024,    0.025025,    0.026026,    0.027027,    0.028028,    0.029029,     0.03003,    0.031031,    0.032032,    0.033033,    0.034034,    0.035035,    0.036036,    0.037037,    0.038038,    0.039039,     0.04004,    0.041041,    0.042042,    0.043043,    0.044044,    0.045045,    0.046046,    0.047047,\n",
                            "          0.048048,    0.049049,     0.05005,    0.051051,    0.052052,    0.053053,    0.054054,    0.055055,    0.056056,    0.057057,    0.058058,    0.059059,     0.06006,    0.061061,    0.062062,    0.063063,    0.064064,    0.065065,    0.066066,    0.067067,    0.068068,    0.069069,     0.07007,    0.071071,\n",
                            "          0.072072,    0.073073,    0.074074,    0.075075,    0.076076,    0.077077,    0.078078,    0.079079,     0.08008,    0.081081,    0.082082,    0.083083,    0.084084,    0.085085,    0.086086,    0.087087,    0.088088,    0.089089,     0.09009,    0.091091,    0.092092,    0.093093,    0.094094,    0.095095,\n",
                            "          0.096096,    0.097097,    0.098098,    0.099099,      0.1001,      0.1011,      0.1021,      0.1031,      0.1041,     0.10511,     0.10611,     0.10711,     0.10811,     0.10911,     0.11011,     0.11111,     0.11211,     0.11311,     0.11411,     0.11512,     0.11612,     0.11712,     0.11812,     0.11912,\n",
                            "           0.12012,     0.12112,     0.12212,     0.12312,     0.12412,     0.12513,     0.12613,     0.12713,     0.12813,     0.12913,     0.13013,     0.13113,     0.13213,     0.13313,     0.13413,     0.13514,     0.13614,     0.13714,     0.13814,     0.13914,     0.14014,     0.14114,     0.14214,     0.14314,\n",
                            "           0.14414,     0.14515,     0.14615,     0.14715,     0.14815,     0.14915,     0.15015,     0.15115,     0.15215,     0.15315,     0.15415,     0.15516,     0.15616,     0.15716,     0.15816,     0.15916,     0.16016,     0.16116,     0.16216,     0.16316,     0.16416,     0.16517,     0.16617,     0.16717,\n",
                            "           0.16817,     0.16917,     0.17017,     0.17117,     0.17217,     0.17317,     0.17417,     0.17518,     0.17618,     0.17718,     0.17818,     0.17918,     0.18018,     0.18118,     0.18218,     0.18318,     0.18418,     0.18519,     0.18619,     0.18719,     0.18819,     0.18919,     0.19019,     0.19119,\n",
                            "           0.19219,     0.19319,     0.19419,      0.1952,      0.1962,      0.1972,      0.1982,      0.1992,      0.2002,      0.2012,      0.2022,      0.2032,      0.2042,     0.20521,     0.20621,     0.20721,     0.20821,     0.20921,     0.21021,     0.21121,     0.21221,     0.21321,     0.21421,     0.21522,\n",
                            "           0.21622,     0.21722,     0.21822,     0.21922,     0.22022,     0.22122,     0.22222,     0.22322,     0.22422,     0.22523,     0.22623,     0.22723,     0.22823,     0.22923,     0.23023,     0.23123,     0.23223,     0.23323,     0.23423,     0.23524,     0.23624,     0.23724,     0.23824,     0.23924,\n",
                            "           0.24024,     0.24124,     0.24224,     0.24324,     0.24424,     0.24525,     0.24625,     0.24725,     0.24825,     0.24925,     0.25025,     0.25125,     0.25225,     0.25325,     0.25425,     0.25526,     0.25626,     0.25726,     0.25826,     0.25926,     0.26026,     0.26126,     0.26226,     0.26326,\n",
                            "           0.26426,     0.26527,     0.26627,     0.26727,     0.26827,     0.26927,     0.27027,     0.27127,     0.27227,     0.27327,     0.27427,     0.27528,     0.27628,     0.27728,     0.27828,     0.27928,     0.28028,     0.28128,     0.28228,     0.28328,     0.28428,     0.28529,     0.28629,     0.28729,\n",
                            "           0.28829,     0.28929,     0.29029,     0.29129,     0.29229,     0.29329,     0.29429,      0.2953,      0.2963,      0.2973,      0.2983,      0.2993,      0.3003,      0.3013,      0.3023,      0.3033,      0.3043,     0.30531,     0.30631,     0.30731,     0.30831,     0.30931,     0.31031,     0.31131,\n",
                            "           0.31231,     0.31331,     0.31431,     0.31532,     0.31632,     0.31732,     0.31832,     0.31932,     0.32032,     0.32132,     0.32232,     0.32332,     0.32432,     0.32533,     0.32633,     0.32733,     0.32833,     0.32933,     0.33033,     0.33133,     0.33233,     0.33333,     0.33433,     0.33534,\n",
                            "           0.33634,     0.33734,     0.33834,     0.33934,     0.34034,     0.34134,     0.34234,     0.34334,     0.34434,     0.34535,     0.34635,     0.34735,     0.34835,     0.34935,     0.35035,     0.35135,     0.35235,     0.35335,     0.35435,     0.35536,     0.35636,     0.35736,     0.35836,     0.35936,\n",
                            "           0.36036,     0.36136,     0.36236,     0.36336,     0.36436,     0.36537,     0.36637,     0.36737,     0.36837,     0.36937,     0.37037,     0.37137,     0.37237,     0.37337,     0.37437,     0.37538,     0.37638,     0.37738,     0.37838,     0.37938,     0.38038,     0.38138,     0.38238,     0.38338,\n",
                            "           0.38438,     0.38539,     0.38639,     0.38739,     0.38839,     0.38939,     0.39039,     0.39139,     0.39239,     0.39339,     0.39439,      0.3954,      0.3964,      0.3974,      0.3984,      0.3994,      0.4004,      0.4014,      0.4024,      0.4034,      0.4044,     0.40541,     0.40641,     0.40741,\n",
                            "           0.40841,     0.40941,     0.41041,     0.41141,     0.41241,     0.41341,     0.41441,     0.41542,     0.41642,     0.41742,     0.41842,     0.41942,     0.42042,     0.42142,     0.42242,     0.42342,     0.42442,     0.42543,     0.42643,     0.42743,     0.42843,     0.42943,     0.43043,     0.43143,\n",
                            "           0.43243,     0.43343,     0.43443,     0.43544,     0.43644,     0.43744,     0.43844,     0.43944,     0.44044,     0.44144,     0.44244,     0.44344,     0.44444,     0.44545,     0.44645,     0.44745,     0.44845,     0.44945,     0.45045,     0.45145,     0.45245,     0.45345,     0.45445,     0.45546,\n",
                            "           0.45646,     0.45746,     0.45846,     0.45946,     0.46046,     0.46146,     0.46246,     0.46346,     0.46446,     0.46547,     0.46647,     0.46747,     0.46847,     0.46947,     0.47047,     0.47147,     0.47247,     0.47347,     0.47447,     0.47548,     0.47648,     0.47748,     0.47848,     0.47948,\n",
                            "           0.48048,     0.48148,     0.48248,     0.48348,     0.48448,     0.48549,     0.48649,     0.48749,     0.48849,     0.48949,     0.49049,     0.49149,     0.49249,     0.49349,     0.49449,      0.4955,      0.4965,      0.4975,      0.4985,      0.4995,      0.5005,      0.5015,      0.5025,      0.5035,\n",
                            "            0.5045,     0.50551,     0.50651,     0.50751,     0.50851,     0.50951,     0.51051,     0.51151,     0.51251,     0.51351,     0.51451,     0.51552,     0.51652,     0.51752,     0.51852,     0.51952,     0.52052,     0.52152,     0.52252,     0.52352,     0.52452,     0.52553,     0.52653,     0.52753,\n",
                            "           0.52853,     0.52953,     0.53053,     0.53153,     0.53253,     0.53353,     0.53453,     0.53554,     0.53654,     0.53754,     0.53854,     0.53954,     0.54054,     0.54154,     0.54254,     0.54354,     0.54454,     0.54555,     0.54655,     0.54755,     0.54855,     0.54955,     0.55055,     0.55155,\n",
                            "           0.55255,     0.55355,     0.55455,     0.55556,     0.55656,     0.55756,     0.55856,     0.55956,     0.56056,     0.56156,     0.56256,     0.56356,     0.56456,     0.56557,     0.56657,     0.56757,     0.56857,     0.56957,     0.57057,     0.57157,     0.57257,     0.57357,     0.57457,     0.57558,\n",
                            "           0.57658,     0.57758,     0.57858,     0.57958,     0.58058,     0.58158,     0.58258,     0.58358,     0.58458,     0.58559,     0.58659,     0.58759,     0.58859,     0.58959,     0.59059,     0.59159,     0.59259,     0.59359,     0.59459,      0.5956,      0.5966,      0.5976,      0.5986,      0.5996,\n",
                            "            0.6006,      0.6016,      0.6026,      0.6036,      0.6046,     0.60561,     0.60661,     0.60761,     0.60861,     0.60961,     0.61061,     0.61161,     0.61261,     0.61361,     0.61461,     0.61562,     0.61662,     0.61762,     0.61862,     0.61962,     0.62062,     0.62162,     0.62262,     0.62362,\n",
                            "           0.62462,     0.62563,     0.62663,     0.62763,     0.62863,     0.62963,     0.63063,     0.63163,     0.63263,     0.63363,     0.63463,     0.63564,     0.63664,     0.63764,     0.63864,     0.63964,     0.64064,     0.64164,     0.64264,     0.64364,     0.64464,     0.64565,     0.64665,     0.64765,\n",
                            "           0.64865,     0.64965,     0.65065,     0.65165,     0.65265,     0.65365,     0.65465,     0.65566,     0.65666,     0.65766,     0.65866,     0.65966,     0.66066,     0.66166,     0.66266,     0.66366,     0.66466,     0.66567,     0.66667,     0.66767,     0.66867,     0.66967,     0.67067,     0.67167,\n",
                            "           0.67267,     0.67367,     0.67467,     0.67568,     0.67668,     0.67768,     0.67868,     0.67968,     0.68068,     0.68168,     0.68268,     0.68368,     0.68468,     0.68569,     0.68669,     0.68769,     0.68869,     0.68969,     0.69069,     0.69169,     0.69269,     0.69369,     0.69469,      0.6957,\n",
                            "            0.6967,      0.6977,      0.6987,      0.6997,      0.7007,      0.7017,      0.7027,      0.7037,      0.7047,     0.70571,     0.70671,     0.70771,     0.70871,     0.70971,     0.71071,     0.71171,     0.71271,     0.71371,     0.71471,     0.71572,     0.71672,     0.71772,     0.71872,     0.71972,\n",
                            "           0.72072,     0.72172,     0.72272,     0.72372,     0.72472,     0.72573,     0.72673,     0.72773,     0.72873,     0.72973,     0.73073,     0.73173,     0.73273,     0.73373,     0.73473,     0.73574,     0.73674,     0.73774,     0.73874,     0.73974,     0.74074,     0.74174,     0.74274,     0.74374,\n",
                            "           0.74474,     0.74575,     0.74675,     0.74775,     0.74875,     0.74975,     0.75075,     0.75175,     0.75275,     0.75375,     0.75475,     0.75576,     0.75676,     0.75776,     0.75876,     0.75976,     0.76076,     0.76176,     0.76276,     0.76376,     0.76476,     0.76577,     0.76677,     0.76777,\n",
                            "           0.76877,     0.76977,     0.77077,     0.77177,     0.77277,     0.77377,     0.77477,     0.77578,     0.77678,     0.77778,     0.77878,     0.77978,     0.78078,     0.78178,     0.78278,     0.78378,     0.78478,     0.78579,     0.78679,     0.78779,     0.78879,     0.78979,     0.79079,     0.79179,\n",
                            "           0.79279,     0.79379,     0.79479,      0.7958,      0.7968,      0.7978,      0.7988,      0.7998,      0.8008,      0.8018,      0.8028,      0.8038,      0.8048,     0.80581,     0.80681,     0.80781,     0.80881,     0.80981,     0.81081,     0.81181,     0.81281,     0.81381,     0.81481,     0.81582,\n",
                            "           0.81682,     0.81782,     0.81882,     0.81982,     0.82082,     0.82182,     0.82282,     0.82382,     0.82482,     0.82583,     0.82683,     0.82783,     0.82883,     0.82983,     0.83083,     0.83183,     0.83283,     0.83383,     0.83483,     0.83584,     0.83684,     0.83784,     0.83884,     0.83984,\n",
                            "           0.84084,     0.84184,     0.84284,     0.84384,     0.84484,     0.84585,     0.84685,     0.84785,     0.84885,     0.84985,     0.85085,     0.85185,     0.85285,     0.85385,     0.85485,     0.85586,     0.85686,     0.85786,     0.85886,     0.85986,     0.86086,     0.86186,     0.86286,     0.86386,\n",
                            "           0.86486,     0.86587,     0.86687,     0.86787,     0.86887,     0.86987,     0.87087,     0.87187,     0.87287,     0.87387,     0.87487,     0.87588,     0.87688,     0.87788,     0.87888,     0.87988,     0.88088,     0.88188,     0.88288,     0.88388,     0.88488,     0.88589,     0.88689,     0.88789,\n",
                            "           0.88889,     0.88989,     0.89089,     0.89189,     0.89289,     0.89389,     0.89489,      0.8959,      0.8969,      0.8979,      0.8989,      0.8999,      0.9009,      0.9019,      0.9029,      0.9039,      0.9049,     0.90591,     0.90691,     0.90791,     0.90891,     0.90991,     0.91091,     0.91191,\n",
                            "           0.91291,     0.91391,     0.91491,     0.91592,     0.91692,     0.91792,     0.91892,     0.91992,     0.92092,     0.92192,     0.92292,     0.92392,     0.92492,     0.92593,     0.92693,     0.92793,     0.92893,     0.92993,     0.93093,     0.93193,     0.93293,     0.93393,     0.93493,     0.93594,\n",
                            "           0.93694,     0.93794,     0.93894,     0.93994,     0.94094,     0.94194,     0.94294,     0.94394,     0.94494,     0.94595,     0.94695,     0.94795,     0.94895,     0.94995,     0.95095,     0.95195,     0.95295,     0.95395,     0.95495,     0.95596,     0.95696,     0.95796,     0.95896,     0.95996,\n",
                            "           0.96096,     0.96196,     0.96296,     0.96396,     0.96496,     0.96597,     0.96697,     0.96797,     0.96897,     0.96997,     0.97097,     0.97197,     0.97297,     0.97397,     0.97497,     0.97598,     0.97698,     0.97798,     0.97898,     0.97998,     0.98098,     0.98198,     0.98298,     0.98398,\n",
                            "           0.98498,     0.98599,     0.98699,     0.98799,     0.98899,     0.98999,     0.99099,     0.99199,     0.99299,     0.99399,     0.99499,       0.996,       0.997,       0.998,       0.999,           1]), array([[    0.21184,       0.212,     0.25566,     0.28395,     0.30549,     0.32283,     0.33944,     0.35081,     0.36255,     0.37272,     0.38189,     0.39077,     0.39877,      0.4072,     0.41416,     0.42045,     0.42787,     0.43521,     0.44278,     0.44875,     0.45401,     0.45774,     0.46236,\n",
                            "            0.46635,      0.4705,     0.47493,     0.47869,     0.48384,     0.48707,     0.48998,     0.49292,     0.49686,     0.49992,     0.50266,     0.50683,     0.50886,      0.5122,     0.51546,     0.51873,     0.52107,      0.5251,     0.52781,     0.53002,     0.53221,     0.53538,     0.53856,\n",
                            "            0.54074,     0.54297,      0.5466,     0.54884,     0.55076,     0.55324,     0.55557,     0.55811,      0.5608,     0.56312,     0.56591,     0.56665,      0.5682,     0.57021,     0.57285,     0.57471,     0.57553,      0.5778,     0.57985,     0.58123,     0.58287,     0.58529,     0.58763,\n",
                            "             0.5892,     0.59144,     0.59322,     0.59478,     0.59641,     0.60062,     0.60181,     0.60381,     0.60547,      0.6074,     0.60958,     0.61136,     0.61204,     0.61405,     0.61554,     0.61771,     0.61932,     0.62177,     0.62279,     0.62378,      0.6256,      0.6274,     0.62863,\n",
                            "            0.62895,     0.63009,     0.63114,     0.63242,     0.63258,     0.63367,     0.63594,     0.63585,     0.63838,     0.63902,     0.64158,     0.64264,     0.64377,     0.64439,     0.64512,     0.64701,     0.64845,     0.65029,     0.65214,     0.65377,     0.65462,     0.65505,      0.6554,\n",
                            "            0.65641,     0.65684,     0.65766,     0.65959,     0.66026,      0.6619,     0.66351,     0.66384,     0.66473,     0.66533,     0.66616,     0.66703,     0.66765,     0.66956,     0.67173,      0.6731,     0.67367,      0.6756,     0.67649,     0.67734,     0.67845,     0.67934,     0.67974,\n",
                            "            0.68078,     0.68162,     0.68326,     0.68496,     0.68584,     0.68667,     0.68751,     0.68896,     0.68984,     0.69072,     0.69211,     0.69215,     0.69307,     0.69393,     0.69428,     0.69553,     0.69554,     0.69464,      0.6966,     0.69611,     0.69609,     0.69629,     0.69691,\n",
                            "            0.69832,     0.69864,     0.69694,     0.69752,     0.69843,     0.69956,     0.69998,     0.70097,     0.70192,     0.70214,     0.70299,     0.70313,     0.70431,     0.70438,     0.70427,     0.70505,      0.7062,     0.70593,     0.70763,     0.70795,     0.70832,     0.70876,     0.70875,\n",
                            "            0.70975,     0.71047,     0.71081,     0.71114,      0.7115,      0.7136,     0.71423,     0.71473,     0.71492,      0.7155,     0.71576,     0.71634,     0.71604,     0.71655,       0.717,     0.71716,     0.71785,     0.71781,     0.71808,     0.71828,     0.71943,     0.72086,     0.72152,\n",
                            "            0.72267,     0.72416,      0.7242,     0.72494,     0.72511,     0.72573,     0.72621,     0.72623,     0.72672,     0.72672,     0.72578,     0.72683,     0.72707,     0.72674,     0.72657,     0.72688,     0.72757,     0.72709,     0.72663,     0.72568,     0.72551,     0.72515,     0.72597,\n",
                            "            0.72677,     0.72702,     0.72741,     0.72803,     0.72786,       0.729,     0.72921,     0.72821,     0.72844,     0.72763,     0.72722,     0.72747,     0.72672,     0.72591,     0.72594,     0.72555,      0.7266,     0.72683,     0.72699,     0.72679,     0.72702,     0.72749,     0.72726,\n",
                            "            0.72825,     0.72941,     0.73022,      0.7305,     0.73073,     0.73122,     0.73205,     0.73252,     0.73274,     0.73294,     0.73358,     0.73346,     0.73569,     0.73583,     0.73607,     0.73686,       0.737,     0.73784,     0.73901,      0.7386,     0.73806,      0.7381,     0.73833,\n",
                            "            0.73857,     0.73897,     0.73892,     0.73954,     0.73997,     0.73906,     0.73903,     0.73989,     0.74031,     0.74185,     0.74091,     0.74076,     0.74125,      0.7415,     0.73976,     0.74062,     0.73941,     0.73904,     0.73992,     0.74094,     0.74149,       0.742,      0.7415,\n",
                            "            0.74223,     0.74267,     0.74349,     0.74465,     0.74493,     0.74373,     0.74274,     0.74201,     0.74251,     0.74231,     0.74282,     0.74304,     0.74225,     0.74314,     0.74381,     0.74177,     0.74199,     0.74141,     0.74118,     0.74187,     0.74093,     0.74098,     0.74075,\n",
                            "            0.74072,     0.74034,     0.73929,      0.7385,     0.73723,     0.73668,     0.73629,     0.73744,     0.73767,     0.73833,     0.73735,     0.73758,     0.73798,     0.73786,     0.73652,     0.73847,     0.73901,     0.73897,     0.73828,     0.73796,     0.73591,     0.73547,     0.73512,\n",
                            "            0.73355,     0.73359,     0.73398,     0.73461,     0.73482,     0.73605,     0.73626,     0.73682,     0.73642,     0.73631,     0.73485,     0.73397,     0.73417,     0.73432,     0.73473,     0.73497,     0.73525,     0.73429,     0.73426,     0.73383,     0.73355,     0.73146,     0.73159,\n",
                            "            0.73097,     0.72996,     0.72767,     0.72707,     0.72636,     0.72645,     0.72625,     0.72553,     0.72411,     0.72253,     0.72179,     0.72215,     0.72169,     0.72245,     0.72287,     0.72321,     0.72342,     0.72375,     0.72388,     0.72392,     0.72394,      0.7225,     0.72147,\n",
                            "            0.72024,     0.71922,     0.71885,     0.71776,     0.71734,     0.71725,     0.71694,     0.71684,     0.71506,     0.71315,     0.71303,     0.71266,     0.71269,     0.71232,     0.71243,     0.71312,     0.70976,     0.70965,      0.7098,      0.7077,     0.70745,     0.70719,     0.70644,\n",
                            "              0.706,     0.70587,     0.70503,     0.70465,     0.70326,      0.7026,     0.70214,     0.70212,     0.70232,      0.7008,     0.70003,     0.69926,     0.69705,     0.69666,     0.69644,     0.69547,      0.6947,     0.69466,     0.69507,     0.69433,     0.69245,     0.69297,     0.69266,\n",
                            "            0.69101,     0.69121,     0.69099,      0.6906,      0.6899,     0.69006,      0.6895,     0.68757,     0.68641,     0.68561,     0.68518,     0.68478,     0.68517,     0.68616,      0.6863,     0.68411,     0.68442,     0.68322,     0.67871,     0.67711,     0.67512,      0.6743,     0.67189,\n",
                            "            0.67089,     0.67065,     0.66943,     0.66781,     0.66561,      0.6652,     0.66514,     0.66528,     0.66542,     0.66405,     0.66363,     0.66335,     0.66307,     0.66234,     0.66151,     0.65986,     0.65821,     0.65775,     0.65733,     0.65569,     0.65526,     0.65483,     0.65234,\n",
                            "            0.65189,     0.65144,     0.64993,     0.65034,     0.64886,     0.64821,     0.64835,     0.64848,     0.64791,     0.64622,     0.64452,     0.64366,     0.64075,     0.64116,     0.64157,     0.64055,     0.63945,     0.63877,     0.63642,     0.63598,     0.63358,     0.63185,     0.63038,\n",
                            "            0.62994,     0.62834,     0.62816,     0.62771,     0.62607,     0.62466,     0.62421,     0.62205,     0.62155,     0.62066,     0.62015,     0.61925,     0.61997,     0.62038,     0.61906,     0.61771,      0.6168,     0.61633,     0.61588,     0.61575,     0.61492,     0.61446,     0.61391,\n",
                            "            0.61211,     0.61135,     0.61105,     0.61074,     0.60934,     0.60889,      0.6093,     0.60917,     0.60825,     0.60733,      0.6064,     0.60489,     0.60458,     0.60427,     0.60256,     0.60256,     0.60192,     0.60145,     0.59961,     0.59981,     0.59964,      0.5976,     0.59482,\n",
                            "            0.59426,     0.59378,     0.59106,     0.59012,     0.58945,     0.58868,     0.58834,     0.58716,     0.58595,     0.58509,     0.58413,     0.58223,     0.58126,     0.57918,      0.5786,      0.5776,     0.57514,     0.57264,     0.57268,     0.56817,     0.56622,     0.56601,     0.56552,\n",
                            "            0.56482,     0.56182,     0.56022,     0.55824,     0.55625,     0.55267,     0.55293,     0.55326,     0.55185,     0.54983,     0.54782,     0.54579,     0.54476,     0.54472,     0.54144,     0.54092,     0.53899,     0.53946,     0.53929,     0.53899,     0.53869,     0.53708,     0.53604,\n",
                            "            0.53499,     0.53355,     0.53302,      0.5312,     0.53028,     0.53103,     0.53092,     0.52954,     0.52901,      0.5268,     0.52699,     0.52725,     0.52515,     0.52408,     0.52301,     0.52089,     0.51877,     0.51769,     0.51617,       0.515,     0.51529,     0.51461,     0.51035,\n",
                            "            0.50824,     0.50834,     0.50845,     0.50856,     0.50873,     0.50837,       0.508,     0.50498,     0.50476,     0.50489,     0.50501,     0.50444,     0.50481,     0.50466,     0.50355,     0.50244,     0.49977,     0.49911,     0.49856,     0.49671,      0.4934,     0.48934,     0.48605,\n",
                            "             0.4856,     0.48514,      0.4846,     0.48346,     0.48231,     0.48208,     0.48133,     0.48126,     0.48012,     0.47746,     0.47741,     0.47762,      0.4778,     0.47675,      0.4737,      0.4716,     0.46779,     0.46734,     0.46449,      0.4639,     0.46342,     0.46374,     0.46384,\n",
                            "            0.46394,     0.46404,      0.4612,     0.45815,     0.45755,     0.45457,     0.45378,     0.45332,     0.45292,     0.45252,     0.44789,     0.44728,     0.44658,     0.44105,     0.44045,     0.43745,     0.43663,     0.43594,     0.43533,     0.43369,     0.43334,     0.43299,     0.43133,\n",
                            "            0.43051,     0.42925,     0.42942,     0.42877,     0.42795,     0.42712,     0.42285,     0.42222,      0.4214,     0.41915,     0.41885,     0.41822,     0.41635,     0.41552,     0.41345,     0.41144,     0.41108,     0.41072,     0.41036,     0.41049,      0.4102,     0.40969,     0.40784,\n",
                            "            0.40699,     0.40614,     0.40263,     0.40083,     0.39878,     0.39814,     0.39603,     0.39265,     0.39051,     0.38965,     0.38764,     0.38698,     0.38364,     0.38149,     0.38061,     0.37973,     0.37757,     0.37669,     0.37452,      0.3722,     0.37042,     0.36975,     0.36908,\n",
                            "            0.36609,     0.36542,     0.36412,      0.3632,     0.36099,     0.36011,     0.35966,     0.35921,     0.35883,     0.35903,     0.35525,     0.35382,     0.35145,     0.35159,     0.35013,     0.34921,     0.34793,     0.34469,     0.34377,     0.34325,     0.34278,     0.34232,     0.33736,\n",
                            "            0.33007,     0.32729,     0.32658,     0.32583,     0.32304,      0.3189,     0.31795,     0.31669,     0.31465,     0.31369,     0.31274,     0.30897,     0.30801,     0.30705,     0.30403,      0.3004,     0.29943,     0.29868,     0.29795,     0.29653,     0.29363,     0.29265,     0.29167,\n",
                            "            0.29071,     0.28997,     0.28753,     0.28582,     0.28483,     0.28384,     0.28105,     0.27892,     0.27854,     0.27817,      0.2778,     0.27732,     0.27682,     0.27632,     0.27304,     0.27229,     0.27119,     0.26697,     0.26593,     0.25702,       0.256,     0.25318,     0.25045,\n",
                            "            0.24795,     0.24718,     0.24596,     0.24309,     0.24246,     0.24118,     0.24008,     0.23956,     0.23904,     0.23808,      0.2353,     0.23373,     0.23238,     0.23133,     0.22977,      0.2282,     0.22715,     0.22491,     0.22166,     0.22102,     0.22025,     0.21878,     0.21798,\n",
                            "            0.21712,     0.21605,     0.21458,     0.21172,     0.21071,     0.21025,     0.20979,     0.20919,     0.20839,     0.20815,     0.20825,     0.20619,     0.20352,     0.20271,     0.20024,      0.1986,     0.19677,     0.19379,     0.19269,     0.19178,     0.19096,      0.1871,       0.185,\n",
                            "            0.18134,     0.17505,     0.17244,     0.17131,     0.16639,     0.16303,     0.16132,     0.15799,     0.15623,     0.15554,     0.15485,     0.15263,     0.15068,     0.14982,     0.14877,     0.14554,     0.14194,     0.14077,     0.13961,      0.1363,     0.13351,     0.13263,     0.12956,\n",
                            "            0.12082,     0.11959,      0.1187,     0.11753,     0.11523,      0.1128,      0.1122,     0.11146,      0.1092,     0.10777,     0.10347,     0.10166,    0.095377,    0.093756,    0.093021,    0.092287,    0.089821,    0.088245,    0.087321,    0.086084,    0.084569,    0.083642,    0.079752,\n",
                            "           0.077747,    0.076943,    0.076196,    0.070301,    0.068419,    0.062843,    0.060946,    0.059046,    0.055005,    0.052435,    0.048644,    0.042953,    0.037708,    0.036261,    0.035612,    0.034962,    0.034043,    0.033067,    0.029322,    0.028243,    0.027261,    0.025967,    0.024654,\n",
                            "           0.023347,     0.02236,    0.021402,    0.020837,    0.020272,    0.019706,    0.016907,    0.013639,    0.013333,    0.013026,    0.012719,    0.012413,    0.012106,    0.011799,    0.010619,   0.0090263,   0.0075749,   0.0069065,   0.0062376,   0.0058474,   0.0057518,   0.0056562,   0.0055605,\n",
                            "          0.0054649,   0.0053692,   0.0052735,   0.0051779,   0.0050822,   0.0049865,   0.0048908,   0.0047951,   0.0046993,   0.0046036,   0.0045079,   0.0044121,   0.0043164,   0.0042206,   0.0041248,    0.004029,   0.0039332,   0.0037945,   0.0036557,   0.0035169,   0.0033781,   0.0032393,   0.0031004,\n",
                            "          0.0029616,   0.0028227,   0.0026838,   0.0025448,   0.0024059,   0.0022669,   0.0021279,   0.0019889,           0,           0,           0,           0,           0,           0,           0,           0,           0,           0,           0,           0,           0,           0,           0,\n",
                            "                  0,           0,           0,           0,           0,           0,           0,           0,           0,           0,           0]]), 'Confidence', 'F1'], [array([          0,    0.001001,    0.002002,    0.003003,    0.004004,    0.005005,    0.006006,    0.007007,    0.008008,    0.009009,     0.01001,    0.011011,    0.012012,    0.013013,    0.014014,    0.015015,    0.016016,    0.017017,    0.018018,    0.019019,     0.02002,    0.021021,    0.022022,    0.023023,\n",
                            "          0.024024,    0.025025,    0.026026,    0.027027,    0.028028,    0.029029,     0.03003,    0.031031,    0.032032,    0.033033,    0.034034,    0.035035,    0.036036,    0.037037,    0.038038,    0.039039,     0.04004,    0.041041,    0.042042,    0.043043,    0.044044,    0.045045,    0.046046,    0.047047,\n",
                            "          0.048048,    0.049049,     0.05005,    0.051051,    0.052052,    0.053053,    0.054054,    0.055055,    0.056056,    0.057057,    0.058058,    0.059059,     0.06006,    0.061061,    0.062062,    0.063063,    0.064064,    0.065065,    0.066066,    0.067067,    0.068068,    0.069069,     0.07007,    0.071071,\n",
                            "          0.072072,    0.073073,    0.074074,    0.075075,    0.076076,    0.077077,    0.078078,    0.079079,     0.08008,    0.081081,    0.082082,    0.083083,    0.084084,    0.085085,    0.086086,    0.087087,    0.088088,    0.089089,     0.09009,    0.091091,    0.092092,    0.093093,    0.094094,    0.095095,\n",
                            "          0.096096,    0.097097,    0.098098,    0.099099,      0.1001,      0.1011,      0.1021,      0.1031,      0.1041,     0.10511,     0.10611,     0.10711,     0.10811,     0.10911,     0.11011,     0.11111,     0.11211,     0.11311,     0.11411,     0.11512,     0.11612,     0.11712,     0.11812,     0.11912,\n",
                            "           0.12012,     0.12112,     0.12212,     0.12312,     0.12412,     0.12513,     0.12613,     0.12713,     0.12813,     0.12913,     0.13013,     0.13113,     0.13213,     0.13313,     0.13413,     0.13514,     0.13614,     0.13714,     0.13814,     0.13914,     0.14014,     0.14114,     0.14214,     0.14314,\n",
                            "           0.14414,     0.14515,     0.14615,     0.14715,     0.14815,     0.14915,     0.15015,     0.15115,     0.15215,     0.15315,     0.15415,     0.15516,     0.15616,     0.15716,     0.15816,     0.15916,     0.16016,     0.16116,     0.16216,     0.16316,     0.16416,     0.16517,     0.16617,     0.16717,\n",
                            "           0.16817,     0.16917,     0.17017,     0.17117,     0.17217,     0.17317,     0.17417,     0.17518,     0.17618,     0.17718,     0.17818,     0.17918,     0.18018,     0.18118,     0.18218,     0.18318,     0.18418,     0.18519,     0.18619,     0.18719,     0.18819,     0.18919,     0.19019,     0.19119,\n",
                            "           0.19219,     0.19319,     0.19419,      0.1952,      0.1962,      0.1972,      0.1982,      0.1992,      0.2002,      0.2012,      0.2022,      0.2032,      0.2042,     0.20521,     0.20621,     0.20721,     0.20821,     0.20921,     0.21021,     0.21121,     0.21221,     0.21321,     0.21421,     0.21522,\n",
                            "           0.21622,     0.21722,     0.21822,     0.21922,     0.22022,     0.22122,     0.22222,     0.22322,     0.22422,     0.22523,     0.22623,     0.22723,     0.22823,     0.22923,     0.23023,     0.23123,     0.23223,     0.23323,     0.23423,     0.23524,     0.23624,     0.23724,     0.23824,     0.23924,\n",
                            "           0.24024,     0.24124,     0.24224,     0.24324,     0.24424,     0.24525,     0.24625,     0.24725,     0.24825,     0.24925,     0.25025,     0.25125,     0.25225,     0.25325,     0.25425,     0.25526,     0.25626,     0.25726,     0.25826,     0.25926,     0.26026,     0.26126,     0.26226,     0.26326,\n",
                            "           0.26426,     0.26527,     0.26627,     0.26727,     0.26827,     0.26927,     0.27027,     0.27127,     0.27227,     0.27327,     0.27427,     0.27528,     0.27628,     0.27728,     0.27828,     0.27928,     0.28028,     0.28128,     0.28228,     0.28328,     0.28428,     0.28529,     0.28629,     0.28729,\n",
                            "           0.28829,     0.28929,     0.29029,     0.29129,     0.29229,     0.29329,     0.29429,      0.2953,      0.2963,      0.2973,      0.2983,      0.2993,      0.3003,      0.3013,      0.3023,      0.3033,      0.3043,     0.30531,     0.30631,     0.30731,     0.30831,     0.30931,     0.31031,     0.31131,\n",
                            "           0.31231,     0.31331,     0.31431,     0.31532,     0.31632,     0.31732,     0.31832,     0.31932,     0.32032,     0.32132,     0.32232,     0.32332,     0.32432,     0.32533,     0.32633,     0.32733,     0.32833,     0.32933,     0.33033,     0.33133,     0.33233,     0.33333,     0.33433,     0.33534,\n",
                            "           0.33634,     0.33734,     0.33834,     0.33934,     0.34034,     0.34134,     0.34234,     0.34334,     0.34434,     0.34535,     0.34635,     0.34735,     0.34835,     0.34935,     0.35035,     0.35135,     0.35235,     0.35335,     0.35435,     0.35536,     0.35636,     0.35736,     0.35836,     0.35936,\n",
                            "           0.36036,     0.36136,     0.36236,     0.36336,     0.36436,     0.36537,     0.36637,     0.36737,     0.36837,     0.36937,     0.37037,     0.37137,     0.37237,     0.37337,     0.37437,     0.37538,     0.37638,     0.37738,     0.37838,     0.37938,     0.38038,     0.38138,     0.38238,     0.38338,\n",
                            "           0.38438,     0.38539,     0.38639,     0.38739,     0.38839,     0.38939,     0.39039,     0.39139,     0.39239,     0.39339,     0.39439,      0.3954,      0.3964,      0.3974,      0.3984,      0.3994,      0.4004,      0.4014,      0.4024,      0.4034,      0.4044,     0.40541,     0.40641,     0.40741,\n",
                            "           0.40841,     0.40941,     0.41041,     0.41141,     0.41241,     0.41341,     0.41441,     0.41542,     0.41642,     0.41742,     0.41842,     0.41942,     0.42042,     0.42142,     0.42242,     0.42342,     0.42442,     0.42543,     0.42643,     0.42743,     0.42843,     0.42943,     0.43043,     0.43143,\n",
                            "           0.43243,     0.43343,     0.43443,     0.43544,     0.43644,     0.43744,     0.43844,     0.43944,     0.44044,     0.44144,     0.44244,     0.44344,     0.44444,     0.44545,     0.44645,     0.44745,     0.44845,     0.44945,     0.45045,     0.45145,     0.45245,     0.45345,     0.45445,     0.45546,\n",
                            "           0.45646,     0.45746,     0.45846,     0.45946,     0.46046,     0.46146,     0.46246,     0.46346,     0.46446,     0.46547,     0.46647,     0.46747,     0.46847,     0.46947,     0.47047,     0.47147,     0.47247,     0.47347,     0.47447,     0.47548,     0.47648,     0.47748,     0.47848,     0.47948,\n",
                            "           0.48048,     0.48148,     0.48248,     0.48348,     0.48448,     0.48549,     0.48649,     0.48749,     0.48849,     0.48949,     0.49049,     0.49149,     0.49249,     0.49349,     0.49449,      0.4955,      0.4965,      0.4975,      0.4985,      0.4995,      0.5005,      0.5015,      0.5025,      0.5035,\n",
                            "            0.5045,     0.50551,     0.50651,     0.50751,     0.50851,     0.50951,     0.51051,     0.51151,     0.51251,     0.51351,     0.51451,     0.51552,     0.51652,     0.51752,     0.51852,     0.51952,     0.52052,     0.52152,     0.52252,     0.52352,     0.52452,     0.52553,     0.52653,     0.52753,\n",
                            "           0.52853,     0.52953,     0.53053,     0.53153,     0.53253,     0.53353,     0.53453,     0.53554,     0.53654,     0.53754,     0.53854,     0.53954,     0.54054,     0.54154,     0.54254,     0.54354,     0.54454,     0.54555,     0.54655,     0.54755,     0.54855,     0.54955,     0.55055,     0.55155,\n",
                            "           0.55255,     0.55355,     0.55455,     0.55556,     0.55656,     0.55756,     0.55856,     0.55956,     0.56056,     0.56156,     0.56256,     0.56356,     0.56456,     0.56557,     0.56657,     0.56757,     0.56857,     0.56957,     0.57057,     0.57157,     0.57257,     0.57357,     0.57457,     0.57558,\n",
                            "           0.57658,     0.57758,     0.57858,     0.57958,     0.58058,     0.58158,     0.58258,     0.58358,     0.58458,     0.58559,     0.58659,     0.58759,     0.58859,     0.58959,     0.59059,     0.59159,     0.59259,     0.59359,     0.59459,      0.5956,      0.5966,      0.5976,      0.5986,      0.5996,\n",
                            "            0.6006,      0.6016,      0.6026,      0.6036,      0.6046,     0.60561,     0.60661,     0.60761,     0.60861,     0.60961,     0.61061,     0.61161,     0.61261,     0.61361,     0.61461,     0.61562,     0.61662,     0.61762,     0.61862,     0.61962,     0.62062,     0.62162,     0.62262,     0.62362,\n",
                            "           0.62462,     0.62563,     0.62663,     0.62763,     0.62863,     0.62963,     0.63063,     0.63163,     0.63263,     0.63363,     0.63463,     0.63564,     0.63664,     0.63764,     0.63864,     0.63964,     0.64064,     0.64164,     0.64264,     0.64364,     0.64464,     0.64565,     0.64665,     0.64765,\n",
                            "           0.64865,     0.64965,     0.65065,     0.65165,     0.65265,     0.65365,     0.65465,     0.65566,     0.65666,     0.65766,     0.65866,     0.65966,     0.66066,     0.66166,     0.66266,     0.66366,     0.66466,     0.66567,     0.66667,     0.66767,     0.66867,     0.66967,     0.67067,     0.67167,\n",
                            "           0.67267,     0.67367,     0.67467,     0.67568,     0.67668,     0.67768,     0.67868,     0.67968,     0.68068,     0.68168,     0.68268,     0.68368,     0.68468,     0.68569,     0.68669,     0.68769,     0.68869,     0.68969,     0.69069,     0.69169,     0.69269,     0.69369,     0.69469,      0.6957,\n",
                            "            0.6967,      0.6977,      0.6987,      0.6997,      0.7007,      0.7017,      0.7027,      0.7037,      0.7047,     0.70571,     0.70671,     0.70771,     0.70871,     0.70971,     0.71071,     0.71171,     0.71271,     0.71371,     0.71471,     0.71572,     0.71672,     0.71772,     0.71872,     0.71972,\n",
                            "           0.72072,     0.72172,     0.72272,     0.72372,     0.72472,     0.72573,     0.72673,     0.72773,     0.72873,     0.72973,     0.73073,     0.73173,     0.73273,     0.73373,     0.73473,     0.73574,     0.73674,     0.73774,     0.73874,     0.73974,     0.74074,     0.74174,     0.74274,     0.74374,\n",
                            "           0.74474,     0.74575,     0.74675,     0.74775,     0.74875,     0.74975,     0.75075,     0.75175,     0.75275,     0.75375,     0.75475,     0.75576,     0.75676,     0.75776,     0.75876,     0.75976,     0.76076,     0.76176,     0.76276,     0.76376,     0.76476,     0.76577,     0.76677,     0.76777,\n",
                            "           0.76877,     0.76977,     0.77077,     0.77177,     0.77277,     0.77377,     0.77477,     0.77578,     0.77678,     0.77778,     0.77878,     0.77978,     0.78078,     0.78178,     0.78278,     0.78378,     0.78478,     0.78579,     0.78679,     0.78779,     0.78879,     0.78979,     0.79079,     0.79179,\n",
                            "           0.79279,     0.79379,     0.79479,      0.7958,      0.7968,      0.7978,      0.7988,      0.7998,      0.8008,      0.8018,      0.8028,      0.8038,      0.8048,     0.80581,     0.80681,     0.80781,     0.80881,     0.80981,     0.81081,     0.81181,     0.81281,     0.81381,     0.81481,     0.81582,\n",
                            "           0.81682,     0.81782,     0.81882,     0.81982,     0.82082,     0.82182,     0.82282,     0.82382,     0.82482,     0.82583,     0.82683,     0.82783,     0.82883,     0.82983,     0.83083,     0.83183,     0.83283,     0.83383,     0.83483,     0.83584,     0.83684,     0.83784,     0.83884,     0.83984,\n",
                            "           0.84084,     0.84184,     0.84284,     0.84384,     0.84484,     0.84585,     0.84685,     0.84785,     0.84885,     0.84985,     0.85085,     0.85185,     0.85285,     0.85385,     0.85485,     0.85586,     0.85686,     0.85786,     0.85886,     0.85986,     0.86086,     0.86186,     0.86286,     0.86386,\n",
                            "           0.86486,     0.86587,     0.86687,     0.86787,     0.86887,     0.86987,     0.87087,     0.87187,     0.87287,     0.87387,     0.87487,     0.87588,     0.87688,     0.87788,     0.87888,     0.87988,     0.88088,     0.88188,     0.88288,     0.88388,     0.88488,     0.88589,     0.88689,     0.88789,\n",
                            "           0.88889,     0.88989,     0.89089,     0.89189,     0.89289,     0.89389,     0.89489,      0.8959,      0.8969,      0.8979,      0.8989,      0.8999,      0.9009,      0.9019,      0.9029,      0.9039,      0.9049,     0.90591,     0.90691,     0.90791,     0.90891,     0.90991,     0.91091,     0.91191,\n",
                            "           0.91291,     0.91391,     0.91491,     0.91592,     0.91692,     0.91792,     0.91892,     0.91992,     0.92092,     0.92192,     0.92292,     0.92392,     0.92492,     0.92593,     0.92693,     0.92793,     0.92893,     0.92993,     0.93093,     0.93193,     0.93293,     0.93393,     0.93493,     0.93594,\n",
                            "           0.93694,     0.93794,     0.93894,     0.93994,     0.94094,     0.94194,     0.94294,     0.94394,     0.94494,     0.94595,     0.94695,     0.94795,     0.94895,     0.94995,     0.95095,     0.95195,     0.95295,     0.95395,     0.95495,     0.95596,     0.95696,     0.95796,     0.95896,     0.95996,\n",
                            "           0.96096,     0.96196,     0.96296,     0.96396,     0.96496,     0.96597,     0.96697,     0.96797,     0.96897,     0.96997,     0.97097,     0.97197,     0.97297,     0.97397,     0.97497,     0.97598,     0.97698,     0.97798,     0.97898,     0.97998,     0.98098,     0.98198,     0.98298,     0.98398,\n",
                            "           0.98498,     0.98599,     0.98699,     0.98799,     0.98899,     0.98999,     0.99099,     0.99199,     0.99299,     0.99399,     0.99499,       0.996,       0.997,       0.998,       0.999,           1]), array([[    0.11937,     0.11948,      0.1481,     0.16755,     0.18291,     0.19566,       0.208,     0.21677,     0.22592,     0.23395,     0.24135,     0.24856,     0.25508,     0.26217,     0.26797,     0.27362,     0.27993,     0.28625,     0.29284,     0.29829,     0.30307,     0.30652,      0.3108,\n",
                            "            0.31454,     0.31844,     0.32264,     0.32612,     0.33096,     0.33408,     0.33704,     0.34004,      0.3438,     0.34674,     0.34938,     0.35343,     0.35555,     0.35883,     0.36203,     0.36527,     0.36759,     0.37161,     0.37434,     0.37656,     0.37931,     0.38254,     0.38579,\n",
                            "            0.38841,     0.39091,     0.39467,     0.39702,     0.39903,     0.40184,     0.40431,       0.407,     0.41008,     0.41256,     0.41557,     0.41658,      0.4187,     0.42112,     0.42399,     0.42627,     0.42717,     0.42968,     0.43205,     0.43372,     0.43579,     0.43875,     0.44138,\n",
                            "            0.44315,     0.44595,     0.44797,     0.44976,     0.45162,     0.45674,     0.45838,     0.46071,     0.46265,     0.46518,     0.46774,     0.46984,     0.47093,     0.47331,     0.47538,     0.47797,      0.4802,     0.48315,     0.48453,     0.48589,     0.48811,      0.4903,     0.49181,\n",
                            "            0.49252,     0.49423,     0.49626,     0.49808,     0.49893,     0.50061,     0.50346,     0.50402,     0.50721,     0.50801,     0.51125,     0.51331,     0.51474,      0.5159,     0.51718,     0.51967,     0.52184,     0.52461,     0.52702,     0.52915,     0.53065,     0.53121,     0.53243,\n",
                            "            0.53377,     0.53434,     0.53542,     0.53799,     0.53888,     0.54106,     0.54322,     0.54407,     0.54527,     0.54608,      0.5476,     0.54919,     0.55003,     0.55304,     0.55601,     0.55789,      0.5591,     0.56176,     0.56343,     0.56461,     0.56616,     0.56739,     0.56795,\n",
                            "             0.5694,     0.57103,     0.57334,     0.57574,     0.57744,     0.57863,     0.57982,     0.58282,     0.58455,      0.5863,     0.58831,     0.58885,     0.59067,     0.59192,     0.59341,     0.59533,     0.59576,     0.59544,     0.59833,     0.59862,     0.59911,      0.5994,     0.60032,\n",
                            "            0.60242,     0.60341,     0.60297,     0.60384,     0.60573,     0.60743,     0.60806,      0.6101,     0.61184,     0.61297,     0.61427,     0.61448,     0.61628,      0.6167,     0.61678,     0.61798,     0.61974,     0.62045,      0.6233,     0.62416,     0.62473,     0.62577,     0.62597,\n",
                            "            0.62754,     0.62867,      0.6292,     0.62972,     0.63029,     0.63418,     0.63577,     0.63657,     0.63747,     0.63839,     0.63942,     0.64095,     0.64171,     0.64253,     0.64326,     0.64399,     0.64588,     0.64643,      0.6475,     0.64848,     0.65036,     0.65296,     0.65508,\n",
                            "            0.65699,     0.65944,     0.66056,     0.66209,     0.66236,     0.66407,     0.66488,     0.66629,     0.66711,     0.66797,     0.66752,     0.67007,     0.67049,     0.67063,     0.67103,     0.67206,     0.67401,     0.67502,     0.67522,     0.67527,     0.67593,     0.67581,     0.67723,\n",
                            "            0.67863,     0.67907,     0.67974,     0.68178,     0.68204,     0.68404,     0.68517,     0.68492,     0.68532,     0.68543,     0.68625,     0.68669,     0.68775,     0.68738,     0.68865,     0.68955,     0.69145,     0.69187,     0.69242,     0.69325,     0.69383,     0.69468,     0.69486,\n",
                            "            0.69772,     0.69985,     0.70135,     0.70353,     0.70397,     0.70574,     0.70727,     0.70816,     0.70942,     0.70981,     0.71101,     0.71164,     0.71587,       0.717,     0.71746,     0.71898,     0.72013,     0.72174,       0.724,     0.72382,     0.72359,     0.72404,     0.72541,\n",
                            "            0.72678,     0.72757,     0.72933,     0.73053,       0.732,     0.73243,     0.73332,     0.73501,     0.73584,     0.73889,     0.73859,     0.73911,     0.74064,     0.74113,     0.74159,     0.74333,      0.7432,     0.74305,     0.74494,      0.7474,     0.74915,     0.75018,     0.75123,\n",
                            "            0.75482,     0.75574,     0.75744,     0.75985,     0.76043,     0.76152,     0.76178,      0.7615,     0.76292,      0.7642,      0.7658,     0.76627,     0.76794,     0.76985,      0.7714,     0.77144,     0.77193,     0.77298,     0.77588,      0.7775,     0.77929,     0.78072,     0.78102,\n",
                            "            0.78134,      0.7812,     0.78153,     0.78209,     0.78222,     0.78202,     0.78188,     0.78593,     0.78646,     0.78796,     0.78827,     0.78879,     0.78972,     0.79057,     0.79009,     0.79472,     0.79729,     0.79783,      0.7976,     0.79882,     0.79912,     0.79976,     0.79964,\n",
                            "            0.79924,      0.7999,     0.80244,     0.80455,     0.80504,     0.80801,      0.8085,     0.80991,     0.80978,     0.81004,     0.81009,     0.81007,     0.81056,     0.81237,     0.81338,     0.81396,     0.81465,     0.81521,     0.81579,     0.81703,     0.81727,      0.8166,     0.81743,\n",
                            "            0.81731,     0.81785,     0.81822,     0.81868,     0.81845,     0.81976,     0.82019,     0.81996,      0.8195,       0.819,     0.81876,     0.81976,     0.82014,     0.82258,     0.82482,     0.82571,     0.82625,     0.82712,     0.82854,     0.82918,     0.83042,     0.82998,     0.83102,\n",
                            "            0.83118,     0.83182,     0.83171,     0.83137,     0.83125,     0.83161,      0.8325,     0.83302,     0.83345,     0.83384,     0.83479,     0.83468,     0.83567,     0.83556,     0.83757,     0.83969,      0.8398,     0.84099,     0.84184,     0.84123,     0.84116,     0.84108,     0.84189,\n",
                            "            0.84279,     0.84341,     0.84355,     0.84344,     0.84304,     0.84361,     0.84376,     0.84417,     0.84476,     0.84443,      0.8442,     0.84398,     0.84334,     0.84323,     0.84339,     0.84502,     0.84479,     0.84617,      0.8474,     0.84794,      0.8478,     0.85142,     0.85187,\n",
                            "            0.85179,     0.85242,     0.85252,     0.85241,     0.85222,     0.85318,     0.85323,     0.85383,     0.85465,     0.85443,     0.85431,      0.8542,     0.85544,     0.86076,      0.8612,     0.86107,     0.86226,     0.86313,     0.86314,     0.86272,     0.86341,     0.86319,     0.86255,\n",
                            "            0.86291,     0.86345,     0.86437,     0.86394,     0.86336,     0.86325,     0.86351,     0.86397,     0.86444,      0.8642,     0.86408,     0.86401,     0.86394,     0.86374,     0.86352,     0.86308,     0.86264,     0.86252,      0.8624,     0.86196,     0.86185,     0.86173,     0.86105,\n",
                            "            0.86222,     0.86339,     0.86316,     0.86461,     0.86531,     0.86523,     0.86572,     0.86621,     0.86771,     0.86726,     0.86681,     0.86659,     0.86634,     0.86783,     0.86933,     0.86983,     0.87021,     0.87212,     0.87152,      0.8714,     0.87078,     0.87033,     0.86995,\n",
                            "            0.86983,     0.87038,     0.87077,     0.87066,     0.87023,     0.86986,     0.86974,      0.8706,     0.87192,     0.87168,     0.87301,     0.87277,     0.87584,     0.87746,     0.87714,      0.8768,     0.87657,     0.87795,     0.87784,     0.87931,      0.8791,     0.87899,     0.87885,\n",
                            "             0.8784,     0.87821,     0.87813,     0.87806,      0.8777,     0.87814,     0.87982,     0.88073,      0.8805,     0.88027,     0.88004,     0.87966,     0.87958,     0.87951,        0.88,     0.88222,     0.88206,     0.88194,     0.88203,      0.8829,     0.88587,     0.88743,     0.88677,\n",
                            "            0.88663,     0.88651,     0.88586,     0.88563,     0.88546,     0.88528,     0.88596,     0.88657,     0.88714,     0.88944,     0.88921,     0.88876,     0.88853,     0.89147,     0.89308,     0.89405,     0.89403,     0.89524,     0.89662,     0.89601,     0.89556,     0.89734,     0.89723,\n",
                            "            0.89871,     0.90198,     0.90352,     0.90309,     0.90266,     0.90382,     0.90521,     0.90698,     0.90753,     0.90711,     0.90668,     0.90625,     0.90603,     0.90745,     0.90733,     0.90722,     0.90681,     0.91061,     0.91096,      0.9109,     0.91083,      0.9105,     0.91028,\n",
                            "            0.91007,     0.91185,     0.91175,     0.91137,      0.9145,     0.91899,     0.92202,     0.92396,     0.92386,     0.92367,     0.92485,       0.928,     0.92763,     0.92745,     0.92726,     0.92689,     0.92651,     0.92632,     0.92605,     0.92584,     0.92812,     0.93039,     0.92968,\n",
                            "            0.92935,     0.93006,     0.93078,     0.93149,     0.93417,     0.93411,     0.93405,     0.93356,     0.93413,     0.93498,     0.93583,     0.93913,     0.94172,     0.94334,     0.94318,     0.94303,     0.94264,     0.94255,     0.94247,     0.94475,     0.94428,     0.94632,     0.94586,\n",
                            "             0.9458,     0.94574,     0.94833,     0.94817,     0.94802,     0.95069,     0.95132,     0.95331,     0.95317,     0.95285,     0.95524,     0.95689,     0.95834,     0.95834,       0.958,     0.95777,     0.95883,     0.96018,     0.95987,     0.95981,      0.9601,     0.96285,     0.96373,\n",
                            "            0.96461,     0.96549,     0.96546,     0.96518,     0.96512,     0.96483,     0.96476,     0.96471,     0.96467,     0.96463,      0.9673,     0.96724,     0.96718,     0.96667,     0.96661,     0.96632,     0.96625,     0.96618,     0.96612,     0.96596,     0.96593,      0.9659,     0.96573,\n",
                            "            0.96565,     0.96684,     0.96855,      0.9688,     0.96872,     0.96865,     0.96826,      0.9682,     0.96813,     0.96792,     0.97133,     0.97127,     0.97111,     0.97104,     0.97087,     0.97069,     0.97066,     0.97063,      0.9706,     0.97325,     0.97414,      0.9741,     0.97396,\n",
                            "            0.97389,     0.97382,     0.97355,      0.9734,     0.97323,     0.97318,     0.97301,     0.97273,     0.97255,     0.97247,      0.9723,     0.97224,     0.97195,     0.97176,     0.97168,      0.9716,     0.97141,     0.97133,     0.97113,     0.97092,     0.97075,     0.97474,     0.97469,\n",
                            "            0.97859,     0.97854,     0.97845,     0.97839,     0.97823,     0.97816,     0.97813,      0.9781,     0.97841,     0.98136,     0.98411,     0.98647,     0.98686,     0.98916,     0.99082,     0.99079,     0.99075,     0.99064,     0.99061,      0.9906,     0.99058,     0.99057,      0.9904,\n",
                            "            0.99015,     0.99005,     0.99002,        0.99,     0.98989,     0.98974,      0.9897,     0.98965,     0.98958,     0.98954,      0.9895,     0.98935,     0.98931,     0.98927,     0.98915,       0.989,     0.98895,     0.98892,     0.98889,     0.98883,      0.9887,     0.98866,     0.98861,\n",
                            "            0.98857,     0.98854,     0.98842,     0.98834,      0.9883,     0.98825,     0.98811,     0.98801,     0.98799,     0.98797,     0.98796,     0.98793,     0.98791,     0.98788,     0.98771,     0.98768,     0.98762,      0.9874,     0.98734,     0.98684,     0.98678,     0.98661,     0.98645,\n",
                            "            0.98629,     0.98625,     0.98617,     0.98599,     0.98595,     0.98586,     0.98579,     0.98575,     0.98572,     0.98565,     0.98547,     0.98536,     0.98526,     0.98519,     0.98508,     0.98496,     0.98488,     0.98472,     0.98447,     0.98442,     0.98436,     0.98424,     0.98418,\n",
                            "            0.98411,     0.98402,      0.9839,     0.98366,     0.98357,     0.98354,      0.9835,     0.98344,     0.98337,     0.99347,     0.99778,           1,           1,           1,           1,           1,           1,           1,           1,           1,           1,           1,           1,\n",
                            "                  1,           1,           1,           1,           1,           1,           1,           1,           1,           1,           1,           1,           1,           1,           1,           1,           1,           1,           1,           1,           1,           1,           1,\n",
                            "                  1,           1,           1,           1,           1,           1,           1,           1,           1,           1,           1,           1,           1,           1,           1,           1,           1,           1,           1,           1,           1,           1,           1,\n",
                            "                  1,           1,           1,           1,           1,           1,           1,           1,           1,           1,           1,           1,           1,           1,           1,           1,           1,           1,           1,           1,           1,           1,           1,\n",
                            "                  1,           1,           1,           1,           1,           1,           1,           1,           1,           1,           1,           1,           1,           1,           1,           1,           1,           1,           1,           1,           1,           1,           1,\n",
                            "                  1,           1,           1,           1,           1,           1,           1,           1,           1,           1,           1,           1,           1,           1,           1,           1,           1,           1,           1,           1,           1,           1,           1,\n",
                            "                  1,           1,           1,           1,           1,           1,           1,           1,           1,           1,           1,           1,           1,           1,           1,           1,           1,           1,           1,           1,           1,           1,           1,\n",
                            "                  1,           1,           1,           1,           1,           1,           1,           1,           1,           1,           1]]), 'Confidence', 'Precision'], [array([          0,    0.001001,    0.002002,    0.003003,    0.004004,    0.005005,    0.006006,    0.007007,    0.008008,    0.009009,     0.01001,    0.011011,    0.012012,    0.013013,    0.014014,    0.015015,    0.016016,    0.017017,    0.018018,    0.019019,     0.02002,    0.021021,    0.022022,    0.023023,\n",
                            "          0.024024,    0.025025,    0.026026,    0.027027,    0.028028,    0.029029,     0.03003,    0.031031,    0.032032,    0.033033,    0.034034,    0.035035,    0.036036,    0.037037,    0.038038,    0.039039,     0.04004,    0.041041,    0.042042,    0.043043,    0.044044,    0.045045,    0.046046,    0.047047,\n",
                            "          0.048048,    0.049049,     0.05005,    0.051051,    0.052052,    0.053053,    0.054054,    0.055055,    0.056056,    0.057057,    0.058058,    0.059059,     0.06006,    0.061061,    0.062062,    0.063063,    0.064064,    0.065065,    0.066066,    0.067067,    0.068068,    0.069069,     0.07007,    0.071071,\n",
                            "          0.072072,    0.073073,    0.074074,    0.075075,    0.076076,    0.077077,    0.078078,    0.079079,     0.08008,    0.081081,    0.082082,    0.083083,    0.084084,    0.085085,    0.086086,    0.087087,    0.088088,    0.089089,     0.09009,    0.091091,    0.092092,    0.093093,    0.094094,    0.095095,\n",
                            "          0.096096,    0.097097,    0.098098,    0.099099,      0.1001,      0.1011,      0.1021,      0.1031,      0.1041,     0.10511,     0.10611,     0.10711,     0.10811,     0.10911,     0.11011,     0.11111,     0.11211,     0.11311,     0.11411,     0.11512,     0.11612,     0.11712,     0.11812,     0.11912,\n",
                            "           0.12012,     0.12112,     0.12212,     0.12312,     0.12412,     0.12513,     0.12613,     0.12713,     0.12813,     0.12913,     0.13013,     0.13113,     0.13213,     0.13313,     0.13413,     0.13514,     0.13614,     0.13714,     0.13814,     0.13914,     0.14014,     0.14114,     0.14214,     0.14314,\n",
                            "           0.14414,     0.14515,     0.14615,     0.14715,     0.14815,     0.14915,     0.15015,     0.15115,     0.15215,     0.15315,     0.15415,     0.15516,     0.15616,     0.15716,     0.15816,     0.15916,     0.16016,     0.16116,     0.16216,     0.16316,     0.16416,     0.16517,     0.16617,     0.16717,\n",
                            "           0.16817,     0.16917,     0.17017,     0.17117,     0.17217,     0.17317,     0.17417,     0.17518,     0.17618,     0.17718,     0.17818,     0.17918,     0.18018,     0.18118,     0.18218,     0.18318,     0.18418,     0.18519,     0.18619,     0.18719,     0.18819,     0.18919,     0.19019,     0.19119,\n",
                            "           0.19219,     0.19319,     0.19419,      0.1952,      0.1962,      0.1972,      0.1982,      0.1992,      0.2002,      0.2012,      0.2022,      0.2032,      0.2042,     0.20521,     0.20621,     0.20721,     0.20821,     0.20921,     0.21021,     0.21121,     0.21221,     0.21321,     0.21421,     0.21522,\n",
                            "           0.21622,     0.21722,     0.21822,     0.21922,     0.22022,     0.22122,     0.22222,     0.22322,     0.22422,     0.22523,     0.22623,     0.22723,     0.22823,     0.22923,     0.23023,     0.23123,     0.23223,     0.23323,     0.23423,     0.23524,     0.23624,     0.23724,     0.23824,     0.23924,\n",
                            "           0.24024,     0.24124,     0.24224,     0.24324,     0.24424,     0.24525,     0.24625,     0.24725,     0.24825,     0.24925,     0.25025,     0.25125,     0.25225,     0.25325,     0.25425,     0.25526,     0.25626,     0.25726,     0.25826,     0.25926,     0.26026,     0.26126,     0.26226,     0.26326,\n",
                            "           0.26426,     0.26527,     0.26627,     0.26727,     0.26827,     0.26927,     0.27027,     0.27127,     0.27227,     0.27327,     0.27427,     0.27528,     0.27628,     0.27728,     0.27828,     0.27928,     0.28028,     0.28128,     0.28228,     0.28328,     0.28428,     0.28529,     0.28629,     0.28729,\n",
                            "           0.28829,     0.28929,     0.29029,     0.29129,     0.29229,     0.29329,     0.29429,      0.2953,      0.2963,      0.2973,      0.2983,      0.2993,      0.3003,      0.3013,      0.3023,      0.3033,      0.3043,     0.30531,     0.30631,     0.30731,     0.30831,     0.30931,     0.31031,     0.31131,\n",
                            "           0.31231,     0.31331,     0.31431,     0.31532,     0.31632,     0.31732,     0.31832,     0.31932,     0.32032,     0.32132,     0.32232,     0.32332,     0.32432,     0.32533,     0.32633,     0.32733,     0.32833,     0.32933,     0.33033,     0.33133,     0.33233,     0.33333,     0.33433,     0.33534,\n",
                            "           0.33634,     0.33734,     0.33834,     0.33934,     0.34034,     0.34134,     0.34234,     0.34334,     0.34434,     0.34535,     0.34635,     0.34735,     0.34835,     0.34935,     0.35035,     0.35135,     0.35235,     0.35335,     0.35435,     0.35536,     0.35636,     0.35736,     0.35836,     0.35936,\n",
                            "           0.36036,     0.36136,     0.36236,     0.36336,     0.36436,     0.36537,     0.36637,     0.36737,     0.36837,     0.36937,     0.37037,     0.37137,     0.37237,     0.37337,     0.37437,     0.37538,     0.37638,     0.37738,     0.37838,     0.37938,     0.38038,     0.38138,     0.38238,     0.38338,\n",
                            "           0.38438,     0.38539,     0.38639,     0.38739,     0.38839,     0.38939,     0.39039,     0.39139,     0.39239,     0.39339,     0.39439,      0.3954,      0.3964,      0.3974,      0.3984,      0.3994,      0.4004,      0.4014,      0.4024,      0.4034,      0.4044,     0.40541,     0.40641,     0.40741,\n",
                            "           0.40841,     0.40941,     0.41041,     0.41141,     0.41241,     0.41341,     0.41441,     0.41542,     0.41642,     0.41742,     0.41842,     0.41942,     0.42042,     0.42142,     0.42242,     0.42342,     0.42442,     0.42543,     0.42643,     0.42743,     0.42843,     0.42943,     0.43043,     0.43143,\n",
                            "           0.43243,     0.43343,     0.43443,     0.43544,     0.43644,     0.43744,     0.43844,     0.43944,     0.44044,     0.44144,     0.44244,     0.44344,     0.44444,     0.44545,     0.44645,     0.44745,     0.44845,     0.44945,     0.45045,     0.45145,     0.45245,     0.45345,     0.45445,     0.45546,\n",
                            "           0.45646,     0.45746,     0.45846,     0.45946,     0.46046,     0.46146,     0.46246,     0.46346,     0.46446,     0.46547,     0.46647,     0.46747,     0.46847,     0.46947,     0.47047,     0.47147,     0.47247,     0.47347,     0.47447,     0.47548,     0.47648,     0.47748,     0.47848,     0.47948,\n",
                            "           0.48048,     0.48148,     0.48248,     0.48348,     0.48448,     0.48549,     0.48649,     0.48749,     0.48849,     0.48949,     0.49049,     0.49149,     0.49249,     0.49349,     0.49449,      0.4955,      0.4965,      0.4975,      0.4985,      0.4995,      0.5005,      0.5015,      0.5025,      0.5035,\n",
                            "            0.5045,     0.50551,     0.50651,     0.50751,     0.50851,     0.50951,     0.51051,     0.51151,     0.51251,     0.51351,     0.51451,     0.51552,     0.51652,     0.51752,     0.51852,     0.51952,     0.52052,     0.52152,     0.52252,     0.52352,     0.52452,     0.52553,     0.52653,     0.52753,\n",
                            "           0.52853,     0.52953,     0.53053,     0.53153,     0.53253,     0.53353,     0.53453,     0.53554,     0.53654,     0.53754,     0.53854,     0.53954,     0.54054,     0.54154,     0.54254,     0.54354,     0.54454,     0.54555,     0.54655,     0.54755,     0.54855,     0.54955,     0.55055,     0.55155,\n",
                            "           0.55255,     0.55355,     0.55455,     0.55556,     0.55656,     0.55756,     0.55856,     0.55956,     0.56056,     0.56156,     0.56256,     0.56356,     0.56456,     0.56557,     0.56657,     0.56757,     0.56857,     0.56957,     0.57057,     0.57157,     0.57257,     0.57357,     0.57457,     0.57558,\n",
                            "           0.57658,     0.57758,     0.57858,     0.57958,     0.58058,     0.58158,     0.58258,     0.58358,     0.58458,     0.58559,     0.58659,     0.58759,     0.58859,     0.58959,     0.59059,     0.59159,     0.59259,     0.59359,     0.59459,      0.5956,      0.5966,      0.5976,      0.5986,      0.5996,\n",
                            "            0.6006,      0.6016,      0.6026,      0.6036,      0.6046,     0.60561,     0.60661,     0.60761,     0.60861,     0.60961,     0.61061,     0.61161,     0.61261,     0.61361,     0.61461,     0.61562,     0.61662,     0.61762,     0.61862,     0.61962,     0.62062,     0.62162,     0.62262,     0.62362,\n",
                            "           0.62462,     0.62563,     0.62663,     0.62763,     0.62863,     0.62963,     0.63063,     0.63163,     0.63263,     0.63363,     0.63463,     0.63564,     0.63664,     0.63764,     0.63864,     0.63964,     0.64064,     0.64164,     0.64264,     0.64364,     0.64464,     0.64565,     0.64665,     0.64765,\n",
                            "           0.64865,     0.64965,     0.65065,     0.65165,     0.65265,     0.65365,     0.65465,     0.65566,     0.65666,     0.65766,     0.65866,     0.65966,     0.66066,     0.66166,     0.66266,     0.66366,     0.66466,     0.66567,     0.66667,     0.66767,     0.66867,     0.66967,     0.67067,     0.67167,\n",
                            "           0.67267,     0.67367,     0.67467,     0.67568,     0.67668,     0.67768,     0.67868,     0.67968,     0.68068,     0.68168,     0.68268,     0.68368,     0.68468,     0.68569,     0.68669,     0.68769,     0.68869,     0.68969,     0.69069,     0.69169,     0.69269,     0.69369,     0.69469,      0.6957,\n",
                            "            0.6967,      0.6977,      0.6987,      0.6997,      0.7007,      0.7017,      0.7027,      0.7037,      0.7047,     0.70571,     0.70671,     0.70771,     0.70871,     0.70971,     0.71071,     0.71171,     0.71271,     0.71371,     0.71471,     0.71572,     0.71672,     0.71772,     0.71872,     0.71972,\n",
                            "           0.72072,     0.72172,     0.72272,     0.72372,     0.72472,     0.72573,     0.72673,     0.72773,     0.72873,     0.72973,     0.73073,     0.73173,     0.73273,     0.73373,     0.73473,     0.73574,     0.73674,     0.73774,     0.73874,     0.73974,     0.74074,     0.74174,     0.74274,     0.74374,\n",
                            "           0.74474,     0.74575,     0.74675,     0.74775,     0.74875,     0.74975,     0.75075,     0.75175,     0.75275,     0.75375,     0.75475,     0.75576,     0.75676,     0.75776,     0.75876,     0.75976,     0.76076,     0.76176,     0.76276,     0.76376,     0.76476,     0.76577,     0.76677,     0.76777,\n",
                            "           0.76877,     0.76977,     0.77077,     0.77177,     0.77277,     0.77377,     0.77477,     0.77578,     0.77678,     0.77778,     0.77878,     0.77978,     0.78078,     0.78178,     0.78278,     0.78378,     0.78478,     0.78579,     0.78679,     0.78779,     0.78879,     0.78979,     0.79079,     0.79179,\n",
                            "           0.79279,     0.79379,     0.79479,      0.7958,      0.7968,      0.7978,      0.7988,      0.7998,      0.8008,      0.8018,      0.8028,      0.8038,      0.8048,     0.80581,     0.80681,     0.80781,     0.80881,     0.80981,     0.81081,     0.81181,     0.81281,     0.81381,     0.81481,     0.81582,\n",
                            "           0.81682,     0.81782,     0.81882,     0.81982,     0.82082,     0.82182,     0.82282,     0.82382,     0.82482,     0.82583,     0.82683,     0.82783,     0.82883,     0.82983,     0.83083,     0.83183,     0.83283,     0.83383,     0.83483,     0.83584,     0.83684,     0.83784,     0.83884,     0.83984,\n",
                            "           0.84084,     0.84184,     0.84284,     0.84384,     0.84484,     0.84585,     0.84685,     0.84785,     0.84885,     0.84985,     0.85085,     0.85185,     0.85285,     0.85385,     0.85485,     0.85586,     0.85686,     0.85786,     0.85886,     0.85986,     0.86086,     0.86186,     0.86286,     0.86386,\n",
                            "           0.86486,     0.86587,     0.86687,     0.86787,     0.86887,     0.86987,     0.87087,     0.87187,     0.87287,     0.87387,     0.87487,     0.87588,     0.87688,     0.87788,     0.87888,     0.87988,     0.88088,     0.88188,     0.88288,     0.88388,     0.88488,     0.88589,     0.88689,     0.88789,\n",
                            "           0.88889,     0.88989,     0.89089,     0.89189,     0.89289,     0.89389,     0.89489,      0.8959,      0.8969,      0.8979,      0.8989,      0.8999,      0.9009,      0.9019,      0.9029,      0.9039,      0.9049,     0.90591,     0.90691,     0.90791,     0.90891,     0.90991,     0.91091,     0.91191,\n",
                            "           0.91291,     0.91391,     0.91491,     0.91592,     0.91692,     0.91792,     0.91892,     0.91992,     0.92092,     0.92192,     0.92292,     0.92392,     0.92492,     0.92593,     0.92693,     0.92793,     0.92893,     0.92993,     0.93093,     0.93193,     0.93293,     0.93393,     0.93493,     0.93594,\n",
                            "           0.93694,     0.93794,     0.93894,     0.93994,     0.94094,     0.94194,     0.94294,     0.94394,     0.94494,     0.94595,     0.94695,     0.94795,     0.94895,     0.94995,     0.95095,     0.95195,     0.95295,     0.95395,     0.95495,     0.95596,     0.95696,     0.95796,     0.95896,     0.95996,\n",
                            "           0.96096,     0.96196,     0.96296,     0.96396,     0.96496,     0.96597,     0.96697,     0.96797,     0.96897,     0.96997,     0.97097,     0.97197,     0.97297,     0.97397,     0.97497,     0.97598,     0.97698,     0.97798,     0.97898,     0.97998,     0.98098,     0.98198,     0.98298,     0.98398,\n",
                            "           0.98498,     0.98599,     0.98699,     0.98799,     0.98899,     0.98999,     0.99099,     0.99199,     0.99299,     0.99399,     0.99499,       0.996,       0.997,       0.998,       0.999,           1]), array([[     0.9399,      0.9399,     0.93399,     0.93005,     0.92611,     0.92217,     0.92217,     0.91921,     0.91724,     0.91626,     0.91429,      0.9133,     0.91323,     0.91133,     0.91133,     0.90739,     0.90739,     0.90739,     0.90739,     0.90542,     0.90443,     0.90345,     0.90246,\n",
                            "            0.90148,     0.90049,     0.89951,     0.89951,      0.8992,     0.89852,     0.89705,     0.89557,     0.89557,     0.89557,     0.89557,     0.89557,     0.89458,     0.89458,     0.89458,     0.89458,     0.89458,     0.89458,     0.89458,     0.89458,     0.89163,     0.89163,     0.89163,\n",
                            "            0.88966,     0.88867,     0.88867,     0.88867,     0.88867,     0.88768,     0.88768,     0.88768,      0.8867,      0.8867,      0.8867,     0.88571,     0.88374,     0.88276,     0.88276,     0.88177,     0.88177,     0.88177,     0.88137,     0.88079,      0.8798,     0.87882,     0.87882,\n",
                            "            0.87882,     0.87783,     0.87783,     0.87783,     0.87783,     0.87685,     0.87586,     0.87586,     0.87586,     0.87488,     0.87488,     0.87487,     0.87389,     0.87389,     0.87291,     0.87291,     0.87192,     0.87192,     0.87146,     0.87094,     0.87094,     0.87094,     0.87094,\n",
                            "            0.86995,     0.86897,     0.86673,     0.86601,     0.86404,     0.86305,     0.86305,     0.86108,     0.86108,     0.86108,     0.86108,     0.85911,     0.85911,     0.85813,     0.85714,       0.857,     0.85616,     0.85517,     0.85517,     0.85517,     0.85419,     0.85419,     0.85222,\n",
                            "            0.85222,     0.85222,     0.85222,     0.85222,     0.85222,     0.85222,     0.85222,     0.85123,     0.85123,     0.85123,     0.85025,     0.84926,     0.84926,     0.84828,     0.84828,     0.84828,     0.84729,     0.84729,     0.84631,     0.84631,     0.84631,     0.84631,     0.84631,\n",
                            "            0.84631,     0.84532,     0.84532,     0.84532,     0.84433,     0.84433,     0.84433,     0.84236,     0.84138,     0.84039,     0.84039,     0.83941,     0.83842,     0.83842,     0.83645,      0.8363,     0.83547,      0.8335,      0.8335,     0.83153,     0.83054,     0.83054,     0.83054,\n",
                            "            0.83054,     0.82956,     0.82562,     0.82562,     0.82463,     0.82463,     0.82463,     0.82365,     0.82309,     0.82167,     0.82167,     0.82167,     0.82167,     0.82112,     0.82069,     0.82069,     0.82069,     0.81872,     0.81836,     0.81773,     0.81773,     0.81713,     0.81675,\n",
                            "            0.81675,     0.81675,     0.81675,     0.81675,     0.81675,     0.81576,     0.81478,     0.81478,     0.81379,     0.81379,     0.81281,     0.81182,     0.80985,     0.80985,     0.80985,      0.8091,     0.80788,      0.8069,     0.80591,     0.80493,     0.80493,     0.80452,     0.80296,\n",
                            "            0.80296,     0.80296,     0.80141,     0.80099,     0.80099,         0.8,         0.8,     0.79803,     0.79803,      0.7968,     0.79518,     0.79409,     0.79409,      0.7931,     0.79212,     0.79145,     0.79037,     0.78787,     0.78653,     0.78424,     0.78294,     0.78227,     0.78227,\n",
                            "            0.78227,     0.78227,     0.78227,     0.78101,      0.7803,      0.7803,     0.77931,     0.77734,     0.77734,     0.77537,      0.7734,      0.7734,     0.77037,     0.76902,     0.76749,     0.76552,     0.76552,     0.76552,     0.76519,     0.76374,     0.76355,     0.76355,     0.76282,\n",
                            "            0.76158,     0.76158,     0.76158,     0.75961,     0.75961,     0.75862,     0.75862,     0.75862,     0.75764,     0.75764,     0.75764,     0.75665,     0.75665,     0.75567,     0.75567,     0.75567,     0.75468,     0.75468,     0.75466,     0.75399,     0.75312,     0.75271,     0.75172,\n",
                            "            0.75074,     0.75074,     0.74877,     0.74877,      0.7481,     0.74581,     0.74483,     0.74483,     0.74483,     0.74483,     0.74325,     0.74243,     0.74187,     0.74187,     0.73793,     0.73793,     0.73565,     0.73507,     0.73498,      0.7346,     0.73399,     0.73399,     0.73202,\n",
                            "            0.73005,     0.73005,     0.73005,     0.73005,     0.73005,     0.72674,     0.72462,     0.72349,     0.72315,     0.72163,     0.72118,     0.72118,     0.71823,     0.71823,     0.71812,     0.71429,     0.71429,     0.71232,     0.70945,     0.70936,     0.70617,     0.70508,     0.70443,\n",
                            "            0.70412,     0.70354,     0.70137,     0.69951,     0.69713,     0.69631,     0.69573,     0.69458,     0.69458,     0.69458,     0.69261,     0.69261,     0.69261,     0.69174,     0.68975,     0.68966,     0.68867,     0.68819,     0.68718,     0.68571,     0.68196,     0.68075,     0.68024,\n",
                            "            0.67783,     0.67743,     0.67628,     0.67586,     0.67586,     0.67586,     0.67586,     0.67583,     0.67525,     0.67488,      0.6724,     0.67094,     0.67094,     0.66995,     0.66995,     0.66995,     0.66995,     0.66798,     0.66754,     0.66601,     0.66539,      0.6624,     0.66207,\n",
                            "            0.66112,     0.65913,     0.65517,     0.65391,      0.6529,     0.65222,     0.65162,     0.65061,     0.64861,     0.64639,     0.64536,     0.64532,     0.64433,     0.64405,     0.64335,     0.64335,     0.64335,     0.64335,      0.6427,     0.64236,     0.64167,     0.63967,     0.63744,\n",
                            "            0.63543,     0.63347,     0.63296,     0.63147,     0.63089,     0.63054,     0.62956,      0.6291,     0.62612,     0.62298,     0.62227,     0.62177,     0.62126,     0.62076,     0.61982,      0.6197,      0.6146,     0.61379,     0.61356,     0.61075,     0.61042,     0.61008,     0.60854,\n",
                            "            0.60741,      0.6069,     0.60559,     0.60508,     0.60324,     0.60197,     0.60122,     0.60099,     0.60099,     0.59893,     0.59792,     0.59691,     0.59401,      0.5935,      0.5931,      0.5909,     0.58989,     0.58916,     0.58916,     0.58785,     0.58522,     0.58424,     0.58359,\n",
                            "            0.58128,     0.58128,     0.58092,     0.58041,     0.57952,     0.57931,     0.57849,     0.57551,     0.57351,      0.5725,     0.57195,     0.57145,     0.57143,     0.57044,     0.57044,     0.56749,      0.5674,     0.56537,     0.55923,     0.55723,     0.55425,     0.55324,     0.55026,\n",
                            "            0.54877,     0.54824,     0.54624,     0.54425,     0.54157,     0.54107,     0.54089,     0.54089,     0.54089,     0.53918,     0.53867,     0.53833,     0.53799,     0.53711,      0.5361,      0.5341,     0.53211,     0.53156,     0.53105,     0.52908,     0.52857,     0.52804,     0.52506,\n",
                            "            0.52405,     0.52304,     0.52118,     0.52118,     0.51903,     0.51823,     0.51823,     0.51823,     0.51696,     0.51496,     0.51297,     0.51196,     0.50837,     0.50837,     0.50837,     0.50693,     0.50542,     0.50393,     0.50121,     0.50071,     0.49794,     0.49595,     0.49427,\n",
                            "            0.49376,     0.49163,     0.49127,     0.49077,      0.4889,      0.4873,     0.48679,      0.4839,     0.48289,     0.48188,     0.48087,     0.47986,      0.4798,      0.4798,     0.47832,     0.47681,      0.4758,     0.47483,     0.47433,     0.47376,     0.47283,     0.47232,     0.47171,\n",
                            "            0.46972,     0.46888,     0.46854,     0.46821,     0.46666,     0.46601,     0.46601,      0.4656,     0.46459,     0.46358,     0.46257,     0.46092,     0.46058,     0.46024,     0.45813,     0.45752,     0.45683,     0.45632,     0.45419,     0.45419,      0.4532,     0.45048,      0.4475,\n",
                            "            0.44689,     0.44638,     0.44348,     0.44247,     0.44176,     0.44095,     0.44039,     0.43893,     0.43744,     0.43592,     0.43491,     0.43292,     0.43191,     0.42893,     0.42792,      0.4266,     0.42393,     0.42095,     0.42069,     0.41597,     0.41398,     0.41338,     0.41287,\n",
                            "            0.41182,     0.40797,     0.40597,     0.40398,     0.40198,     0.39803,     0.39803,     0.39803,     0.39646,     0.39447,     0.39247,     0.39048,     0.38947,     0.38916,     0.38584,     0.38534,     0.38346,     0.38325,     0.38301,     0.38273,     0.38244,     0.38087,     0.37986,\n",
                            "            0.37885,      0.3771,     0.37659,     0.37484,      0.3734,      0.3734,     0.37279,     0.37111,     0.37061,     0.36847,     0.36847,     0.36824,     0.36624,     0.36523,     0.36422,     0.36223,     0.36023,     0.35922,      0.3578,     0.35671,     0.35665,     0.35567,     0.35171,\n",
                            "            0.34975,     0.34975,     0.34975,     0.34975,     0.34954,     0.34921,     0.34887,     0.34609,     0.34581,     0.34581,     0.34581,     0.34483,     0.34483,     0.34447,     0.34346,     0.34245,     0.34002,     0.33943,     0.33892,     0.33693,     0.33395,     0.32998,     0.32706,\n",
                            "            0.32665,     0.32625,     0.32545,     0.32444,     0.32343,     0.32292,     0.32217,     0.32188,     0.32087,     0.31854,     0.31823,     0.31823,     0.31823,      0.3173,     0.31464,     0.31282,     0.30936,     0.30883,     0.30637,     0.30587,     0.30542,     0.30542,     0.30542,\n",
                            "            0.30542,     0.30542,     0.30296,     0.30036,     0.29986,     0.29733,     0.29666,     0.29627,     0.29593,     0.29559,     0.29141,      0.2909,     0.29032,     0.28571,      0.2852,     0.28271,     0.28204,     0.28147,     0.28096,     0.27962,     0.27933,     0.27904,     0.27767,\n",
                            "              0.277,     0.27586,     0.27586,     0.27531,     0.27464,     0.27396,     0.27048,     0.26998,     0.26932,      0.2675,     0.26699,     0.26648,     0.26498,     0.26431,     0.26265,     0.26104,     0.26076,     0.26047,     0.26018,      0.2601,      0.2598,     0.25939,     0.25792,\n",
                            "            0.25725,     0.25657,      0.2538,     0.25238,     0.25077,     0.25026,     0.24861,     0.24597,     0.24431,     0.24363,     0.24207,     0.24157,     0.23899,     0.23733,     0.23665,     0.23598,     0.23432,     0.23365,     0.23199,     0.23023,     0.22888,     0.22814,     0.22764,\n",
                            "            0.22516,     0.22466,     0.22368,     0.22299,     0.22133,     0.22068,     0.22034,        0.22,      0.2197,      0.2197,     0.21675,     0.21557,     0.21379,     0.21379,     0.21263,     0.21196,     0.21102,     0.20864,     0.20797,     0.20759,     0.20725,     0.20691,      0.2033,\n",
                            "            0.19804,     0.19605,     0.19554,     0.19501,     0.19301,     0.19007,      0.1894,      0.1885,     0.18706,     0.18639,     0.18572,     0.18307,      0.1824,     0.18173,     0.17962,      0.1771,     0.17642,      0.1759,      0.1754,     0.17441,     0.17242,     0.17174,     0.17107,\n",
                            "            0.17041,      0.1699,     0.16824,     0.16706,     0.16639,     0.16572,     0.16382,     0.16238,     0.16213,     0.16187,     0.16162,      0.1613,     0.16096,     0.16063,     0.15841,     0.15791,     0.15717,     0.15435,     0.15366,     0.14775,     0.14708,     0.14523,     0.14344,\n",
                            "             0.1418,      0.1413,      0.1405,     0.13863,     0.13823,      0.1374,     0.13668,     0.13635,     0.13601,     0.13539,      0.1336,     0.13259,     0.13173,     0.13105,     0.13005,     0.12905,     0.12838,     0.12695,     0.12489,     0.12448,     0.12399,     0.12307,     0.12256,\n",
                            "            0.12202,     0.12135,     0.12042,     0.11863,       0.118,     0.11771,     0.11742,     0.11705,     0.11654,     0.11626,     0.11626,     0.11495,     0.11329,     0.11279,     0.11126,     0.11025,     0.10912,     0.10729,     0.10662,     0.10606,     0.10556,     0.10321,     0.10193,\n",
                            "           0.099708,    0.095919,    0.094354,    0.093681,    0.090742,    0.088747,    0.087737,     0.08577,    0.084733,    0.084326,    0.083923,    0.082618,     0.08148,    0.080975,    0.080363,    0.078479,     0.07639,    0.075716,    0.075043,    0.073131,    0.071529,    0.071024,    0.069267,\n",
                            "           0.064292,    0.063598,    0.063093,    0.062432,    0.061139,    0.059771,    0.059434,    0.059021,    0.057752,    0.056952,    0.054559,     0.05355,    0.050077,    0.049183,    0.048779,    0.048375,    0.047022,    0.046159,    0.045654,    0.044978,    0.044152,    0.043647,    0.041532,\n",
                            "           0.040446,    0.040011,    0.039607,    0.036431,    0.035421,    0.032441,    0.031431,    0.030421,     0.02828,    0.026923,    0.024928,    0.021948,    0.019216,    0.018465,    0.018129,    0.017792,    0.017316,    0.016811,    0.014879,    0.014324,    0.013819,    0.013154,    0.012481,\n",
                            "           0.011811,    0.011306,    0.010817,    0.010528,     0.01024,   0.0099513,   0.0085258,   0.0068665,   0.0067111,   0.0065558,   0.0064004,    0.006245,   0.0060897,   0.0059343,   0.0053377,   0.0045336,   0.0038018,   0.0034652,   0.0031286,   0.0029323,   0.0028842,   0.0028361,    0.002788,\n",
                            "          0.0027399,   0.0026918,   0.0026437,   0.0025957,   0.0025476,   0.0024995,   0.0024514,   0.0024033,   0.0023552,   0.0023071,    0.002259,   0.0022109,   0.0021628,   0.0021148,   0.0020667,   0.0020186,   0.0019705,   0.0019009,   0.0018312,   0.0017616,   0.0016919,   0.0016223,   0.0015526,\n",
                            "           0.001483,   0.0014133,   0.0013437,    0.001274,   0.0012044,   0.0011348,   0.0010651,  0.00099546,           0,           0,           0,           0,           0,           0,           0,           0,           0,           0,           0,           0,           0,           0,           0,\n",
                            "                  0,           0,           0,           0,           0,           0,           0,           0,           0,           0,           0]]), 'Confidence', 'Recall']]\n",
                            "fitness: 0.3793804254602366\n",
                            "keys: ['metrics/precision(B)', 'metrics/recall(B)', 'metrics/mAP50(B)', 'metrics/mAP50-95(B)']\n",
                            "maps: array([    0.33433])\n",
                            "names: {0: 'human'}\n",
                            "plot: True\n",
                            "results_dict: {'metrics/precision(B)': 0.7719256663074214, 'metrics/recall(B)': 0.7142857142857143, 'metrics/mAP50(B)': 0.784842054080357, 'metrics/mAP50-95(B)': 0.3343291333913343, 'fitness': 0.3793804254602366}\n",
                            "save_dir: WindowsPath('runs/detect/swimming_recognition_model5')\n",
                            "speed: {'preprocess': 0.1572636017112232, 'inference': 2.0201268675025372, 'loss': 0.0, 'postprocess': 0.20310972455287082}\n",
                            "task: 'detect'"
                        ]
                    },
                    "execution_count": 9,
                    "metadata": {},
                    "output_type": "execute_result"
                }
            ],
            "source": [
                "model.train(\n",
                "    data=dataset_path,  # Path to the dataset\n",
                "    epochs=100,          # Number of epochs to train\n",
                "    batch=32,           # Batch size\n",
                "    imgsz=640,          # Image size\n",
                "    name=\"swimming_recognition_model\",  # Name of the training run\n",
                "    device='cuda:0'\n",
                ")"
            ]
        },
        {
            "cell_type": "code",
            "execution_count": 10,
            "metadata": {
                "execution": {
                    "iopub.execute_input": "2024-09-21T12:36:13.054017Z",
                    "iopub.status.busy": "2024-09-21T12:36:13.053600Z",
                    "iopub.status.idle": "2024-09-21T12:36:13.331161Z",
                    "shell.execute_reply": "2024-09-21T12:36:13.329836Z",
                    "shell.execute_reply.started": "2024-09-21T12:36:13.053980Z"
                },
                "trusted": true
            },
            "outputs": [],
            "source": [
                "model.save(\"yolo_v8_with_swimming_recognition_model_2_7k_100_epoch_relabelled.pt\")"
            ]
        },
        {
            "cell_type": "code",
            "execution_count": 11,
            "metadata": {},
            "outputs": [
                {
                    "name": "stdout",
                    "output_type": "stream",
                    "text": [
                        "\n",
                        "image 1/1 c:\\Users\\arman\\Downloads\\Team_Yodo\\test.png: 576x640 5 humans, 46.0ms\n",
                        "Speed: 5.0ms preprocess, 46.0ms inference, 1.0ms postprocess per image at shape (1, 3, 576, 640)\n"
                    ]
                },
                {
                    "data": {
                        "text/plain": [
                            "'results_test.png'"
                        ]
                    },
                    "execution_count": 11,
                    "metadata": {},
                    "output_type": "execute_result"
                }
            ],
            "source": [
                "results = model(\"test.png\")[0]\n",
                "results.save()"
            ]
        },
        {
            "cell_type": "code",
            "execution_count": 15,
            "metadata": {},
            "outputs": [
                {
                    "name": "stdout",
                    "output_type": "stream",
                    "text": [
                        "\n",
                        "image 1/1 c:\\Users\\arman\\Downloads\\Team_Yodo\\test.png: 576x640 1 person, 25.5ms\n",
                        "Speed: 4.0ms preprocess, 25.5ms inference, 1.0ms postprocess per image at shape (1, 3, 576, 640)\n"
                    ]
                }
            ],
            "source": [
                "base_model = YOLO(\"yolov10n.pt\")\n",
                "\n",
                "results = base_model(\"test.png\")[0]\n",
                "results.show()"
            ]
        },
        {
            "cell_type": "code",
            "execution_count": null,
            "metadata": {},
            "outputs": [],
            "source": []
        }
    ],
    "metadata": {
        "kaggle": {
            "accelerator": "gpu",
            "dataSources": [
                {
                    "datasetId": 5743298,
                    "sourceId": 9449224,
                    "sourceType": "datasetVersion"
                },
                {
                    "datasetId": 5743442,
                    "sourceId": 9449404,
                    "sourceType": "datasetVersion"
                }
            ],
            "dockerImageVersionId": 30762,
            "isGpuEnabled": true,
            "isInternetEnabled": true,
            "language": "python",
            "sourceType": "notebook"
        },
        "kernelspec": {
            "display_name": "Python 3",
            "language": "python",
            "name": "python3"
        },
        "language_info": {
            "codemirror_mode": {
                "name": "ipython",
                "version": 3
            },
            "file_extension": ".py",
            "mimetype": "text/x-python",
            "name": "python",
            "nbconvert_exporter": "python",
            "pygments_lexer": "ipython3",
            "version": "3.11.9"
        }
    },
    "nbformat": 4,
    "nbformat_minor": 4
}
